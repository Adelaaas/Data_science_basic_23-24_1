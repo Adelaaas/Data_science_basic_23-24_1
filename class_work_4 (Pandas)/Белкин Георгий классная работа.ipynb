{
 "cells":[
  {
   "cell_type":"markdown",
   "source":[
    "# Pandas"
   ],
   "attachments":{
    
   },
   "metadata":{
    "datalore":{
     "node_id":"e1r6R0OaKIlVXJApINCYrp",
     "type":"MD",
     "hide_input_from_viewers":false,
     "hide_output_from_viewers":false,
     "report_properties":{
      "rowId":"AwVRMyGwBwhFZBeLPuezEM"
     }
    }
   }
  },
  {
   "cell_type":"markdown",
   "source":[
    "**Pandas** это высокоуровневая Python библиотека для анализа данных.\n",
    "\n",
    "В экосистеме Python, pandas является наиболее продвинутой и быстроразвивающейся библиотекой для обработки и анализа данных.\n",
    "\n",
    "Pandas добавляет в Python новые структуры данных — **Series** и **DataFrame**.\n",
    "\n",
    "Для подключения и использования библиотеки, её необходимо подключить следующей командой:\n",
    "\n",
    "\n",
    "```\n",
    "import pandas as pd\n",
    "```\n",
    "\n",
    "Конструкция `as`  позволяет переименовать библиотеку в более короткое название для удобства в дальнейшем при обращении к этой библиотеке и ее методам.\n"
   ],
   "attachments":{
    
   },
   "metadata":{
    "datalore":{
     "node_id":"vxy0eIYEHLcmQgZOKHy8X2",
     "type":"MD",
     "hide_input_from_viewers":false,
     "hide_output_from_viewers":false,
     "report_properties":{
      "rowId":"ZTYMwOZ5BzZt4du5PDBHWf"
     }
    }
   }
  },
  {
   "cell_type":"code",
   "source":[
    "import pandas as pd\n",
    "\n",
    "# pip install pandas"
   ],
   "execution_count":1,
   "outputs":[
    
   ],
   "metadata":{
    "datalore":{
     "node_id":"1QRL49WbYjv8ONvb0buZCr",
     "type":"CODE",
     "hide_input_from_viewers":false,
     "hide_output_from_viewers":false,
     "report_properties":{
      "rowId":"Aff0QIKwpgstATiQYVs6RC"
     }
    }
   }
  },
  {
   "cell_type":"markdown",
   "source":[
    "##Структура данных Series"
   ],
   "attachments":{
    
   },
   "metadata":{
    "datalore":{
     "node_id":"KODAXQf7u8qMCdogfnXONr",
     "type":"MD",
     "hide_input_from_viewers":false,
     "hide_output_from_viewers":false,
     "report_properties":{
      "rowId":"bYsR8q8ZwGH72PvypJ10lT"
     }
    }
   }
  },
  {
   "cell_type":"markdown",
   "source":[
    "**Series** - одномерные массивы данных. Они очень похожи на списки, но отличаются по поведению — например, операции применяются к списку целиком, а в **Series** — поэлементно.\n",
    "\n",
    "Конструктор класса Series выглядит следующим образом:\n",
    "\n",
    "\n",
    "\n",
    "```\n",
    "pd.Series(data=None, index=None, dtype=None, name=None, copy=False, fastpath=False)\n",
    "```\n",
    "- **data** – массив, словарь или скалярное значение, на базе которого будет построен Series;\n",
    "\n",
    "- **index** – список меток, который будет использоваться для доступа к элементам Series. Длина списка должна быть равна длине data;\n",
    "\n",
    "- **dtype** – объект numpy.dtype, определяющий тип данных;\n",
    "\n",
    "- **copy** – создает копию массива данных, если параметр равен True в ином случае ничего не делает.\n",
    "\n",
    "Создать структуру Series можно на базе различных типов данных:\n",
    "\n",
    "- словари Python;\n",
    "- списки Python;\n",
    "- массивы из numpy: ndarray;\n",
    "- скалярные величины."
   ],
   "attachments":{
    
   },
   "metadata":{
    "datalore":{
     "node_id":"jvttA4o9X15JSdUjeca7mr",
     "type":"MD",
     "hide_input_from_viewers":false,
     "hide_output_from_viewers":false,
     "report_properties":{
      "rowId":"hQcOktDzPsd7JLCRUXJYRP"
     }
    }
   }
  },
  {
   "cell_type":"markdown",
   "source":[
    "###Создание Series из списка Python"
   ],
   "attachments":{
    
   },
   "metadata":{
    "datalore":{
     "node_id":"3Qr3f5wKQ4JAyMtVLauPY9",
     "type":"MD",
     "hide_input_from_viewers":false,
     "hide_output_from_viewers":false,
     "report_properties":{
      "rowId":"bGTM3Es32h66OaTj2ncQ05"
     }
    }
   }
  },
  {
   "cell_type":"code",
   "source":[
    "lst = [1, 2, 3, 4, 5] # создание списка Python\n",
    "\n",
    "s = pd.Series(lst) # создание Series\n",
    "# Если индекс явно не задан, то pandas автоматически создаёт RangeIndex от 0 до N-1, где N общее количество элементов.\n",
    "\n",
    "s"
   ],
   "execution_count":2,
   "outputs":[
    {
     "data":{
      "text\/html":[
       "<pre>0    1\n",
       "1    2\n",
       "2    3\n",
       "3    4\n",
       "4    5\n",
       "dtype: int64<\/pre>"
      ]
     },
     "metadata":{
      
     },
     "output_type":"display_data"
    }
   ],
   "metadata":{
    "datalore":{
     "node_id":"luatu6uDr4iOjvhR6DvhWu",
     "type":"CODE",
     "hide_input_from_viewers":false,
     "hide_output_from_viewers":false,
     "report_properties":{
      "rowId":"5MnfPhjnPJ9uIHKNChAG91"
     }
    }
   }
  },
  {
   "cell_type":"code",
   "source":[
    "type(s)"
   ],
   "execution_count":3,
   "outputs":[
    {
     "data":{
      "text\/plain":[
       "pandas.core.series.Series"
      ]
     },
     "metadata":{
      
     },
     "output_type":"display_data"
    }
   ],
   "metadata":{
    "datalore":{
     "node_id":"49YU0R0eyFsgPqsG2hxvWv",
     "type":"CODE",
     "hide_input_from_viewers":false,
     "hide_output_from_viewers":false,
     "report_properties":{
      "rowId":"3svo80lAUTKvWoAJDZofMi"
     }
    }
   }
  },
  {
   "cell_type":"code",
   "source":[
    "lst = ['Мария', 'Петр', 'Иван'] # создание списка Python\n",
    "\n",
    "s = pd.Series(data=lst , index=['name', 'age', 'smt']) # создание Series с заданием меток (именованые метки - a, b, c)\n",
    "\n",
    "s"
   ],
   "execution_count":4,
   "outputs":[
    {
     "data":{
      "text\/html":[
       "<pre>name    Мария\n",
       "age      Петр\n",
       "smt      Иван\n",
       "dtype: object<\/pre>"
      ]
     },
     "metadata":{
      
     },
     "output_type":"display_data"
    }
   ],
   "metadata":{
    "datalore":{
     "node_id":"LtCaR7aaZJo1Ppcc1yGJ7M",
     "type":"CODE",
     "hide_input_from_viewers":false,
     "hide_output_from_viewers":false,
     "report_properties":{
      "rowId":"YqL6KuEnaLuYdTH5RNBO3V"
     }
    }
   }
  },
  {
   "cell_type":"markdown",
   "source":[
    "###Создание Series из ndarray массива из numpy"
   ],
   "attachments":{
    
   },
   "metadata":{
    "datalore":{
     "node_id":"sC4O84Vk6U3VAPKAYNpP1V",
     "type":"MD",
     "hide_input_from_viewers":false,
     "hide_output_from_viewers":false,
     "report_properties":{
      "rowId":"TP3bkzAR3t0QigPGpebzbV"
     }
    }
   }
  },
  {
   "cell_type":"code",
   "source":[
    "import numpy as np\n",
    "\n",
    "ndarr = np.array([1, 2, 3, 4, 5])\n",
    "type(ndarr)"
   ],
   "execution_count":5,
   "outputs":[
    {
     "data":{
      "text\/plain":[
       "numpy.ndarray"
      ]
     },
     "metadata":{
      
     },
     "output_type":"display_data"
    }
   ],
   "metadata":{
    "datalore":{
     "node_id":"xk2tAqYuEvU9ct9Vl8146N",
     "type":"CODE",
     "hide_input_from_viewers":false,
     "hide_output_from_viewers":false,
     "report_properties":{
      "rowId":"0zC7nAlC7I5sHUyikEmLPv"
     }
    }
   }
  },
  {
   "cell_type":"code",
   "source":[
    "s2 = pd.Series(ndarr, ['a', 'b', 'c', 'd', 'e'])\n",
    "s2"
   ],
   "execution_count":6,
   "outputs":[
    {
     "data":{
      "text\/html":[
       "<pre>a    1\n",
       "b    2\n",
       "c    3\n",
       "d    4\n",
       "e    5\n",
       "dtype: int64<\/pre>"
      ]
     },
     "metadata":{
      
     },
     "output_type":"display_data"
    }
   ],
   "metadata":{
    "datalore":{
     "node_id":"H2FaygMo6znm9KdDmP1Ka9",
     "type":"CODE",
     "hide_input_from_viewers":false,
     "hide_output_from_viewers":false,
     "report_properties":{
      "rowId":"YBK9CMO4ZuGT849gWQfmwh"
     }
    }
   }
  },
  {
   "cell_type":"markdown",
   "source":[
    "###Создание Series из словаря (dict)"
   ],
   "attachments":{
    
   },
   "metadata":{
    "datalore":{
     "node_id":"ACOlki6HDjeGzhkT9tcgqG",
     "type":"MD",
     "hide_input_from_viewers":false,
     "hide_output_from_viewers":false,
     "report_properties":{
      "rowId":"k6os5VZkJHVHOv4VIDLhp0"
     }
    }
   }
  },
  {
   "cell_type":"code",
   "source":[
    "d = {'a':1, 'b':2, 'c':3}\n",
    "s3 = pd.Series(d)\n",
    "s3"
   ],
   "execution_count":7,
   "outputs":[
    {
     "data":{
      "text\/html":[
       "<pre>a    1\n",
       "b    2\n",
       "c    3\n",
       "dtype: int64<\/pre>"
      ]
     },
     "metadata":{
      
     },
     "output_type":"display_data"
    }
   ],
   "metadata":{
    "datalore":{
     "node_id":"QmWJWhhheNYCtwRN0TPGIu",
     "type":"CODE",
     "hide_input_from_viewers":false,
     "hide_output_from_viewers":false,
     "report_properties":{
      "rowId":"JVYDpMar1K7G5goShfJjj9"
     }
    }
   }
  },
  {
   "cell_type":"markdown",
   "source":[
    "###Создание Series с использованием константы"
   ],
   "attachments":{
    
   },
   "metadata":{
    "datalore":{
     "node_id":"MgjMtABhxwd5ZONOWR9wtP",
     "type":"MD",
     "hide_input_from_viewers":false,
     "hide_output_from_viewers":false,
     "report_properties":{
      "rowId":"S1e1fnvSbVbiWsZtkvt8Oy"
     }
    }
   }
  },
  {
   "cell_type":"code",
   "source":[
    "a = 7\n",
    "\n",
    "s4 = pd.Series(a, ['a', 'b', 'c'])\n",
    "\n",
    "s4"
   ],
   "execution_count":8,
   "outputs":[
    {
     "data":{
      "text\/html":[
       "<pre>a    7\n",
       "b    7\n",
       "c    7\n",
       "dtype: int64<\/pre>"
      ]
     },
     "metadata":{
      
     },
     "output_type":"display_data"
    }
   ],
   "metadata":{
    "datalore":{
     "node_id":"howwckFasdKDQHZQn62Si3",
     "type":"CODE",
     "hide_input_from_viewers":false,
     "hide_output_from_viewers":false,
     "report_properties":{
      "rowId":"SKePAsKs3Xnk8ADw0CYhCb"
     }
    }
   }
  },
  {
   "cell_type":"code",
   "source":[
    "type(s4)"
   ],
   "execution_count":15,
   "outputs":[
    {
     "data":{
      "text\/plain":[
       "pandas.core.series.Series"
      ]
     },
     "metadata":{
      
     },
     "output_type":"display_data"
    }
   ],
   "metadata":{
    "datalore":{
     "node_id":"NaTbAqAGWAoHA7JOQ5ooR8",
     "type":"CODE",
     "hide_input_from_viewers":false,
     "hide_output_from_viewers":false,
     "report_properties":{
      "rowId":"YVsoIY92I61RsqUkplCim5"
     }
    }
   }
  },
  {
   "cell_type":"markdown",
   "source":[
    "У объекта **Series** есть атрибуты через которые можно получить список элементов и индексы, это **values** и **index** соответственно."
   ],
   "attachments":{
    
   },
   "metadata":{
    "datalore":{
     "node_id":"BJAsb7DBJOiUZHcxiWyqyu",
     "type":"MD",
     "hide_input_from_viewers":false,
     "hide_output_from_viewers":false,
     "report_properties":{
      "rowId":"5xBnUQWtrHKeDclTtUBVzm"
     }
    }
   }
  },
  {
   "cell_type":"code",
   "source":[
    "print(s4.index)\n",
    "print('_'*10)\n",
    "print(s4.values)"
   ],
   "execution_count":9,
   "outputs":[
    {
     "name":"stdout",
     "text":[
      "Index(['a', 'b', 'c'], dtype='object')\n",
      "__________\n",
      "[7 7 7]\n"
     ],
     "output_type":"stream"
    }
   ],
   "metadata":{
    "datalore":{
     "node_id":"E0GEhaXE6WN9QY1yK36DwE",
     "type":"CODE",
     "hide_input_from_viewers":false,
     "hide_output_from_viewers":false,
     "report_properties":{
      "rowId":"dhwRrtkPyctUqBKNeG0OZP"
     }
    }
   }
  },
  {
   "cell_type":"markdown",
   "source":[
    "###Работа с элементами Series"
   ],
   "attachments":{
    
   },
   "metadata":{
    "datalore":{
     "node_id":"G162rznA7v5Ory3KRvj7zO",
     "type":"MD",
     "hide_input_from_viewers":false,
     "hide_output_from_viewers":false,
     "report_properties":{
      "rowId":"GugbtXMPSZFcBItfmKpd3w"
     }
    }
   }
  },
  {
   "cell_type":"markdown",
   "source":[
    "К элементам Series можно обращаться по численному индексу, при таком подходе работа со структурой не отличается от работы со списками в Python."
   ],
   "attachments":{
    
   },
   "metadata":{
    "datalore":{
     "node_id":"o2DmNmaYzCpMPkSEQIOl1L",
     "type":"MD",
     "hide_input_from_viewers":false,
     "hide_output_from_viewers":false,
     "report_properties":{
      "rowId":"4sgIqTgr2w2uy38QO9Cb9c"
     }
    }
   }
  },
  {
   "cell_type":"code",
   "source":[
    "# Создание Series из списка Python\n",
    "s5 = pd.Series(['Иван', 'Петр', 'Мария', 'Анастасия', 'Федор'], ['a', 'b', 'c', 'd', 'e'])\n",
    "s5"
   ],
   "execution_count":10,
   "outputs":[
    {
     "data":{
      "text\/html":[
       "<pre>a         Иван\n",
       "b         Петр\n",
       "c        Мария\n",
       "d    Анастасия\n",
       "e        Федор\n",
       "dtype: object<\/pre>"
      ]
     },
     "metadata":{
      
     },
     "output_type":"display_data"
    }
   ],
   "metadata":{
    "datalore":{
     "node_id":"h1lDARXVpktLpJoMuPsztB",
     "type":"CODE",
     "hide_input_from_viewers":false,
     "hide_output_from_viewers":false,
     "report_properties":{
      "rowId":"GhjHvFl8zNAGj9XlTbgtrl"
     }
    }
   }
  },
  {
   "cell_type":"code",
   "source":[
    "# Обращание ко третьему элементу Series (нумерация начинается с 0)\n",
    "print(s5[2])"
   ],
   "execution_count":11,
   "outputs":[
    {
     "name":"stdout",
     "text":[
      "Мария\n"
     ],
     "output_type":"stream"
    }
   ],
   "metadata":{
    "datalore":{
     "node_id":"FdHC248nhCCeV0nMz1Zupy",
     "type":"CODE",
     "hide_input_from_viewers":false,
     "hide_output_from_viewers":false,
     "report_properties":{
      "rowId":"7wT7yGQTGLZNweqtsXeyIU"
     }
    }
   }
  },
  {
   "cell_type":"markdown",
   "source":[
    "Можно использовать метку, тогда работа с **Series** будет похожа на работу со словарем (dict) в Python."
   ],
   "attachments":{
    
   },
   "metadata":{
    "datalore":{
     "node_id":"20BrwMaSEXM5HYBHCXaHZr",
     "type":"MD",
     "hide_input_from_viewers":false,
     "hide_output_from_viewers":false,
     "report_properties":{
      "rowId":"dTzkc0dCxCsFw9QZvQCDYh"
     }
    }
   }
  },
  {
   "cell_type":"code",
   "source":[
    "# Обращание ко третьему элементу Series по заданному индексу (нумерация начинается с 0)\n",
    "print(s5['c'])"
   ],
   "execution_count":12,
   "outputs":[
    {
     "name":"stdout",
     "text":[
      "Мария\n"
     ],
     "output_type":"stream"
    }
   ],
   "metadata":{
    "datalore":{
     "node_id":"A1gOmkabOTOfcPzcww6sqT",
     "type":"CODE",
     "hide_input_from_viewers":false,
     "hide_output_from_viewers":false,
     "report_properties":{
      "rowId":"mn6L9uQzPNCeHbGEwU2lDq"
     }
    }
   }
  },
  {
   "cell_type":"markdown",
   "source":[
    "В поле для индекса можно поместить условное выражение."
   ],
   "attachments":{
    
   },
   "metadata":{
    "datalore":{
     "node_id":"hXURaUER9FhHKK0ljwALUc",
     "type":"MD",
     "hide_input_from_viewers":false,
     "hide_output_from_viewers":false,
     "report_properties":{
      "rowId":"W3ckqU4HMbaF4IvtjyL9V5"
     }
    }
   }
  },
  {
   "cell_type":"code",
   "source":[
    "s6 = pd.Series([10, 13, 1, 5, 0], ['a', 'b', 'c', 'd', 'e'])\n",
    "\n",
    "# Выведет все значения в Series меньше трех\n",
    "s6[s6 == 0]"
   ],
   "execution_count":13,
   "outputs":[
    {
     "data":{
      "text\/html":[
       "<pre>e    0\n",
       "dtype: int64<\/pre>"
      ]
     },
     "metadata":{
      
     },
     "output_type":"display_data"
    }
   ],
   "metadata":{
    "datalore":{
     "node_id":"TyaAKGtlQiYfbPANlxLOPw",
     "type":"CODE",
     "hide_input_from_viewers":false,
     "hide_output_from_viewers":false,
     "report_properties":{
      "rowId":"o0DA9sfoLknoXez0L1Fi13"
     }
    }
   }
  },
  {
   "cell_type":"code",
   "source":[
    "s6"
   ],
   "execution_count":29,
   "outputs":[
    {
     "data":{
      "text\/plain":[
       "a    10\n",
       "b    13\n",
       "c     1\n",
       "d     5\n",
       "e     0\n",
       "dtype: int64"
      ]
     },
     "metadata":{
      
     },
     "output_type":"display_data"
    }
   ],
   "metadata":{
    "datalore":{
     "node_id":"hNvOr7go4jGxEKEasIM7ST",
     "type":"CODE",
     "hide_input_from_viewers":false,
     "hide_output_from_viewers":false,
     "report_properties":{
      "rowId":"iy9oYWWRfYep38Ubst3RW6"
     }
    }
   }
  },
  {
   "cell_type":"code",
   "source":[
    "# Получение элементов с метками 'a', 'c' и 'e':\n",
    "s6[['a', 'c', 'e']]"
   ],
   "execution_count":30,
   "outputs":[
    {
     "data":{
      "text\/plain":[
       "a    10\n",
       "c     1\n",
       "e     0\n",
       "dtype: int64"
      ]
     },
     "metadata":{
      
     },
     "output_type":"display_data"
    }
   ],
   "metadata":{
    "datalore":{
     "node_id":"FidR6M5bytgx8DDhFGISIl",
     "type":"CODE",
     "hide_input_from_viewers":false,
     "hide_output_from_viewers":false,
     "report_properties":{
      "rowId":"PtjD3G6v31vGhlGNAOXQZu"
     }
    }
   }
  },
  {
   "cell_type":"code",
   "source":[
    "s6"
   ],
   "execution_count":31,
   "outputs":[
    {
     "data":{
      "text\/plain":[
       "a    10\n",
       "b    13\n",
       "c     1\n",
       "d     5\n",
       "e     0\n",
       "dtype: int64"
      ]
     },
     "metadata":{
      
     },
     "output_type":"display_data"
    }
   ],
   "metadata":{
    "datalore":{
     "node_id":"Nd7NsqQIehjjRYgiKmuyET",
     "type":"CODE",
     "hide_input_from_viewers":false,
     "hide_output_from_viewers":false,
     "report_properties":{
      "rowId":"LIUK9aDfiFTfklClaQfEIE"
     }
    }
   }
  },
  {
   "cell_type":"markdown",
   "source":[
    "Обращение по слайсу (срезу) меток.\n",
    "\n",
    "Получение элементов структуры с метками от 'a' до 'd':"
   ],
   "attachments":{
    
   },
   "metadata":{
    "datalore":{
     "node_id":"qnqFH42Qp0WXL6gUhRjIBz",
     "type":"MD",
     "hide_input_from_viewers":false,
     "hide_output_from_viewers":false,
     "report_properties":{
      "rowId":"UDQJecFYFofMNN4fQOTzLR"
     }
    }
   }
  },
  {
   "cell_type":"code",
   "source":[
    "s6['a':'d']"
   ],
   "execution_count":34,
   "outputs":[
    {
     "data":{
      "text\/plain":[
       "a    10\n",
       "b    13\n",
       "c     1\n",
       "d     5\n",
       "dtype: int64"
      ]
     },
     "metadata":{
      
     },
     "output_type":"display_data"
    }
   ],
   "metadata":{
    "datalore":{
     "node_id":"fYaomcM73f90jhnKabi3XU",
     "type":"CODE",
     "hide_input_from_viewers":false,
     "hide_output_from_viewers":false,
     "report_properties":{
      "rowId":"Mxp4nIg3MG6InlzkMvFN3t"
     }
    }
   }
  },
  {
   "cell_type":"markdown",
   "source":[
    "Получение элементов стурктуры с индексами от 0 до 4:"
   ],
   "attachments":{
    
   },
   "metadata":{
    "datalore":{
     "node_id":"bBj2xXqpdnlJ3VVWRZX7Ry",
     "type":"MD",
     "hide_input_from_viewers":false,
     "hide_output_from_viewers":false,
     "report_properties":{
      "rowId":"wspJVWUOuaFuDgCadMxZhu"
     }
    }
   }
  },
  {
   "cell_type":"code",
   "source":[
    "s6[:]"
   ],
   "execution_count":35,
   "outputs":[
    {
     "data":{
      "text\/plain":[
       "a    10\n",
       "b    13\n",
       "c     1\n",
       "d     5\n",
       "dtype: int64"
      ]
     },
     "metadata":{
      
     },
     "output_type":"display_data"
    }
   ],
   "metadata":{
    "datalore":{
     "node_id":"raqgADkqz5UcJP4qlA8M3G",
     "type":"CODE",
     "hide_input_from_viewers":false,
     "hide_output_from_viewers":false,
     "report_properties":{
      "rowId":"ZlBEcpBalYvewOMgp2mcgq"
     }
    }
   }
  },
  {
   "cell_type":"markdown",
   "source":[
    "###Работа с Series"
   ],
   "attachments":{
    
   },
   "metadata":{
    "datalore":{
     "node_id":"3CT0rCOwX9CxEAL4WQguog",
     "type":"MD",
     "hide_input_from_viewers":false,
     "hide_output_from_viewers":false,
     "report_properties":{
      "rowId":"Ra5MxuOiL41Yz3FI7LfuMm"
     }
    }
   }
  },
  {
   "cell_type":"markdown",
   "source":[
    "Со структурами Series можно работать как с векторами: складывать, умножать вектор на число и т.п."
   ],
   "attachments":{
    
   },
   "metadata":{
    "datalore":{
     "node_id":"8CBOz6yW8dMQhzERxyybHP",
     "type":"MD",
     "hide_input_from_viewers":false,
     "hide_output_from_viewers":false,
     "report_properties":{
      "rowId":"AkT1Y5tZ1CpQyn6x92KHVH"
     }
    }
   }
  },
  {
   "cell_type":"code",
   "source":[
    "s7 = pd.Series([10, 2, 30, 40, 50, 8], ['a', 'b', 'c', 'd', 'e', 'a'])\n",
    "s7"
   ],
   "execution_count":42,
   "outputs":[
    {
     "data":{
      "text\/plain":[
       "a    10\n",
       "b     2\n",
       "c    30\n",
       "d    40\n",
       "e    50\n",
       "a     8\n",
       "dtype: int64"
      ]
     },
     "metadata":{
      
     },
     "output_type":"display_data"
    }
   ],
   "metadata":{
    "datalore":{
     "node_id":"3ydln1MA7dYgsuWi48YL73",
     "type":"CODE",
     "hide_input_from_viewers":false,
     "hide_output_from_viewers":false,
     "report_properties":{
      "rowId":"rMvD3Ugni6QWZaGiqy36yM"
     }
    }
   }
  },
  {
   "cell_type":"code",
   "source":[
    "s7[s7 < 10] \/ 10"
   ],
   "execution_count":45,
   "outputs":[
    {
     "data":{
      "text\/plain":[
       "b    0.2\n",
       "a    0.8\n",
       "dtype: float64"
      ]
     },
     "metadata":{
      
     },
     "output_type":"display_data"
    }
   ],
   "metadata":{
    "datalore":{
     "node_id":"jGu0A3D5EAdJFHEl7YOKbn",
     "type":"CODE",
     "hide_input_from_viewers":false,
     "hide_output_from_viewers":false,
     "report_properties":{
      "rowId":"YPr4Lc1M5mrTRP5zxmU9UN"
     }
    }
   }
  },
  {
   "cell_type":"code",
   "source":[
    "s7 = pd.Series([10, 20, 30, 40, 50], ['a', 'b', 'c', 'd', 'e'])\n",
    "s8 = pd.Series([1, 1, 1, 1, 0], ['a', 'b', 'c', 'd', 'e'])\n",
    "\n",
    "# сложение\n",
    "# к каждому элементу s7 прибавляется каждый элемент s8\n",
    "# для корректного сложения необходимо, чтобы длинна Series совпадла\n",
    "s9 = s7 + s8\n",
    "s9"
   ],
   "execution_count":49,
   "outputs":[
    {
     "data":{
      "text\/plain":[
       "a    11\n",
       "b    21\n",
       "c    31\n",
       "d    41\n",
       "e    50\n",
       "dtype: int64"
      ]
     },
     "metadata":{
      
     },
     "output_type":"display_data"
    }
   ],
   "metadata":{
    "datalore":{
     "node_id":"OVb2zMFMioIQYVTNoTTP6r",
     "type":"CODE",
     "hide_input_from_viewers":false,
     "hide_output_from_viewers":false,
     "report_properties":{
      "rowId":"cN1zXqXWbKWZ6DTa36UpXG"
     }
    }
   }
  },
  {
   "cell_type":"code",
   "source":[
    "# Каждый элемент s7 увеличится в 3 раза\n",
    "s9 = s7 * 3\n",
    "\n",
    "s9"
   ],
   "execution_count":35,
   "outputs":[
    {
     "data":{
      "text\/plain":[
       "a     30\n",
       "b     60\n",
       "c     90\n",
       "d    120\n",
       "e    150\n",
       "dtype: int64"
      ]
     },
     "metadata":{
      
     },
     "output_type":"display_data"
    }
   ],
   "metadata":{
    "datalore":{
     "node_id":"NwCRxu3MNd5HtdHOyPG8iO",
     "type":"CODE",
     "hide_input_from_viewers":false,
     "hide_output_from_viewers":false,
     "report_properties":{
      "rowId":"Uw15S3ThXcK4b5UZIqldKF"
     }
    }
   }
  },
  {
   "cell_type":"markdown",
   "source":[
    "##Структура данных DataFrame"
   ],
   "attachments":{
    
   },
   "metadata":{
    "datalore":{
     "node_id":"wkObQNgIJV9XcLlQMImZgM",
     "type":"MD",
     "hide_input_from_viewers":false,
     "hide_output_from_viewers":false,
     "report_properties":{
      "rowId":"iIulaoaT3pLS6CdWHNTS5Y"
     }
    }
   }
  },
  {
   "cell_type":"markdown",
   "source":[
    "Если **Series** представляет собой одномерную структуру, которую для себя можно представить как таблицу с одной строкой, то **DataFrame** – это уже двумерная структура – полноценная таблица с множеством строк и столбцов.\n",
    "\n",
    "Конструктор класса DataFrame выглядит так:\n",
    "\n",
    "\n",
    "\n",
    "```\n",
    "pd.DataFrame(data=None, index=None, columns=None, dtype=None, copy=False)\n",
    "```\n",
    "\n",
    "- **data** – массив ndarray, словарь (dict) или другой DataFrame;\n",
    "\n",
    "- **index** – список меток для записей (имена строк таблицы);\n",
    "\n",
    "- **columns** – список меток для полей (имена столбцов таблицы);\n",
    "\n",
    "- **dtype** – объект numpy.dtype, определяющий тип данных;\n",
    "\n",
    "- **copy** – создает копию массива данных, если параметр равен True в ином случае ничего не делает.\n",
    "\n",
    "Cтруктуру **DataFrame** можно создать на базе:\n",
    "\n",
    "- словаря (dict) в качестве элементов которого должны выступать: одномерные - ndarray, списки, другие словари, структуры Series;\n",
    "- двумерные ndarray;\n",
    " структуры Series;\n",
    "- структурированные ndarray;\n",
    "- другие DataFrame.\n"
   ],
   "attachments":{
    
   },
   "metadata":{
    "datalore":{
     "node_id":"zmFg4hweEJZFeQ1rCWCuJW",
     "type":"MD",
     "hide_input_from_viewers":false,
     "hide_output_from_viewers":false,
     "report_properties":{
      "rowId":"98UY32I7YOHcBcbsoldV3Z"
     }
    }
   }
  },
  {
   "cell_type":"markdown",
   "source":[
    "###Создание DataFrame из словаря"
   ],
   "attachments":{
    
   },
   "metadata":{
    "datalore":{
     "node_id":"mnLKSkS1P5HAXRto6HmWab",
     "type":"MD",
     "hide_input_from_viewers":false,
     "hide_output_from_viewers":false,
     "report_properties":{
      "rowId":"WUttMYZtgGq1re7hwvEJ1D"
     }
    }
   }
  },
  {
   "cell_type":"code",
   "source":[
    "import pandas as pd\n",
    "\n",
    "d = {\"Name\":pd.Series(['Виктор', 'Мария', 'Иван']),\n",
    "     \"Age\": pd.Series([18, 21, 19])}\n",
    "\n",
    "df = pd.DataFrame(d)\n",
    "df"
   ],
   "execution_count":50,
   "outputs":[
    {
     "data":{
      "text\/html":[
       "<div>\n",
       "<style scoped>\n",
       "    .dataframe tbody tr th:only-of-type {\n",
       "        vertical-align: middle;\n",
       "    }\n",
       "\n",
       "    .dataframe tbody tr th {\n",
       "        vertical-align: top;\n",
       "    }\n",
       "\n",
       "    .dataframe thead th {\n",
       "        text-align: right;\n",
       "    }\n",
       "<\/style>\n",
       "<table border=\"1\" class=\"dataframe\">\n",
       "  <thead>\n",
       "    <tr style=\"text-align: right;\">\n",
       "      <th><\/th>\n",
       "      <th>Name<\/th>\n",
       "      <th>Age<\/th>\n",
       "    <\/tr>\n",
       "  <\/thead>\n",
       "  <tbody>\n",
       "    <tr>\n",
       "      <th>0<\/th>\n",
       "      <td>Виктор<\/td>\n",
       "      <td>18<\/td>\n",
       "    <\/tr>\n",
       "    <tr>\n",
       "      <th>1<\/th>\n",
       "      <td>Мария<\/td>\n",
       "      <td>21<\/td>\n",
       "    <\/tr>\n",
       "    <tr>\n",
       "      <th>2<\/th>\n",
       "      <td>Иван<\/td>\n",
       "      <td>19<\/td>\n",
       "    <\/tr>\n",
       "  <\/tbody>\n",
       "<\/table>\n",
       "<\/div>"
      ]
     },
     "metadata":{
      
     },
     "output_type":"display_data"
    },
    {
     "data":{
      "text\/plain":[
       "     Name  Age\n",
       "0  Виктор   18\n",
       "1   Мария   21\n",
       "2    Иван   19"
      ]
     },
     "metadata":{
      
     },
     "output_type":"display_data"
    }
   ],
   "metadata":{
    "datalore":{
     "node_id":"XxpcwzBVrbAmMq2hstpXYM",
     "type":"CODE",
     "hide_input_from_viewers":false,
     "hide_output_from_viewers":false,
     "report_properties":{
      "rowId":"4j2pvbiwBL0DUtEwvSWg8b"
     }
    }
   }
  },
  {
   "cell_type":"markdown",
   "source":[
    "###Создание DataFrame из списка словарей"
   ],
   "attachments":{
    
   },
   "metadata":{
    "datalore":{
     "node_id":"bUQUQjloe1HVzttUsN0sb0",
     "type":"MD",
     "hide_input_from_viewers":false,
     "hide_output_from_viewers":false,
     "report_properties":{
      "rowId":"m5iWIXKaG0W27qjAqBhyVh"
     }
    }
   }
  },
  {
   "cell_type":"code",
   "source":[
    "d = [{\"Name\": \"Виктор\", \"Age\": 18},\n",
    "     {\"Name\": \"Мария\", \"Age\": 21},\n",
    "     {\"Name\": \"Иван\", \"Age\": 19}]\n",
    "\n",
    "df = pd.DataFrame(d)\n",
    "df"
   ],
   "execution_count":2,
   "outputs":[
    {
     "data":{
      "text\/html":[
       "<div>\n",
       "<style scoped>\n",
       "    .dataframe tbody tr th:only-of-type {\n",
       "        vertical-align: middle;\n",
       "    }\n",
       "\n",
       "    .dataframe tbody tr th {\n",
       "        vertical-align: top;\n",
       "    }\n",
       "\n",
       "    .dataframe thead th {\n",
       "        text-align: right;\n",
       "    }\n",
       "<\/style>\n",
       "<table border=\"1\" class=\"dataframe\">\n",
       "  <thead>\n",
       "    <tr style=\"text-align: right;\">\n",
       "      <th><\/th>\n",
       "      <th>Name<\/th>\n",
       "      <th>Age<\/th>\n",
       "    <\/tr>\n",
       "  <\/thead>\n",
       "  <tbody>\n",
       "    <tr>\n",
       "      <th>0<\/th>\n",
       "      <td>Виктор<\/td>\n",
       "      <td>18<\/td>\n",
       "    <\/tr>\n",
       "    <tr>\n",
       "      <th>1<\/th>\n",
       "      <td>Мария<\/td>\n",
       "      <td>21<\/td>\n",
       "    <\/tr>\n",
       "    <tr>\n",
       "      <th>2<\/th>\n",
       "      <td>Иван<\/td>\n",
       "      <td>19<\/td>\n",
       "    <\/tr>\n",
       "  <\/tbody>\n",
       "<\/table>\n",
       "<\/div>"
      ]
     },
     "metadata":{
      
     },
     "output_type":"display_data"
    },
    {
     "data":{
      "text\/plain":[
       "     Name  Age\n",
       "0  Виктор   18\n",
       "1   Мария   21\n",
       "2    Иван   19"
      ]
     },
     "metadata":{
      
     },
     "output_type":"display_data"
    }
   ],
   "metadata":{
    "datalore":{
     "node_id":"o2DiwN95ROsVePY0e7NhG5",
     "type":"CODE",
     "hide_input_from_viewers":false,
     "hide_output_from_viewers":false,
     "report_properties":{
      "rowId":"EwHp1KT0dBXNFltNTxWu8r"
     }
    }
   }
  },
  {
   "cell_type":"markdown",
   "source":[
    "###Создание DataFrame из двумерного массива"
   ],
   "attachments":{
    
   },
   "metadata":{
    "datalore":{
     "node_id":"QXIiaC6Jt1QL2jKTVLC2dz",
     "type":"MD",
     "hide_input_from_viewers":false,
     "hide_output_from_viewers":false,
     "report_properties":{
      "rowId":"eLrVEt369Cbcij3eLXWW15"
     }
    }
   }
  },
  {
   "cell_type":"code",
   "source":[
    "import numpy as np\n",
    "\n",
    "nda = np.array([[1, 2, 3], [10, 20, 30]])\n",
    "\n",
    "df = pd.DataFrame(nda, columns=['col1', 'cols2', 'cols3'])\n",
    "df"
   ],
   "execution_count":51,
   "outputs":[
    {
     "data":{
      "text\/html":[
       "<div>\n",
       "<style scoped>\n",
       "    .dataframe tbody tr th:only-of-type {\n",
       "        vertical-align: middle;\n",
       "    }\n",
       "\n",
       "    .dataframe tbody tr th {\n",
       "        vertical-align: top;\n",
       "    }\n",
       "\n",
       "    .dataframe thead th {\n",
       "        text-align: right;\n",
       "    }\n",
       "<\/style>\n",
       "<table border=\"1\" class=\"dataframe\">\n",
       "  <thead>\n",
       "    <tr style=\"text-align: right;\">\n",
       "      <th><\/th>\n",
       "      <th>col1<\/th>\n",
       "      <th>cols2<\/th>\n",
       "      <th>cols3<\/th>\n",
       "    <\/tr>\n",
       "  <\/thead>\n",
       "  <tbody>\n",
       "    <tr>\n",
       "      <th>0<\/th>\n",
       "      <td>1<\/td>\n",
       "      <td>2<\/td>\n",
       "      <td>3<\/td>\n",
       "    <\/tr>\n",
       "    <tr>\n",
       "      <th>1<\/th>\n",
       "      <td>10<\/td>\n",
       "      <td>20<\/td>\n",
       "      <td>30<\/td>\n",
       "    <\/tr>\n",
       "  <\/tbody>\n",
       "<\/table>\n",
       "<\/div>"
      ]
     },
     "metadata":{
      
     },
     "output_type":"display_data"
    },
    {
     "data":{
      "text\/plain":[
       "   col1  cols2  cols3\n",
       "0     1      2      3\n",
       "1    10     20     30"
      ]
     },
     "metadata":{
      
     },
     "output_type":"display_data"
    }
   ],
   "metadata":{
    "datalore":{
     "node_id":"DjceXgDa4kzIPVYiT6la3V",
     "type":"CODE",
     "hide_input_from_viewers":false,
     "hide_output_from_viewers":false,
     "report_properties":{
      "rowId":"Q12y7oogzG7smmt1sFOKBu"
     }
    }
   }
  },
  {
   "cell_type":"markdown",
   "source":[
    "###Работа с элементами DataFrame"
   ],
   "attachments":{
    
   },
   "metadata":{
    "datalore":{
     "node_id":"eYtjS0gjx9BqIpbk05AjO4",
     "type":"MD",
     "hide_input_from_viewers":false,
     "hide_output_from_viewers":false,
     "report_properties":{
      "rowId":"bdIh0lwbrltus5nE8ISGpr"
     }
    }
   }
  },
  {
   "cell_type":"markdown",
   "source":[
    "Обращение к столбцу DataFrame:\n",
    "\n",
    "- df['Название столбца']\n",
    "- df.название_столбца"
   ],
   "attachments":{
    
   },
   "metadata":{
    "datalore":{
     "node_id":"JB1QSYIEjjJQgoyWVM8peV",
     "type":"MD",
     "hide_input_from_viewers":false,
     "hide_output_from_viewers":false,
     "report_properties":{
      "rowId":"J4SF1ALElaAjbNTRwM54zv"
     }
    }
   }
  },
  {
   "cell_type":"code",
   "source":[
    "d = [{\"Name\": \"Виктор\", \"Age\": 18},\n",
    "     {\"Name\": \"Мария\", \"Age\": 21},\n",
    "     {\"Name\": \"Иван\", \"Age\": 19}]\n",
    "\n",
    "df = pd.DataFrame(d)\n",
    "\n",
    "df"
   ],
   "execution_count":52,
   "outputs":[
    {
     "data":{
      "text\/html":[
       "<div>\n",
       "<style scoped>\n",
       "    .dataframe tbody tr th:only-of-type {\n",
       "        vertical-align: middle;\n",
       "    }\n",
       "\n",
       "    .dataframe tbody tr th {\n",
       "        vertical-align: top;\n",
       "    }\n",
       "\n",
       "    .dataframe thead th {\n",
       "        text-align: right;\n",
       "    }\n",
       "<\/style>\n",
       "<table border=\"1\" class=\"dataframe\">\n",
       "  <thead>\n",
       "    <tr style=\"text-align: right;\">\n",
       "      <th><\/th>\n",
       "      <th>Name<\/th>\n",
       "      <th>Age<\/th>\n",
       "    <\/tr>\n",
       "  <\/thead>\n",
       "  <tbody>\n",
       "    <tr>\n",
       "      <th>0<\/th>\n",
       "      <td>Виктор<\/td>\n",
       "      <td>18<\/td>\n",
       "    <\/tr>\n",
       "    <tr>\n",
       "      <th>1<\/th>\n",
       "      <td>Мария<\/td>\n",
       "      <td>21<\/td>\n",
       "    <\/tr>\n",
       "    <tr>\n",
       "      <th>2<\/th>\n",
       "      <td>Иван<\/td>\n",
       "      <td>19<\/td>\n",
       "    <\/tr>\n",
       "  <\/tbody>\n",
       "<\/table>\n",
       "<\/div>"
      ]
     },
     "metadata":{
      
     },
     "output_type":"display_data"
    },
    {
     "data":{
      "text\/plain":[
       "     Name  Age\n",
       "0  Виктор   18\n",
       "1   Мария   21\n",
       "2    Иван   19"
      ]
     },
     "metadata":{
      
     },
     "output_type":"display_data"
    }
   ],
   "metadata":{
    "datalore":{
     "node_id":"b8YkhufPDmjxdfxRhQ3y1u",
     "type":"CODE",
     "hide_input_from_viewers":false,
     "hide_output_from_viewers":false,
     "report_properties":{
      "rowId":"2XtYcVaSlibIF6Q40oYRjE"
     }
    }
   }
  },
  {
   "cell_type":"code",
   "source":[
    "df['Name']"
   ],
   "execution_count":53,
   "outputs":[
    {
     "data":{
      "text\/plain":[
       "0    Виктор\n",
       "1     Мария\n",
       "2      Иван\n",
       "Name: Name, dtype: object"
      ]
     },
     "metadata":{
      
     },
     "output_type":"display_data"
    }
   ],
   "metadata":{
    "datalore":{
     "node_id":"rJdVnfk1QFUTio0CDyx4Oy",
     "type":"CODE",
     "hide_input_from_viewers":false,
     "hide_output_from_viewers":false,
     "report_properties":{
      "rowId":"a7BTjencTjSX5yCN4lyRWG"
     }
    }
   }
  },
  {
   "cell_type":"code",
   "source":[
    "df.Name"
   ],
   "execution_count":4,
   "outputs":[
    {
     "data":{
      "text\/plain":[
       "0    Виктор\n",
       "1     Мария\n",
       "2      Иван\n",
       "Name: Name, dtype: object"
      ]
     },
     "metadata":{
      
     },
     "output_type":"display_data"
    }
   ],
   "metadata":{
    "datalore":{
     "node_id":"lbnyYhsgWKq1AYDx649onQ",
     "type":"CODE",
     "hide_input_from_viewers":false,
     "hide_output_from_viewers":false,
     "report_properties":{
      "rowId":"A6UoTPkRozsGfuvBRgH0xu"
     }
    }
   }
  },
  {
   "cell_type":"markdown",
   "source":[
    "Также для работы со строками и столбцами существуют методы:\n",
    "\n",
    "**DataFrame.loc[]**- Доступ к группе строк и столбцов (или только к столбцам, или только к строкам) по меткам или логическому массиву.\n",
    "\n",
    "Допустимые входы:\n",
    "- Одиночная метка, например 5 или 'a', (обратите внимание, что 5 - интерпретируется как метка индекса, а не как целочисленная позиция по индексу).\n",
    "- Список или массив меток, например ['a', 'b', 'c']\n",
    "- Объект среза с метками, например 'a':'f'.\n",
    "\n",
    "**DataFrame.iloc[]** - позволяет получить доступ к элементам DataFrame по целочисленном индексам.\n",
    "\n",
    "Допустимые входы:\n",
    "- Целое число, например 5.\n",
    "- Список или массив целых чисел, например .[4, 3, 0]\n",
    "- Объект среза с целыми числами, например 1:7."
   ],
   "attachments":{
    
   },
   "metadata":{
    "datalore":{
     "node_id":"6FSxpptmjD9c5uBbnhl9bp",
     "type":"MD",
     "hide_input_from_viewers":false,
     "hide_output_from_viewers":false,
     "report_properties":{
      "rowId":"ruPLYPGGeZRic5YgqQxvSl"
     }
    }
   }
  },
  {
   "cell_type":"code",
   "source":[
    "df"
   ],
   "execution_count":54,
   "outputs":[
    {
     "data":{
      "text\/html":[
       "<div>\n",
       "<style scoped>\n",
       "    .dataframe tbody tr th:only-of-type {\n",
       "        vertical-align: middle;\n",
       "    }\n",
       "\n",
       "    .dataframe tbody tr th {\n",
       "        vertical-align: top;\n",
       "    }\n",
       "\n",
       "    .dataframe thead th {\n",
       "        text-align: right;\n",
       "    }\n",
       "<\/style>\n",
       "<table border=\"1\" class=\"dataframe\">\n",
       "  <thead>\n",
       "    <tr style=\"text-align: right;\">\n",
       "      <th><\/th>\n",
       "      <th>Name<\/th>\n",
       "      <th>Age<\/th>\n",
       "    <\/tr>\n",
       "  <\/thead>\n",
       "  <tbody>\n",
       "    <tr>\n",
       "      <th>0<\/th>\n",
       "      <td>Виктор<\/td>\n",
       "      <td>18<\/td>\n",
       "    <\/tr>\n",
       "    <tr>\n",
       "      <th>1<\/th>\n",
       "      <td>Мария<\/td>\n",
       "      <td>21<\/td>\n",
       "    <\/tr>\n",
       "    <tr>\n",
       "      <th>2<\/th>\n",
       "      <td>Иван<\/td>\n",
       "      <td>19<\/td>\n",
       "    <\/tr>\n",
       "  <\/tbody>\n",
       "<\/table>\n",
       "<\/div>"
      ]
     },
     "metadata":{
      
     },
     "output_type":"display_data"
    },
    {
     "data":{
      "text\/plain":[
       "     Name  Age\n",
       "0  Виктор   18\n",
       "1   Мария   21\n",
       "2    Иван   19"
      ]
     },
     "metadata":{
      
     },
     "output_type":"display_data"
    }
   ],
   "metadata":{
    "datalore":{
     "node_id":"UNo6rBpwPpkWwQUx4D4Sa1",
     "type":"CODE",
     "hide_input_from_viewers":false,
     "hide_output_from_viewers":false,
     "report_properties":{
      "rowId":"9F9xk8FvNq7DwqU7CyXjPz"
     }
    }
   }
  },
  {
   "cell_type":"code",
   "source":[
    "df.iloc[0] # по индексу вернет 0 строку DataFrame"
   ],
   "execution_count":7,
   "outputs":[
    {
     "data":{
      "text\/plain":[
       "Name    Виктор\n",
       "Age         18\n",
       "Name: 0, dtype: object"
      ]
     },
     "metadata":{
      
     },
     "output_type":"display_data"
    }
   ],
   "metadata":{
    "datalore":{
     "node_id":"R67AGwk4o9oZRKE6q2ELzM",
     "type":"CODE",
     "hide_input_from_viewers":false,
     "hide_output_from_viewers":false,
     "report_properties":{
      "rowId":"BuarJxIIjToTNBd4Bgi8uF"
     }
    }
   }
  },
  {
   "cell_type":"code",
   "source":[
    "df.iloc[2,1]"
   ],
   "execution_count":57,
   "outputs":[
    {
     "data":{
      "text\/plain":[
       "19"
      ]
     },
     "metadata":{
      
     },
     "output_type":"display_data"
    }
   ],
   "metadata":{
    "datalore":{
     "node_id":"RExpPnuoexnNJJliy67XJS",
     "type":"CODE",
     "hide_input_from_viewers":false,
     "hide_output_from_viewers":false,
     "report_properties":{
      "rowId":"djVjGzoITzvdVdyY5jh7aW"
     }
    }
   }
  },
  {
   "cell_type":"markdown",
   "source":[
    "Для доступа к элементам и по строке и по столбцу используется следующая конструкция:\n",
    "\n",
    "- DataFrame.iloc[строка, столбце]\n",
    "- DataFrame.iloc[диапазон:строк, диапазон:столбцов]"
   ],
   "attachments":{
    
   },
   "metadata":{
    "datalore":{
     "node_id":"wi1bUtaUAlx6f3txd4TdqF",
     "type":"MD",
     "hide_input_from_viewers":false,
     "hide_output_from_viewers":false,
     "report_properties":{
      "rowId":"dNG6bQDBImO6Ns0LJ8C8KN"
     }
    }
   }
  },
  {
   "cell_type":"code",
   "source":[
    "df"
   ],
   "execution_count":58,
   "outputs":[
    {
     "data":{
      "text\/html":[
       "<div>\n",
       "<style scoped>\n",
       "    .dataframe tbody tr th:only-of-type {\n",
       "        vertical-align: middle;\n",
       "    }\n",
       "\n",
       "    .dataframe tbody tr th {\n",
       "        vertical-align: top;\n",
       "    }\n",
       "\n",
       "    .dataframe thead th {\n",
       "        text-align: right;\n",
       "    }\n",
       "<\/style>\n",
       "<table border=\"1\" class=\"dataframe\">\n",
       "  <thead>\n",
       "    <tr style=\"text-align: right;\">\n",
       "      <th><\/th>\n",
       "      <th>Name<\/th>\n",
       "      <th>Age<\/th>\n",
       "    <\/tr>\n",
       "  <\/thead>\n",
       "  <tbody>\n",
       "    <tr>\n",
       "      <th>0<\/th>\n",
       "      <td>Виктор<\/td>\n",
       "      <td>18<\/td>\n",
       "    <\/tr>\n",
       "    <tr>\n",
       "      <th>1<\/th>\n",
       "      <td>Мария<\/td>\n",
       "      <td>21<\/td>\n",
       "    <\/tr>\n",
       "    <tr>\n",
       "      <th>2<\/th>\n",
       "      <td>Иван<\/td>\n",
       "      <td>19<\/td>\n",
       "    <\/tr>\n",
       "  <\/tbody>\n",
       "<\/table>\n",
       "<\/div>"
      ]
     },
     "metadata":{
      
     },
     "output_type":"display_data"
    },
    {
     "data":{
      "text\/plain":[
       "     Name  Age\n",
       "0  Виктор   18\n",
       "1   Мария   21\n",
       "2    Иван   19"
      ]
     },
     "metadata":{
      
     },
     "output_type":"display_data"
    }
   ],
   "metadata":{
    "datalore":{
     "node_id":"mMy2eL7a952ex231gwX7Ty",
     "type":"CODE",
     "hide_input_from_viewers":false,
     "hide_output_from_viewers":false,
     "report_properties":{
      "rowId":"GzfgKu6tgWzpHGDoZO7pUI"
     }
    }
   }
  },
  {
   "cell_type":"code",
   "source":[
    "df.iloc[0,1] # по индексу вернет элемент DataFrame на пересечении 0 строки и 1 столбца [строка, столбца]\n",
    "\n",
    "df.iloc[:, 1] # вернет все элементы 1 столбца для всех строк\n",
    "\n",
    "df.iloc[0:2,:] # вернет значения всех стобцов для 0 и 1 строк"
   ],
   "execution_count":59,
   "outputs":[
    {
     "data":{
      "text\/html":[
       "<div>\n",
       "<style scoped>\n",
       "    .dataframe tbody tr th:only-of-type {\n",
       "        vertical-align: middle;\n",
       "    }\n",
       "\n",
       "    .dataframe tbody tr th {\n",
       "        vertical-align: top;\n",
       "    }\n",
       "\n",
       "    .dataframe thead th {\n",
       "        text-align: right;\n",
       "    }\n",
       "<\/style>\n",
       "<table border=\"1\" class=\"dataframe\">\n",
       "  <thead>\n",
       "    <tr style=\"text-align: right;\">\n",
       "      <th><\/th>\n",
       "      <th>Name<\/th>\n",
       "      <th>Age<\/th>\n",
       "    <\/tr>\n",
       "  <\/thead>\n",
       "  <tbody>\n",
       "    <tr>\n",
       "      <th>0<\/th>\n",
       "      <td>Виктор<\/td>\n",
       "      <td>18<\/td>\n",
       "    <\/tr>\n",
       "    <tr>\n",
       "      <th>1<\/th>\n",
       "      <td>Мария<\/td>\n",
       "      <td>21<\/td>\n",
       "    <\/tr>\n",
       "  <\/tbody>\n",
       "<\/table>\n",
       "<\/div>"
      ]
     },
     "metadata":{
      
     },
     "output_type":"display_data"
    },
    {
     "data":{
      "text\/plain":[
       "     Name  Age\n",
       "0  Виктор   18\n",
       "1   Мария   21"
      ]
     },
     "metadata":{
      
     },
     "output_type":"display_data"
    }
   ],
   "metadata":{
    "datalore":{
     "node_id":"tOWLlQrRpI2V7mPZ7U3xrp",
     "type":"CODE",
     "hide_input_from_viewers":false,
     "hide_output_from_viewers":false,
     "report_properties":{
      "rowId":"2UBM9YyvpxDZLnWdJMYuAd"
     }
    }
   }
  },
  {
   "cell_type":"code",
   "source":[
    "df.loc[:, 'Name'] # доступ по метке: вернет значения всех элементов в столбце Name для всех строк\n",
    "\n",
    "df.loc[0:1, 'Name'] # доступ по метке: вернет значения всех элементов в столбце Name для 0 и 1 строк"
   ],
   "execution_count":12,
   "outputs":[
    {
     "data":{
      "text\/plain":[
       "0    Виктор\n",
       "1     Мария\n",
       "Name: Name, dtype: object"
      ]
     },
     "metadata":{
      
     },
     "output_type":"display_data"
    }
   ],
   "metadata":{
    "datalore":{
     "node_id":"IOBnBb4MKEJ8ipx8QJDGYp",
     "type":"CODE",
     "hide_input_from_viewers":false,
     "hide_output_from_viewers":false,
     "report_properties":{
      "rowId":"Es9r6li3fPep2s97JdoPgz"
     }
    }
   }
  },
  {
   "cell_type":"markdown",
   "source":[
    "Методы .loc[], .iloc[] также применимы к структуре Series."
   ],
   "attachments":{
    
   },
   "metadata":{
    "datalore":{
     "node_id":"73sGFKMZHJZemMAXD3qBPT",
     "type":"MD",
     "hide_input_from_viewers":false,
     "hide_output_from_viewers":false,
     "report_properties":{
      "rowId":"jJBEFy0Cy5ryt8yWOUgENs"
     }
    }
   }
  },
  {
   "cell_type":"markdown",
   "source":[
    "Также в поле для индекса можно писать логические условия для фильтрации значений."
   ],
   "attachments":{
    
   },
   "metadata":{
    "datalore":{
     "node_id":"ET5KRbC3iYG6AN7yL6EqhO",
     "type":"MD",
     "hide_input_from_viewers":false,
     "hide_output_from_viewers":false,
     "report_properties":{
      "rowId":"f9CHQRtal0K5M8fQKNIm8B"
     }
    }
   }
  },
  {
   "cell_type":"code",
   "source":[
    "df"
   ],
   "execution_count":60,
   "outputs":[
    {
     "data":{
      "text\/html":[
       "<div>\n",
       "<style scoped>\n",
       "    .dataframe tbody tr th:only-of-type {\n",
       "        vertical-align: middle;\n",
       "    }\n",
       "\n",
       "    .dataframe tbody tr th {\n",
       "        vertical-align: top;\n",
       "    }\n",
       "\n",
       "    .dataframe thead th {\n",
       "        text-align: right;\n",
       "    }\n",
       "<\/style>\n",
       "<table border=\"1\" class=\"dataframe\">\n",
       "  <thead>\n",
       "    <tr style=\"text-align: right;\">\n",
       "      <th><\/th>\n",
       "      <th>Name<\/th>\n",
       "      <th>Age<\/th>\n",
       "    <\/tr>\n",
       "  <\/thead>\n",
       "  <tbody>\n",
       "    <tr>\n",
       "      <th>0<\/th>\n",
       "      <td>Виктор<\/td>\n",
       "      <td>18<\/td>\n",
       "    <\/tr>\n",
       "    <tr>\n",
       "      <th>1<\/th>\n",
       "      <td>Мария<\/td>\n",
       "      <td>21<\/td>\n",
       "    <\/tr>\n",
       "    <tr>\n",
       "      <th>2<\/th>\n",
       "      <td>Иван<\/td>\n",
       "      <td>19<\/td>\n",
       "    <\/tr>\n",
       "  <\/tbody>\n",
       "<\/table>\n",
       "<\/div>"
      ]
     },
     "metadata":{
      
     },
     "output_type":"display_data"
    },
    {
     "data":{
      "text\/plain":[
       "     Name  Age\n",
       "0  Виктор   18\n",
       "1   Мария   21\n",
       "2    Иван   19"
      ]
     },
     "metadata":{
      
     },
     "output_type":"display_data"
    }
   ],
   "metadata":{
    "datalore":{
     "node_id":"wOSjXqv6wrlDqCOqXLjzf9",
     "type":"CODE",
     "hide_input_from_viewers":false,
     "hide_output_from_viewers":false,
     "report_properties":{
      "rowId":"2gthgsbRv6IVs8RNXOYbVO"
     }
    }
   }
  },
  {
   "cell_type":"code",
   "source":[
    "df['Age'] >= 20"
   ],
   "execution_count":61,
   "outputs":[
    {
     "data":{
      "text\/plain":[
       "0    False\n",
       "1     True\n",
       "2    False\n",
       "Name: Age, dtype: bool"
      ]
     },
     "metadata":{
      
     },
     "output_type":"display_data"
    }
   ],
   "metadata":{
    "datalore":{
     "node_id":"Fo56nsHXwPsEnD71PeT8VL",
     "type":"CODE",
     "hide_input_from_viewers":false,
     "hide_output_from_viewers":false,
     "report_properties":{
      "rowId":"Y9PFu6pPFDyBQkWffpsTSE"
     }
    }
   }
  },
  {
   "cell_type":"code",
   "source":[
    "#  Вывести все строки, в которых значение в столбце Age больше и равно 20\n",
    "df[df['Age'] >= 20]"
   ],
   "execution_count":63,
   "outputs":[
    {
     "data":{
      "text\/html":[
       "<div>\n",
       "<style scoped>\n",
       "    .dataframe tbody tr th:only-of-type {\n",
       "        vertical-align: middle;\n",
       "    }\n",
       "\n",
       "    .dataframe tbody tr th {\n",
       "        vertical-align: top;\n",
       "    }\n",
       "\n",
       "    .dataframe thead th {\n",
       "        text-align: right;\n",
       "    }\n",
       "<\/style>\n",
       "<table border=\"1\" class=\"dataframe\">\n",
       "  <thead>\n",
       "    <tr style=\"text-align: right;\">\n",
       "      <th><\/th>\n",
       "      <th>Name<\/th>\n",
       "      <th>Age<\/th>\n",
       "    <\/tr>\n",
       "  <\/thead>\n",
       "  <tbody>\n",
       "    <tr>\n",
       "      <th>1<\/th>\n",
       "      <td>Мария<\/td>\n",
       "      <td>21<\/td>\n",
       "    <\/tr>\n",
       "  <\/tbody>\n",
       "<\/table>\n",
       "<\/div>"
      ]
     },
     "metadata":{
      
     },
     "output_type":"display_data"
    },
    {
     "data":{
      "text\/plain":[
       "    Name  Age\n",
       "1  Мария   21"
      ]
     },
     "metadata":{
      
     },
     "output_type":"display_data"
    }
   ],
   "metadata":{
    "datalore":{
     "node_id":"8m4MmEokVbhU4WTMtXDLFb",
     "type":"CODE",
     "hide_input_from_viewers":false,
     "hide_output_from_viewers":false,
     "report_properties":{
      "rowId":"uMDoQH7nNfMfX1Y5qHwwo2"
     }
    }
   }
  },
  {
   "cell_type":"markdown",
   "source":[
    "###Методы и атрибуты DataFrame"
   ],
   "attachments":{
    
   },
   "metadata":{
    "datalore":{
     "node_id":"WfRPTiDiyqsjpXxk8sB4PX",
     "type":"MD",
     "hide_input_from_viewers":false,
     "hide_output_from_viewers":false,
     "report_properties":{
      "rowId":"nxoAZHMsLNm9v5qMIMaSRp"
     }
    }
   }
  },
  {
   "cell_type":"markdown",
   "source":[
    "У объекта DataFrame (также как и у Series) есть атрибуты через которые можно получить индексы, а также метод позволяющий получить названия колонок."
   ],
   "attachments":{
    
   },
   "metadata":{
    "datalore":{
     "node_id":"WlfM7KLMeFWji3sUu6yYSJ",
     "type":"MD",
     "hide_input_from_viewers":false,
     "hide_output_from_viewers":false,
     "report_properties":{
      "rowId":"JsUa6ScFKbeqZAcjv1TgN6"
     }
    }
   }
  },
  {
   "cell_type":"code",
   "source":[
    "d = [{\"Name\": \"Виктор\", \"Age\": 18},\n",
    "     {\"Name\": \"Мария\", \"Age\": 21},\n",
    "     {\"Name\": \"Иван\", \"Age\": 19}]\n",
    "\n",
    "df = pd.DataFrame(d)\n",
    "df"
   ],
   "execution_count":64,
   "outputs":[
    {
     "data":{
      "text\/html":[
       "<div>\n",
       "<style scoped>\n",
       "    .dataframe tbody tr th:only-of-type {\n",
       "        vertical-align: middle;\n",
       "    }\n",
       "\n",
       "    .dataframe tbody tr th {\n",
       "        vertical-align: top;\n",
       "    }\n",
       "\n",
       "    .dataframe thead th {\n",
       "        text-align: right;\n",
       "    }\n",
       "<\/style>\n",
       "<table border=\"1\" class=\"dataframe\">\n",
       "  <thead>\n",
       "    <tr style=\"text-align: right;\">\n",
       "      <th><\/th>\n",
       "      <th>Name<\/th>\n",
       "      <th>Age<\/th>\n",
       "    <\/tr>\n",
       "  <\/thead>\n",
       "  <tbody>\n",
       "    <tr>\n",
       "      <th>0<\/th>\n",
       "      <td>Виктор<\/td>\n",
       "      <td>18<\/td>\n",
       "    <\/tr>\n",
       "    <tr>\n",
       "      <th>1<\/th>\n",
       "      <td>Мария<\/td>\n",
       "      <td>21<\/td>\n",
       "    <\/tr>\n",
       "    <tr>\n",
       "      <th>2<\/th>\n",
       "      <td>Иван<\/td>\n",
       "      <td>19<\/td>\n",
       "    <\/tr>\n",
       "  <\/tbody>\n",
       "<\/table>\n",
       "<\/div>"
      ]
     },
     "metadata":{
      
     },
     "output_type":"display_data"
    },
    {
     "data":{
      "text\/plain":[
       "     Name  Age\n",
       "0  Виктор   18\n",
       "1   Мария   21\n",
       "2    Иван   19"
      ]
     },
     "metadata":{
      
     },
     "output_type":"display_data"
    }
   ],
   "metadata":{
    "datalore":{
     "node_id":"eorDFPKgevzLPUw83ZYxS8",
     "type":"CODE",
     "hide_input_from_viewers":false,
     "hide_output_from_viewers":false,
     "report_properties":{
      "rowId":"HYgIuUoP8cDIxPTgKspxDA"
     }
    }
   }
  },
  {
   "cell_type":"code",
   "source":[
    "print(df.index) # возвращает индексы DataFrame\n",
    "print(df.columns) # возвращает названия колонок\n",
    "print(df.head(2)) # вывод первых двух строчек DataFrame\n",
    "print(df.tail(2)) # вывод последних двух строчек DataFrame"
   ],
   "execution_count":null,
   "outputs":[
    {
     "name":"stdout",
     "text":[
      "RangeIndex(start=0, stop=3, step=1)\n",
      "Index(['Name', 'Age'], dtype='object')\n",
      "     Name  Age\n",
      "0  Виктор   18\n",
      "1   Мария   21\n",
      "    Name  Age\n",
      "1  Мария   21\n",
      "2   Иван   19\n"
     ],
     "output_type":"stream"
    }
   ],
   "metadata":{
    "datalore":{
     "node_id":"DMcZIN4JgpYkdO0tHeLEQ0",
     "type":"CODE",
     "hide_input_from_viewers":false,
     "hide_output_from_viewers":false,
     "report_properties":{
      "rowId":"w3Nl85v3khPffOi8iQsBYR"
     }
    }
   }
  },
  {
   "cell_type":"markdown",
   "source":[
    "DataFrame - это двумерная структура, напоминающая таблицу размерностью NxM, где N - это количество строк, M - количество стобцов.\n",
    "\n",
    "**shape** - атрибут DataFrame, который возвращает его размерность."
   ],
   "attachments":{
    
   },
   "metadata":{
    "datalore":{
     "node_id":"4qxCTepd2fO2Q3h2AB4epT",
     "type":"MD",
     "hide_input_from_viewers":false,
     "hide_output_from_viewers":false,
     "report_properties":{
      "rowId":"Pu9ek8YTTEZvy7apKkYrvH"
     }
    }
   }
  },
  {
   "cell_type":"code",
   "source":[
    "df"
   ],
   "execution_count":66,
   "outputs":[
    {
     "data":{
      "text\/html":[
       "<div>\n",
       "<style scoped>\n",
       "    .dataframe tbody tr th:only-of-type {\n",
       "        vertical-align: middle;\n",
       "    }\n",
       "\n",
       "    .dataframe tbody tr th {\n",
       "        vertical-align: top;\n",
       "    }\n",
       "\n",
       "    .dataframe thead th {\n",
       "        text-align: right;\n",
       "    }\n",
       "<\/style>\n",
       "<table border=\"1\" class=\"dataframe\">\n",
       "  <thead>\n",
       "    <tr style=\"text-align: right;\">\n",
       "      <th><\/th>\n",
       "      <th>Name<\/th>\n",
       "      <th>Age<\/th>\n",
       "    <\/tr>\n",
       "  <\/thead>\n",
       "  <tbody>\n",
       "    <tr>\n",
       "      <th>0<\/th>\n",
       "      <td>Виктор<\/td>\n",
       "      <td>18<\/td>\n",
       "    <\/tr>\n",
       "    <tr>\n",
       "      <th>1<\/th>\n",
       "      <td>Мария<\/td>\n",
       "      <td>21<\/td>\n",
       "    <\/tr>\n",
       "    <tr>\n",
       "      <th>2<\/th>\n",
       "      <td>Иван<\/td>\n",
       "      <td>19<\/td>\n",
       "    <\/tr>\n",
       "  <\/tbody>\n",
       "<\/table>\n",
       "<\/div>"
      ]
     },
     "metadata":{
      
     },
     "output_type":"display_data"
    },
    {
     "data":{
      "text\/plain":[
       "     Name  Age\n",
       "0  Виктор   18\n",
       "1   Мария   21\n",
       "2    Иван   19"
      ]
     },
     "metadata":{
      
     },
     "output_type":"display_data"
    }
   ],
   "metadata":{
    "datalore":{
     "node_id":"PeUSl6BVFDd9EsTmaH92oG",
     "type":"CODE",
     "hide_input_from_viewers":false,
     "hide_output_from_viewers":false,
     "report_properties":{
      "rowId":"RveLDQjjUKpzkOJrtcgfhR"
     }
    }
   }
  },
  {
   "cell_type":"code",
   "source":[
    "df.shape"
   ],
   "execution_count":6,
   "outputs":[
    {
     "data":{
      "text\/plain":[
       "(3, 2)"
      ]
     },
     "metadata":{
      
     },
     "output_type":"display_data"
    }
   ],
   "metadata":{
    "datalore":{
     "node_id":"QdOEj4lRel55Kmjj9M4YKL",
     "type":"CODE",
     "hide_input_from_viewers":false,
     "hide_output_from_viewers":false,
     "report_properties":{
      "rowId":"zuOQeoOvpiqIKCMa0suzqX"
     }
    }
   }
  },
  {
   "cell_type":"code",
   "source":[
    "df.info() # метод возвращает полную информацию о данном DataFrame"
   ],
   "execution_count":null,
   "outputs":[
    {
     "name":"stdout",
     "text":[
      "<class 'pandas.core.frame.DataFrame'>\n",
      "RangeIndex: 3 entries, 0 to 2\n",
      "Data columns (total 2 columns):\n",
      " #   Column  Non-Null Count  Dtype \n",
      "---  ------  --------------  ----- \n",
      " 0   Name    3 non-null      object\n",
      " 1   Age     3 non-null      int64 \n",
      "dtypes: int64(1), object(1)\n",
      "memory usage: 176.0+ bytes\n"
     ],
     "output_type":"stream"
    }
   ],
   "metadata":{
    "datalore":{
     "node_id":"kiL1zzs74b3iPiyiw5R13f",
     "type":"CODE",
     "hide_input_from_viewers":false,
     "hide_output_from_viewers":false,
     "report_properties":{
      "rowId":"KAdVC4nHDLLonEj0C4yiER"
     }
    }
   }
  },
  {
   "cell_type":"markdown",
   "source":[
    "Часто при работе с данными, их необходимо проверять на пропуски (NaN).\n",
    "\n",
    "Для этого существуют методы - **isna()**, **isnull()**.\n",
    "\n",
    "Они возвращают два объекта DataFrame с булевыми значениями, где True для значений NaN в DataFrame, а False — на его отсутствие. Эти функции часто используются в фильтрах для создания условий."
   ],
   "attachments":{
    
   },
   "metadata":{
    "datalore":{
     "node_id":"ghEhYD8Ftfw04hFjT982KI",
     "type":"MD",
     "hide_input_from_viewers":false,
     "hide_output_from_viewers":false,
     "report_properties":{
      "rowId":"LUwrxhe8a0YDI5J9ubZJ5q"
     }
    }
   }
  },
  {
   "cell_type":"code",
   "source":[
    "d = [{\"Name\": \"Виктор\", \"Age\": 18},\n",
    "     {\"Name\": \"Мария\", \"Age\": np.NaN},\n",
    "     {\"Name\": \"Иван\", \"Age\": 19}]\n",
    "\n",
    "df = pd.DataFrame(d)\n",
    "\n",
    "df"
   ],
   "execution_count":67,
   "outputs":[
    {
     "data":{
      "text\/html":[
       "<div>\n",
       "<style scoped>\n",
       "    .dataframe tbody tr th:only-of-type {\n",
       "        vertical-align: middle;\n",
       "    }\n",
       "\n",
       "    .dataframe tbody tr th {\n",
       "        vertical-align: top;\n",
       "    }\n",
       "\n",
       "    .dataframe thead th {\n",
       "        text-align: right;\n",
       "    }\n",
       "<\/style>\n",
       "<table border=\"1\" class=\"dataframe\">\n",
       "  <thead>\n",
       "    <tr style=\"text-align: right;\">\n",
       "      <th><\/th>\n",
       "      <th>Name<\/th>\n",
       "      <th>Age<\/th>\n",
       "    <\/tr>\n",
       "  <\/thead>\n",
       "  <tbody>\n",
       "    <tr>\n",
       "      <th>0<\/th>\n",
       "      <td>Виктор<\/td>\n",
       "      <td>18.0<\/td>\n",
       "    <\/tr>\n",
       "    <tr>\n",
       "      <th>1<\/th>\n",
       "      <td>Мария<\/td>\n",
       "      <td>NaN<\/td>\n",
       "    <\/tr>\n",
       "    <tr>\n",
       "      <th>2<\/th>\n",
       "      <td>Иван<\/td>\n",
       "      <td>19.0<\/td>\n",
       "    <\/tr>\n",
       "  <\/tbody>\n",
       "<\/table>\n",
       "<\/div>"
      ]
     },
     "metadata":{
      
     },
     "output_type":"display_data"
    },
    {
     "data":{
      "text\/plain":[
       "     Name   Age\n",
       "0  Виктор  18.0\n",
       "1   Мария   NaN\n",
       "2    Иван  19.0"
      ]
     },
     "metadata":{
      
     },
     "output_type":"display_data"
    }
   ],
   "metadata":{
    "datalore":{
     "node_id":"Jho5OdrFxS5CRnGIthwGrb",
     "type":"CODE",
     "hide_input_from_viewers":false,
     "hide_output_from_viewers":false,
     "report_properties":{
      "rowId":"Ji2ZJowdGe4F3uEPiNTX2T"
     }
    }
   }
  },
  {
   "cell_type":"code",
   "source":[
    "df.isnull()"
   ],
   "execution_count":69,
   "outputs":[
    {
     "data":{
      "text\/html":[
       "<div>\n",
       "<style scoped>\n",
       "    .dataframe tbody tr th:only-of-type {\n",
       "        vertical-align: middle;\n",
       "    }\n",
       "\n",
       "    .dataframe tbody tr th {\n",
       "        vertical-align: top;\n",
       "    }\n",
       "\n",
       "    .dataframe thead th {\n",
       "        text-align: right;\n",
       "    }\n",
       "<\/style>\n",
       "<table border=\"1\" class=\"dataframe\">\n",
       "  <thead>\n",
       "    <tr style=\"text-align: right;\">\n",
       "      <th><\/th>\n",
       "      <th>Name<\/th>\n",
       "      <th>Age<\/th>\n",
       "    <\/tr>\n",
       "  <\/thead>\n",
       "  <tbody>\n",
       "    <tr>\n",
       "      <th>0<\/th>\n",
       "      <td>False<\/td>\n",
       "      <td>False<\/td>\n",
       "    <\/tr>\n",
       "    <tr>\n",
       "      <th>1<\/th>\n",
       "      <td>False<\/td>\n",
       "      <td>True<\/td>\n",
       "    <\/tr>\n",
       "    <tr>\n",
       "      <th>2<\/th>\n",
       "      <td>False<\/td>\n",
       "      <td>False<\/td>\n",
       "    <\/tr>\n",
       "  <\/tbody>\n",
       "<\/table>\n",
       "<\/div>"
      ]
     },
     "metadata":{
      
     },
     "output_type":"display_data"
    },
    {
     "data":{
      "text\/plain":[
       "    Name    Age\n",
       "0  False  False\n",
       "1  False   True\n",
       "2  False  False"
      ]
     },
     "metadata":{
      
     },
     "output_type":"display_data"
    }
   ],
   "metadata":{
    "datalore":{
     "node_id":"KGsyDzGZXLvk6vsmA6ucXC",
     "type":"CODE",
     "hide_input_from_viewers":false,
     "hide_output_from_viewers":false,
     "report_properties":{
      "rowId":"ngmPydO6q2MWpV7zVfUVPv"
     }
    }
   }
  },
  {
   "cell_type":"code",
   "source":[
    "df.isna()"
   ],
   "execution_count":71,
   "outputs":[
    {
     "data":{
      "text\/html":[
       "<div>\n",
       "<style scoped>\n",
       "    .dataframe tbody tr th:only-of-type {\n",
       "        vertical-align: middle;\n",
       "    }\n",
       "\n",
       "    .dataframe tbody tr th {\n",
       "        vertical-align: top;\n",
       "    }\n",
       "\n",
       "    .dataframe thead th {\n",
       "        text-align: right;\n",
       "    }\n",
       "<\/style>\n",
       "<table border=\"1\" class=\"dataframe\">\n",
       "  <thead>\n",
       "    <tr style=\"text-align: right;\">\n",
       "      <th><\/th>\n",
       "      <th>Name<\/th>\n",
       "      <th>Age<\/th>\n",
       "    <\/tr>\n",
       "  <\/thead>\n",
       "  <tbody>\n",
       "    <tr>\n",
       "      <th>0<\/th>\n",
       "      <td>False<\/td>\n",
       "      <td>False<\/td>\n",
       "    <\/tr>\n",
       "    <tr>\n",
       "      <th>1<\/th>\n",
       "      <td>False<\/td>\n",
       "      <td>True<\/td>\n",
       "    <\/tr>\n",
       "    <tr>\n",
       "      <th>2<\/th>\n",
       "      <td>False<\/td>\n",
       "      <td>False<\/td>\n",
       "    <\/tr>\n",
       "  <\/tbody>\n",
       "<\/table>\n",
       "<\/div>"
      ]
     },
     "metadata":{
      
     },
     "output_type":"display_data"
    },
    {
     "data":{
      "text\/plain":[
       "    Name    Age\n",
       "0  False  False\n",
       "1  False   True\n",
       "2  False  False"
      ]
     },
     "metadata":{
      
     },
     "output_type":"display_data"
    }
   ],
   "metadata":{
    "datalore":{
     "node_id":"qTQK9GJo0eraQO15NZkxEF",
     "type":"CODE",
     "hide_input_from_viewers":false,
     "hide_output_from_viewers":false,
     "report_properties":{
      "rowId":"DL471HCse0Uy7PZYUBdHKQ"
     }
    }
   }
  },
  {
   "cell_type":"code",
   "source":[
    "# Фильтр, который вернет все строки, в которых отсутсвуют пустые значения в колонке Age\n",
    "\n",
    "df[df['Age'].isnull()==False]"
   ],
   "execution_count":20,
   "outputs":[
    {
     "data":{
      "text\/html":[
       "<div>\n",
       "<style scoped>\n",
       "    .dataframe tbody tr th:only-of-type {\n",
       "        vertical-align: middle;\n",
       "    }\n",
       "\n",
       "    .dataframe tbody tr th {\n",
       "        vertical-align: top;\n",
       "    }\n",
       "\n",
       "    .dataframe thead th {\n",
       "        text-align: right;\n",
       "    }\n",
       "<\/style>\n",
       "<table border=\"1\" class=\"dataframe\">\n",
       "  <thead>\n",
       "    <tr style=\"text-align: right;\">\n",
       "      <th><\/th>\n",
       "      <th>Name<\/th>\n",
       "      <th>Age<\/th>\n",
       "    <\/tr>\n",
       "  <\/thead>\n",
       "  <tbody>\n",
       "    <tr>\n",
       "      <th>0<\/th>\n",
       "      <td>Виктор<\/td>\n",
       "      <td>18.0<\/td>\n",
       "    <\/tr>\n",
       "    <tr>\n",
       "      <th>2<\/th>\n",
       "      <td>Иван<\/td>\n",
       "      <td>19.0<\/td>\n",
       "    <\/tr>\n",
       "  <\/tbody>\n",
       "<\/table>\n",
       "<\/div>"
      ]
     },
     "metadata":{
      
     },
     "output_type":"display_data"
    },
    {
     "data":{
      "text\/plain":[
       "     Name   Age\n",
       "0  Виктор  18.0\n",
       "2    Иван  19.0"
      ]
     },
     "metadata":{
      
     },
     "output_type":"display_data"
    }
   ],
   "metadata":{
    "datalore":{
     "node_id":"vpaLyeLXsDIoKhqpF3dIvd",
     "type":"CODE",
     "hide_input_from_viewers":false,
     "hide_output_from_viewers":false,
     "report_properties":{
      "rowId":"eokDk8NegRvov2WezUsqs3"
     }
    }
   }
  },
  {
   "cell_type":"code",
   "source":[
    "# подсчет пустых значений в каждой колонке DataFrame\n",
    "# False = 0\n",
    "# True = 1\n",
    "df.isna().sum()"
   ],
   "execution_count":21,
   "outputs":[
    {
     "data":{
      "text\/plain":[
       "Name    0\n",
       "Age     1\n",
       "dtype: int64"
      ]
     },
     "metadata":{
      
     },
     "output_type":"display_data"
    }
   ],
   "metadata":{
    "datalore":{
     "node_id":"ZdSM0XknC1Iz8GOR0w5WHb",
     "type":"CODE",
     "hide_input_from_viewers":false,
     "hide_output_from_viewers":false,
     "report_properties":{
      "rowId":"sWntOmq2EUT9yia4UeJLRe"
     }
    }
   }
  },
  {
   "cell_type":"code",
   "source":[
    "d = [{\"Name\": \"Виктор\", \"Age\": 18},\n",
    "     {\"Name\": \"Мария\", \"Age\": np.NaN},\n",
    "     {\"Name\": \"Иван\", \"Age\": 19},\n",
    "     {\"Name\": \"Иван\", \"Age\": 25}]\n",
    "\n",
    "df = pd.DataFrame(d)\n",
    "\n",
    "# Подсчет уникальных значений в стобце\n",
    "df['Name'].unique()\n",
    "\n",
    "# Подсчет количества для каждого значения в столбце\n",
    "df['Name'].value_counts()"
   ],
   "execution_count":73,
   "outputs":[
    {
     "data":{
      "text\/plain":[
       "Иван      2\n",
       "Виктор    1\n",
       "Мария     1\n",
       "Name: Name, dtype: int64"
      ]
     },
     "metadata":{
      
     },
     "output_type":"display_data"
    }
   ],
   "metadata":{
    "datalore":{
     "node_id":"gwROjGsCKvtp4ok9Fpk0np",
     "type":"CODE",
     "hide_input_from_viewers":false,
     "hide_output_from_viewers":false,
     "report_properties":{
      "rowId":"L9O3161cQIZ5rlMxbtJZTy"
     }
    }
   }
  },
  {
   "cell_type":"markdown",
   "source":[
    "Удаление значений из DataFrame.\n",
    "\n",
    "Существуют различные методы, позволяющие удалять сроки или столбцы из DataFrame.\n",
    "\n",
    "`DataFrame.drop(labels=None, axis=0, index=None, columns=None, level=None, inplace=False, errors='raise')`\n",
    "\n",
    "- labels - Метки индекса или столбца, которые нужно удалить\n",
    "- axis - {0 или 'index', 1 или 'columns'}\n",
    "- index - Альтернатива указанию оси (эквивалент axis=0)\n",
    "- columns - Альтернатива указанию оси (эквивалент axis=1)\n",
    "- level - Для MultiIndex - уровень, с которого будут удалены метки\n",
    "- inplace - Если False, вернет копию DataFrame. В противном случае перезапишет изменения в этот же DataFrame."
   ],
   "attachments":{
    
   },
   "metadata":{
    "datalore":{
     "node_id":"H2rXj4VUySDad3gmKPkm7H",
     "type":"MD",
     "hide_input_from_viewers":false,
     "hide_output_from_viewers":false,
     "report_properties":{
      "rowId":"qNhnR1dbwRPhcYXr9TwdCK"
     }
    }
   }
  },
  {
   "cell_type":"code",
   "source":[
    "d = [{\"Name\": \"Виктор\", \"Age\": 18},\n",
    "     {\"Name\": \"Мария\", \"Age\": np.NaN},\n",
    "     {\"Name\": \"Иван\", \"Age\": 19},\n",
    "     {\"Name\": \"Иван\", \"Age\": 25}]\n",
    "\n",
    "df = pd.DataFrame(d)\n",
    "\n",
    "# Удалить столбцы\n",
    "# df.drop(['Age'], axis=1)\n",
    "# df.drop(columns = ['Age'])"
   ],
   "execution_count":null,
   "outputs":[
    
   ],
   "metadata":{
    "datalore":{
     "node_id":"Su6vqHWCq8Zyew5dDxVeya",
     "type":"CODE",
     "hide_input_from_viewers":false,
     "hide_output_from_viewers":false,
     "report_properties":{
      "rowId":"s2GDSqhdYhoqCA8UdZPCug"
     }
    }
   }
  },
  {
   "cell_type":"code",
   "source":[
    "# Удалить строки\n",
    "df.drop(0, axis=0, inplace=True)\n",
    "# df.drop(index = 0)"
   ],
   "execution_count":75,
   "outputs":[
    {
     "data":{
      "text\/html":[
       "<div>\n",
       "<style scoped>\n",
       "    .dataframe tbody tr th:only-of-type {\n",
       "        vertical-align: middle;\n",
       "    }\n",
       "\n",
       "    .dataframe tbody tr th {\n",
       "        vertical-align: top;\n",
       "    }\n",
       "\n",
       "    .dataframe thead th {\n",
       "        text-align: right;\n",
       "    }\n",
       "<\/style>\n",
       "<table border=\"1\" class=\"dataframe\">\n",
       "  <thead>\n",
       "    <tr style=\"text-align: right;\">\n",
       "      <th><\/th>\n",
       "      <th>Name<\/th>\n",
       "      <th>Age<\/th>\n",
       "    <\/tr>\n",
       "  <\/thead>\n",
       "  <tbody>\n",
       "    <tr>\n",
       "      <th>1<\/th>\n",
       "      <td>Мария<\/td>\n",
       "      <td>NaN<\/td>\n",
       "    <\/tr>\n",
       "    <tr>\n",
       "      <th>2<\/th>\n",
       "      <td>Иван<\/td>\n",
       "      <td>19.0<\/td>\n",
       "    <\/tr>\n",
       "    <tr>\n",
       "      <th>3<\/th>\n",
       "      <td>Иван<\/td>\n",
       "      <td>25.0<\/td>\n",
       "    <\/tr>\n",
       "  <\/tbody>\n",
       "<\/table>\n",
       "<\/div>"
      ]
     },
     "metadata":{
      
     },
     "output_type":"display_data"
    },
    {
     "data":{
      "text\/plain":[
       "    Name   Age\n",
       "1  Мария   NaN\n",
       "2   Иван  19.0\n",
       "3   Иван  25.0"
      ]
     },
     "metadata":{
      
     },
     "output_type":"display_data"
    }
   ],
   "metadata":{
    "datalore":{
     "node_id":"ljqFKjWhLeXfVwPDTJ0JMf",
     "type":"CODE",
     "hide_input_from_viewers":false,
     "hide_output_from_viewers":false,
     "report_properties":{
      "rowId":"uUj9hUp62irKTHsdolpm0j"
     }
    }
   }
  },
  {
   "cell_type":"code",
   "source":[
    "# по умолчанию inplace = False, поэтому в предыдущей ячейке\n",
    "# операция drop() вернула копию измененного DataFrame\n",
    "# исходный DataFrame остался без изменений\n",
    "df"
   ],
   "execution_count":25,
   "outputs":[
    {
     "data":{
      "text\/html":[
       "<div>\n",
       "<style scoped>\n",
       "    .dataframe tbody tr th:only-of-type {\n",
       "        vertical-align: middle;\n",
       "    }\n",
       "\n",
       "    .dataframe tbody tr th {\n",
       "        vertical-align: top;\n",
       "    }\n",
       "\n",
       "    .dataframe thead th {\n",
       "        text-align: right;\n",
       "    }\n",
       "<\/style>\n",
       "<table border=\"1\" class=\"dataframe\">\n",
       "  <thead>\n",
       "    <tr style=\"text-align: right;\">\n",
       "      <th><\/th>\n",
       "      <th>Name<\/th>\n",
       "      <th>Age<\/th>\n",
       "    <\/tr>\n",
       "  <\/thead>\n",
       "  <tbody>\n",
       "    <tr>\n",
       "      <th>0<\/th>\n",
       "      <td>Виктор<\/td>\n",
       "      <td>18.0<\/td>\n",
       "    <\/tr>\n",
       "    <tr>\n",
       "      <th>1<\/th>\n",
       "      <td>Мария<\/td>\n",
       "      <td>NaN<\/td>\n",
       "    <\/tr>\n",
       "    <tr>\n",
       "      <th>2<\/th>\n",
       "      <td>Иван<\/td>\n",
       "      <td>19.0<\/td>\n",
       "    <\/tr>\n",
       "    <tr>\n",
       "      <th>3<\/th>\n",
       "      <td>Иван<\/td>\n",
       "      <td>25.0<\/td>\n",
       "    <\/tr>\n",
       "  <\/tbody>\n",
       "<\/table>\n",
       "<\/div>"
      ]
     },
     "metadata":{
      
     },
     "output_type":"display_data"
    },
    {
     "data":{
      "text\/plain":[
       "     Name   Age\n",
       "0  Виктор  18.0\n",
       "1   Мария   NaN\n",
       "2    Иван  19.0\n",
       "3    Иван  25.0"
      ]
     },
     "metadata":{
      
     },
     "output_type":"display_data"
    }
   ],
   "metadata":{
    "datalore":{
     "node_id":"kYurX5obIMFKxUOaxXaQI7",
     "type":"CODE",
     "hide_input_from_viewers":false,
     "hide_output_from_viewers":false,
     "report_properties":{
      "rowId":"Ve338dIwgnMgKa3Qtwa10T"
     }
    }
   }
  },
  {
   "cell_type":"code",
   "source":[
    "df.drop(['Age'], axis=1, inplace=True)\n",
    "df"
   ],
   "execution_count":26,
   "outputs":[
    {
     "data":{
      "text\/html":[
       "<div>\n",
       "<style scoped>\n",
       "    .dataframe tbody tr th:only-of-type {\n",
       "        vertical-align: middle;\n",
       "    }\n",
       "\n",
       "    .dataframe tbody tr th {\n",
       "        vertical-align: top;\n",
       "    }\n",
       "\n",
       "    .dataframe thead th {\n",
       "        text-align: right;\n",
       "    }\n",
       "<\/style>\n",
       "<table border=\"1\" class=\"dataframe\">\n",
       "  <thead>\n",
       "    <tr style=\"text-align: right;\">\n",
       "      <th><\/th>\n",
       "      <th>Name<\/th>\n",
       "    <\/tr>\n",
       "  <\/thead>\n",
       "  <tbody>\n",
       "    <tr>\n",
       "      <th>0<\/th>\n",
       "      <td>Виктор<\/td>\n",
       "    <\/tr>\n",
       "    <tr>\n",
       "      <th>1<\/th>\n",
       "      <td>Мария<\/td>\n",
       "    <\/tr>\n",
       "    <tr>\n",
       "      <th>2<\/th>\n",
       "      <td>Иван<\/td>\n",
       "    <\/tr>\n",
       "    <tr>\n",
       "      <th>3<\/th>\n",
       "      <td>Иван<\/td>\n",
       "    <\/tr>\n",
       "  <\/tbody>\n",
       "<\/table>\n",
       "<\/div>"
      ]
     },
     "metadata":{
      
     },
     "output_type":"display_data"
    },
    {
     "data":{
      "text\/plain":[
       "     Name\n",
       "0  Виктор\n",
       "1   Мария\n",
       "2    Иван\n",
       "3    Иван"
      ]
     },
     "metadata":{
      
     },
     "output_type":"display_data"
    }
   ],
   "metadata":{
    "datalore":{
     "node_id":"EMdSnZ3xsI8eBPMJ0qvH9q",
     "type":"CODE",
     "hide_input_from_viewers":false,
     "hide_output_from_viewers":false,
     "report_properties":{
      "rowId":"zWwz2CHd7bnKUapUymqyQX"
     }
    }
   }
  },
  {
   "cell_type":"code",
   "source":[
    "d = [{\"Name\": \"Виктор\", \"Age\": 18},\n",
    "     {\"Name\": \"Мария\", \"Age\": np.NaN},\n",
    "     {\"Name\": \"Иван\", \"Age\": 19},\n",
    "     {\"Name\": \"Иван\", \"Age\": 25}]\n",
    "\n",
    "df = pd.DataFrame(d)\n",
    "\n",
    "df.drop(columns=['Age'])"
   ],
   "execution_count":27,
   "outputs":[
    {
     "data":{
      "text\/html":[
       "<div>\n",
       "<style scoped>\n",
       "    .dataframe tbody tr th:only-of-type {\n",
       "        vertical-align: middle;\n",
       "    }\n",
       "\n",
       "    .dataframe tbody tr th {\n",
       "        vertical-align: top;\n",
       "    }\n",
       "\n",
       "    .dataframe thead th {\n",
       "        text-align: right;\n",
       "    }\n",
       "<\/style>\n",
       "<table border=\"1\" class=\"dataframe\">\n",
       "  <thead>\n",
       "    <tr style=\"text-align: right;\">\n",
       "      <th><\/th>\n",
       "      <th>Name<\/th>\n",
       "    <\/tr>\n",
       "  <\/thead>\n",
       "  <tbody>\n",
       "    <tr>\n",
       "      <th>0<\/th>\n",
       "      <td>Виктор<\/td>\n",
       "    <\/tr>\n",
       "    <tr>\n",
       "      <th>1<\/th>\n",
       "      <td>Мария<\/td>\n",
       "    <\/tr>\n",
       "    <tr>\n",
       "      <th>2<\/th>\n",
       "      <td>Иван<\/td>\n",
       "    <\/tr>\n",
       "    <tr>\n",
       "      <th>3<\/th>\n",
       "      <td>Иван<\/td>\n",
       "    <\/tr>\n",
       "  <\/tbody>\n",
       "<\/table>\n",
       "<\/div>"
      ]
     },
     "metadata":{
      
     },
     "output_type":"display_data"
    },
    {
     "data":{
      "text\/plain":[
       "     Name\n",
       "0  Виктор\n",
       "1   Мария\n",
       "2    Иван\n",
       "3    Иван"
      ]
     },
     "metadata":{
      
     },
     "output_type":"display_data"
    }
   ],
   "metadata":{
    "datalore":{
     "node_id":"WRYF9fQ8PuSQ7WOcFhKgm3",
     "type":"CODE",
     "hide_input_from_viewers":false,
     "hide_output_from_viewers":false,
     "report_properties":{
      "rowId":"PMTCO7R8k5u4JiujS64gjF"
     }
    }
   }
  },
  {
   "cell_type":"code",
   "source":[
    "df.drop([0, 1])\n",
    "# две строки удалились 0,1"
   ],
   "execution_count":28,
   "outputs":[
    {
     "data":{
      "text\/html":[
       "<div>\n",
       "<style scoped>\n",
       "    .dataframe tbody tr th:only-of-type {\n",
       "        vertical-align: middle;\n",
       "    }\n",
       "\n",
       "    .dataframe tbody tr th {\n",
       "        vertical-align: top;\n",
       "    }\n",
       "\n",
       "    .dataframe thead th {\n",
       "        text-align: right;\n",
       "    }\n",
       "<\/style>\n",
       "<table border=\"1\" class=\"dataframe\">\n",
       "  <thead>\n",
       "    <tr style=\"text-align: right;\">\n",
       "      <th><\/th>\n",
       "      <th>Name<\/th>\n",
       "      <th>Age<\/th>\n",
       "    <\/tr>\n",
       "  <\/thead>\n",
       "  <tbody>\n",
       "    <tr>\n",
       "      <th>2<\/th>\n",
       "      <td>Иван<\/td>\n",
       "      <td>19.0<\/td>\n",
       "    <\/tr>\n",
       "    <tr>\n",
       "      <th>3<\/th>\n",
       "      <td>Иван<\/td>\n",
       "      <td>25.0<\/td>\n",
       "    <\/tr>\n",
       "  <\/tbody>\n",
       "<\/table>\n",
       "<\/div>"
      ]
     },
     "metadata":{
      
     },
     "output_type":"display_data"
    },
    {
     "data":{
      "text\/plain":[
       "   Name   Age\n",
       "2  Иван  19.0\n",
       "3  Иван  25.0"
      ]
     },
     "metadata":{
      
     },
     "output_type":"display_data"
    }
   ],
   "metadata":{
    "datalore":{
     "node_id":"w3R5YdR1iF8dGOWkMaiiJf",
     "type":"CODE",
     "hide_input_from_viewers":false,
     "hide_output_from_viewers":false,
     "report_properties":{
      "rowId":"axxsUyHWfTBScC8XkCGEqf"
     }
    }
   }
  },
  {
   "cell_type":"markdown",
   "source":[
    "Также существует метод dropna(), который позволяет удалять строки или столбцы, содержащие пустые значения.\n",
    "\n",
    "`DataFrame.dropna(axis=0, how='any', thresh=None, subset=None, inplace=False)`\n",
    "\n",
    "- axis - {0 или 'index', 1 или 'columns'}, по умолчанию 0. Определяет, удаляются строки или столбцы, содержащие отсутствующие значения. 0 или «index»: удалить строки, содержащие пропущенные значения. 1 или «columns»: удалить столбцы, содержащие отсутствующее значение.\n",
    "- how - Определяет, удаляется ли строка или столбец из DataFrame, когда у нас есть хотя бы одно NA или все NA. 'any': если присутствуют какие-либо значения NA, отбросьте эту строку или столбец. 'all': если все значения - NA, отбросьте эту строку или столбец."
   ],
   "attachments":{
    
   },
   "metadata":{
    "datalore":{
     "node_id":"R5gp4YCCswYUakwBaC1d2Q",
     "type":"MD",
     "hide_input_from_viewers":false,
     "hide_output_from_viewers":false,
     "report_properties":{
      "rowId":"OVCt8hgMqO5KAoVn3PeXZb"
     }
    }
   }
  },
  {
   "cell_type":"code",
   "source":[
    "d = [{\"Name\": \"Виктор\", \"Age\": 18},\n",
    "     {\"Name\": \"Мария\", \"Age\": np.NaN},\n",
    "     {\"Name\": \"Иван\", \"Age\": 19},\n",
    "     {\"Name\": \"Иван\", \"Age\": 25},\n",
    "     {\"Name\": np.NaN, \"Age\": np.NaN}]\n",
    "\n",
    "df = pd.DataFrame(d)\n",
    "df.dropna(axis=1, how='any')\n",
    "df"
   ],
   "execution_count":66,
   "outputs":[
    {
     "data":{
      "text\/html":[
       "<div>\n",
       "<style scoped>\n",
       "    .dataframe tbody tr th:only-of-type {\n",
       "        vertical-align: middle;\n",
       "    }\n",
       "\n",
       "    .dataframe tbody tr th {\n",
       "        vertical-align: top;\n",
       "    }\n",
       "\n",
       "    .dataframe thead th {\n",
       "        text-align: right;\n",
       "    }\n",
       "<\/style>\n",
       "<table border=\"1\" class=\"dataframe\">\n",
       "  <thead>\n",
       "    <tr style=\"text-align: right;\">\n",
       "      <th><\/th>\n",
       "      <th>Name<\/th>\n",
       "      <th>Age<\/th>\n",
       "    <\/tr>\n",
       "  <\/thead>\n",
       "  <tbody>\n",
       "    <tr>\n",
       "      <th>0<\/th>\n",
       "      <td>Виктор<\/td>\n",
       "      <td>18.0<\/td>\n",
       "    <\/tr>\n",
       "    <tr>\n",
       "      <th>1<\/th>\n",
       "      <td>Мария<\/td>\n",
       "      <td>NaN<\/td>\n",
       "    <\/tr>\n",
       "    <tr>\n",
       "      <th>2<\/th>\n",
       "      <td>Иван<\/td>\n",
       "      <td>19.0<\/td>\n",
       "    <\/tr>\n",
       "    <tr>\n",
       "      <th>3<\/th>\n",
       "      <td>Иван<\/td>\n",
       "      <td>25.0<\/td>\n",
       "    <\/tr>\n",
       "    <tr>\n",
       "      <th>4<\/th>\n",
       "      <td>NaN<\/td>\n",
       "      <td>NaN<\/td>\n",
       "    <\/tr>\n",
       "  <\/tbody>\n",
       "<\/table>\n",
       "<\/div>"
      ]
     },
     "metadata":{
      
     },
     "output_type":"display_data"
    }
   ],
   "metadata":{
    "datalore":{
     "node_id":"KwyWQC97nT4AClRQpxGWu2",
     "type":"CODE",
     "hide_input_from_viewers":false,
     "hide_output_from_viewers":false,
     "report_properties":{
      "rowId":"mZx70DFIZiQsqWa3SzJHqc"
     }
    }
   }
  },
  {
   "cell_type":"code",
   "source":[
    "A = [1,2,3,4,5,6,7,8,9,10,11,12]\n",
    "len(A)\n",
    "for k in range(len(A)-1,-1,-2):\n",
    "\tprint(A[k])"
   ],
   "execution_count":null,
   "outputs":[
    {
     "name":"stdout",
     "text":[
      "12\n",
      "10\n",
      "8\n",
      "6\n",
      "4\n",
      "2\n"
     ],
     "output_type":"stream"
    }
   ],
   "metadata":{
    "datalore":{
     "node_id":"uzO2DU04iPDg3ejqlezwPb",
     "type":"CODE",
     "hide_input_from_viewers":false,
     "hide_output_from_viewers":false,
     "report_properties":{
      "rowId":"chAVQWjsiQZk6VASQveD71"
     }
    }
   }
  },
  {
   "cell_type":"code",
   "source":[
    "df.isna().sum()"
   ],
   "execution_count":79,
   "outputs":[
    {
     "data":{
      "text\/plain":[
       "Name    1\n",
       "Age     2\n",
       "dtype: int64"
      ]
     },
     "metadata":{
      
     },
     "output_type":"display_data"
    }
   ],
   "metadata":{
    "datalore":{
     "node_id":"Z8hKdqPM5MMpxUPr6pYvMl",
     "type":"CODE",
     "hide_input_from_viewers":false,
     "hide_output_from_viewers":false,
     "report_properties":{
      "rowId":"EKPZAgtUIJJIoT1WANX9BC"
     }
    }
   }
  },
  {
   "cell_type":"code",
   "source":[
    "# удалить строки (axis=0), которые содержат хотя бы одно пропущенное значение\n",
    "df.dropna(axis=0, how='any')"
   ],
   "execution_count":32,
   "outputs":[
    {
     "data":{
      "text\/html":[
       "<div>\n",
       "<style scoped>\n",
       "    .dataframe tbody tr th:only-of-type {\n",
       "        vertical-align: middle;\n",
       "    }\n",
       "\n",
       "    .dataframe tbody tr th {\n",
       "        vertical-align: top;\n",
       "    }\n",
       "\n",
       "    .dataframe thead th {\n",
       "        text-align: right;\n",
       "    }\n",
       "<\/style>\n",
       "<table border=\"1\" class=\"dataframe\">\n",
       "  <thead>\n",
       "    <tr style=\"text-align: right;\">\n",
       "      <th><\/th>\n",
       "      <th>Name<\/th>\n",
       "      <th>Age<\/th>\n",
       "    <\/tr>\n",
       "  <\/thead>\n",
       "  <tbody>\n",
       "    <tr>\n",
       "      <th>0<\/th>\n",
       "      <td>Виктор<\/td>\n",
       "      <td>18.0<\/td>\n",
       "    <\/tr>\n",
       "    <tr>\n",
       "      <th>2<\/th>\n",
       "      <td>Иван<\/td>\n",
       "      <td>19.0<\/td>\n",
       "    <\/tr>\n",
       "    <tr>\n",
       "      <th>3<\/th>\n",
       "      <td>Иван<\/td>\n",
       "      <td>25.0<\/td>\n",
       "    <\/tr>\n",
       "  <\/tbody>\n",
       "<\/table>\n",
       "<\/div>"
      ]
     },
     "metadata":{
      
     },
     "output_type":"display_data"
    },
    {
     "data":{
      "text\/plain":[
       "     Name   Age\n",
       "0  Виктор  18.0\n",
       "2    Иван  19.0\n",
       "3    Иван  25.0"
      ]
     },
     "metadata":{
      
     },
     "output_type":"display_data"
    }
   ],
   "metadata":{
    "datalore":{
     "node_id":"EFfOIbU104UjwkHUM2VkLv",
     "type":"CODE",
     "hide_input_from_viewers":false,
     "hide_output_from_viewers":false,
     "report_properties":{
      "rowId":"huUiJbGVWnUhFmJIzBtO8v"
     }
    }
   }
  },
  {
   "cell_type":"code",
   "source":[
    "# удалить столбцы (axis=1), которые содержат хотя бы одно пропущенное значение\n",
    "df.dropna(axis=1, how='any')"
   ],
   "execution_count":null,
   "outputs":[
    
   ],
   "metadata":{
    "datalore":{
     "node_id":"FTjXpzXKrvbWXJUKT5F1ZC",
     "type":"CODE",
     "hide_input_from_viewers":false,
     "hide_output_from_viewers":false,
     "report_properties":{
      "rowId":"v9kGceMo7P1KaY5gW7Vadh"
     }
    }
   }
  },
  {
   "cell_type":"code",
   "source":[
    "# удалить строки (axis=0), которые содержат все одно пропущенные значения\n",
    "df.dropna(axis=0, how='all')"
   ],
   "execution_count":33,
   "outputs":[
    {
     "data":{
      "text\/html":[
       "<div>\n",
       "<style scoped>\n",
       "    .dataframe tbody tr th:only-of-type {\n",
       "        vertical-align: middle;\n",
       "    }\n",
       "\n",
       "    .dataframe tbody tr th {\n",
       "        vertical-align: top;\n",
       "    }\n",
       "\n",
       "    .dataframe thead th {\n",
       "        text-align: right;\n",
       "    }\n",
       "<\/style>\n",
       "<table border=\"1\" class=\"dataframe\">\n",
       "  <thead>\n",
       "    <tr style=\"text-align: right;\">\n",
       "      <th><\/th>\n",
       "      <th>Name<\/th>\n",
       "      <th>Age<\/th>\n",
       "    <\/tr>\n",
       "  <\/thead>\n",
       "  <tbody>\n",
       "    <tr>\n",
       "      <th>0<\/th>\n",
       "      <td>Виктор<\/td>\n",
       "      <td>18.0<\/td>\n",
       "    <\/tr>\n",
       "    <tr>\n",
       "      <th>1<\/th>\n",
       "      <td>Мария<\/td>\n",
       "      <td>NaN<\/td>\n",
       "    <\/tr>\n",
       "    <tr>\n",
       "      <th>2<\/th>\n",
       "      <td>Иван<\/td>\n",
       "      <td>19.0<\/td>\n",
       "    <\/tr>\n",
       "    <tr>\n",
       "      <th>3<\/th>\n",
       "      <td>Иван<\/td>\n",
       "      <td>25.0<\/td>\n",
       "    <\/tr>\n",
       "  <\/tbody>\n",
       "<\/table>\n",
       "<\/div>"
      ]
     },
     "metadata":{
      
     },
     "output_type":"display_data"
    },
    {
     "data":{
      "text\/plain":[
       "     Name   Age\n",
       "0  Виктор  18.0\n",
       "1   Мария   NaN\n",
       "2    Иван  19.0\n",
       "3    Иван  25.0"
      ]
     },
     "metadata":{
      
     },
     "output_type":"display_data"
    }
   ],
   "metadata":{
    "datalore":{
     "node_id":"BxCq7P0y2zUnjKNFLZZ4Ys",
     "type":"CODE",
     "hide_input_from_viewers":false,
     "hide_output_from_viewers":false,
     "report_properties":{
      "rowId":"yLxr36M8GlXVTX3S6fGkzk"
     }
    }
   }
  },
  {
   "cell_type":"code",
   "source":[
    "# удалить столбцы (axis=1), которые содержат хотя бы одно пропущенное значение\n",
    "df.dropna(axis=1, how='all')"
   ],
   "execution_count":null,
   "outputs":[
    
   ],
   "metadata":{
    "datalore":{
     "node_id":"CbTNYjA9KnOFY7RDv0OTNl",
     "type":"CODE",
     "hide_input_from_viewers":false,
     "hide_output_from_viewers":false,
     "report_properties":{
      "rowId":"3sv4vAtJWwOQ5VGdwFdPO0"
     }
    }
   }
  },
  {
   "cell_type":"markdown",
   "source":[
    "Добавление строк или столбцов в существующий DataFrame.\n",
    "\n",
    "Добавить новый столбец в существующий DataFrame можно воспользовавшись следующей конструкцией:\n",
    "\n",
    "`df['new_column'] = values`\n",
    "\n",
    "- values - значения в новом столбце (числов, список, Series)"
   ],
   "attachments":{
    
   },
   "metadata":{
    "datalore":{
     "node_id":"8CRffYyDjTaH3UInjQccuk",
     "type":"MD",
     "hide_input_from_viewers":false,
     "hide_output_from_viewers":false,
     "report_properties":{
      "rowId":"yYnq7eXhcOOWzwZQ0knCqQ"
     }
    }
   }
  },
  {
   "cell_type":"code",
   "source":[
    "d = [{\"Name\": \"Виктор\", \"Age\": 18},\n",
    "     {\"Name\": \"Мария\", \"Age\": 21},\n",
    "     {\"Name\": \"Иван\", \"Age\": 19},\n",
    "     {\"Name\": \"Иван\", \"Age\": 25},\n",
    "     {\"Name\": \"Алексей\", \"Age\": 20}]\n",
    "\n",
    "df = pd.DataFrame(d)\n",
    "\n",
    "df"
   ],
   "execution_count":82,
   "outputs":[
    {
     "data":{
      "text\/html":[
       "<div>\n",
       "<style scoped>\n",
       "    .dataframe tbody tr th:only-of-type {\n",
       "        vertical-align: middle;\n",
       "    }\n",
       "\n",
       "    .dataframe tbody tr th {\n",
       "        vertical-align: top;\n",
       "    }\n",
       "\n",
       "    .dataframe thead th {\n",
       "        text-align: right;\n",
       "    }\n",
       "<\/style>\n",
       "<table border=\"1\" class=\"dataframe\">\n",
       "  <thead>\n",
       "    <tr style=\"text-align: right;\">\n",
       "      <th><\/th>\n",
       "      <th>Name<\/th>\n",
       "      <th>Age<\/th>\n",
       "    <\/tr>\n",
       "  <\/thead>\n",
       "  <tbody>\n",
       "    <tr>\n",
       "      <th>0<\/th>\n",
       "      <td>Виктор<\/td>\n",
       "      <td>18<\/td>\n",
       "    <\/tr>\n",
       "    <tr>\n",
       "      <th>1<\/th>\n",
       "      <td>Мария<\/td>\n",
       "      <td>21<\/td>\n",
       "    <\/tr>\n",
       "    <tr>\n",
       "      <th>2<\/th>\n",
       "      <td>Иван<\/td>\n",
       "      <td>19<\/td>\n",
       "    <\/tr>\n",
       "    <tr>\n",
       "      <th>3<\/th>\n",
       "      <td>Иван<\/td>\n",
       "      <td>25<\/td>\n",
       "    <\/tr>\n",
       "    <tr>\n",
       "      <th>4<\/th>\n",
       "      <td>Алексей<\/td>\n",
       "      <td>20<\/td>\n",
       "    <\/tr>\n",
       "  <\/tbody>\n",
       "<\/table>\n",
       "<\/div>"
      ]
     },
     "metadata":{
      
     },
     "output_type":"display_data"
    },
    {
     "data":{
      "text\/plain":[
       "      Name  Age\n",
       "0   Виктор   18\n",
       "1    Мария   21\n",
       "2     Иван   19\n",
       "3     Иван   25\n",
       "4  Алексей   20"
      ]
     },
     "metadata":{
      
     },
     "output_type":"display_data"
    }
   ],
   "metadata":{
    "datalore":{
     "node_id":"MTxdHZMMFvMnxGUjxe9OIc",
     "type":"CODE",
     "hide_input_from_viewers":false,
     "hide_output_from_viewers":false,
     "report_properties":{
      "rowId":"EQ3FBZfK7Ju5Z0nl8Zbh73"
     }
    }
   }
  },
  {
   "cell_type":"code",
   "source":[
    "# Добавление нового столбца - значения которого переданы в виде списка\n",
    "df['University'] = ['NRNU MEPhI', 'MIPT', 'MITP', 'NRNU MEPhI', 'BMSTU']\n",
    "\n",
    "df"
   ],
   "execution_count":84,
   "outputs":[
    {
     "data":{
      "text\/html":[
       "<div>\n",
       "<style scoped>\n",
       "    .dataframe tbody tr th:only-of-type {\n",
       "        vertical-align: middle;\n",
       "    }\n",
       "\n",
       "    .dataframe tbody tr th {\n",
       "        vertical-align: top;\n",
       "    }\n",
       "\n",
       "    .dataframe thead th {\n",
       "        text-align: right;\n",
       "    }\n",
       "<\/style>\n",
       "<table border=\"1\" class=\"dataframe\">\n",
       "  <thead>\n",
       "    <tr style=\"text-align: right;\">\n",
       "      <th><\/th>\n",
       "      <th>Name<\/th>\n",
       "      <th>Age<\/th>\n",
       "      <th>University<\/th>\n",
       "    <\/tr>\n",
       "  <\/thead>\n",
       "  <tbody>\n",
       "    <tr>\n",
       "      <th>0<\/th>\n",
       "      <td>Виктор<\/td>\n",
       "      <td>18<\/td>\n",
       "      <td>NRNU MEPhI<\/td>\n",
       "    <\/tr>\n",
       "    <tr>\n",
       "      <th>1<\/th>\n",
       "      <td>Мария<\/td>\n",
       "      <td>21<\/td>\n",
       "      <td>MIPT<\/td>\n",
       "    <\/tr>\n",
       "    <tr>\n",
       "      <th>2<\/th>\n",
       "      <td>Иван<\/td>\n",
       "      <td>19<\/td>\n",
       "      <td>MITP<\/td>\n",
       "    <\/tr>\n",
       "    <tr>\n",
       "      <th>3<\/th>\n",
       "      <td>Иван<\/td>\n",
       "      <td>25<\/td>\n",
       "      <td>NRNU MEPhI<\/td>\n",
       "    <\/tr>\n",
       "    <tr>\n",
       "      <th>4<\/th>\n",
       "      <td>Алексей<\/td>\n",
       "      <td>20<\/td>\n",
       "      <td>BMSTU<\/td>\n",
       "    <\/tr>\n",
       "  <\/tbody>\n",
       "<\/table>\n",
       "<\/div>"
      ]
     },
     "metadata":{
      
     },
     "output_type":"display_data"
    },
    {
     "data":{
      "text\/plain":[
       "      Name  Age  University\n",
       "0   Виктор   18  NRNU MEPhI\n",
       "1    Мария   21        MIPT\n",
       "2     Иван   19        MITP\n",
       "3     Иван   25  NRNU MEPhI\n",
       "4  Алексей   20       BMSTU"
      ]
     },
     "metadata":{
      
     },
     "output_type":"display_data"
    }
   ],
   "metadata":{
    "datalore":{
     "node_id":"vSFDvSlZvItWjdfwivksJU",
     "type":"CODE",
     "hide_input_from_viewers":false,
     "hide_output_from_viewers":false,
     "report_properties":{
      "rowId":"PjnNJqJQ6CE6DBpDkj2NYE"
     }
    }
   }
  },
  {
   "cell_type":"code",
   "source":[
    "# Добавление нового столбца - все значения будут одинаковы и равны 'bachelor'\n",
    "df['level'] = 'bachelor'\n",
    "df"
   ],
   "execution_count":85,
   "outputs":[
    {
     "data":{
      "text\/html":[
       "<div>\n",
       "<style scoped>\n",
       "    .dataframe tbody tr th:only-of-type {\n",
       "        vertical-align: middle;\n",
       "    }\n",
       "\n",
       "    .dataframe tbody tr th {\n",
       "        vertical-align: top;\n",
       "    }\n",
       "\n",
       "    .dataframe thead th {\n",
       "        text-align: right;\n",
       "    }\n",
       "<\/style>\n",
       "<table border=\"1\" class=\"dataframe\">\n",
       "  <thead>\n",
       "    <tr style=\"text-align: right;\">\n",
       "      <th><\/th>\n",
       "      <th>Name<\/th>\n",
       "      <th>Age<\/th>\n",
       "      <th>University<\/th>\n",
       "      <th>level<\/th>\n",
       "    <\/tr>\n",
       "  <\/thead>\n",
       "  <tbody>\n",
       "    <tr>\n",
       "      <th>0<\/th>\n",
       "      <td>Виктор<\/td>\n",
       "      <td>18<\/td>\n",
       "      <td>NRNU MEPhI<\/td>\n",
       "      <td>bachelor<\/td>\n",
       "    <\/tr>\n",
       "    <tr>\n",
       "      <th>1<\/th>\n",
       "      <td>Мария<\/td>\n",
       "      <td>21<\/td>\n",
       "      <td>MIPT<\/td>\n",
       "      <td>bachelor<\/td>\n",
       "    <\/tr>\n",
       "    <tr>\n",
       "      <th>2<\/th>\n",
       "      <td>Иван<\/td>\n",
       "      <td>19<\/td>\n",
       "      <td>MITP<\/td>\n",
       "      <td>bachelor<\/td>\n",
       "    <\/tr>\n",
       "    <tr>\n",
       "      <th>3<\/th>\n",
       "      <td>Иван<\/td>\n",
       "      <td>25<\/td>\n",
       "      <td>NRNU MEPhI<\/td>\n",
       "      <td>bachelor<\/td>\n",
       "    <\/tr>\n",
       "    <tr>\n",
       "      <th>4<\/th>\n",
       "      <td>Алексей<\/td>\n",
       "      <td>20<\/td>\n",
       "      <td>BMSTU<\/td>\n",
       "      <td>bachelor<\/td>\n",
       "    <\/tr>\n",
       "  <\/tbody>\n",
       "<\/table>\n",
       "<\/div>"
      ]
     },
     "metadata":{
      
     },
     "output_type":"display_data"
    },
    {
     "data":{
      "text\/plain":[
       "      Name  Age  University     level\n",
       "0   Виктор   18  NRNU MEPhI  bachelor\n",
       "1    Мария   21        MIPT  bachelor\n",
       "2     Иван   19        MITP  bachelor\n",
       "3     Иван   25  NRNU MEPhI  bachelor\n",
       "4  Алексей   20       BMSTU  bachelor"
      ]
     },
     "metadata":{
      
     },
     "output_type":"display_data"
    }
   ],
   "metadata":{
    "datalore":{
     "node_id":"PW1qEvR6LwxBPw9WwKkcYB",
     "type":"CODE",
     "hide_input_from_viewers":false,
     "hide_output_from_viewers":false,
     "report_properties":{
      "rowId":"JWmznjj2WBksHuCyf7Uo6M"
     }
    }
   }
  },
  {
   "cell_type":"markdown",
   "source":[
    "Также существует метод позволяющий объединять объекты Series и DataFrame.\n",
    "\n",
    "`pandas.concat( objs , axis = 0 , join = 'outer' , ignore_index = False , keys = None , levels = None , names = None , verify_integrity = False , sort = False , copy = True )`\n",
    "\n",
    "- objs последовательность или сопоставление объектов Series или DataFrame\n",
    "- ось {0 \/ 'index', 1 \/ 'columns'}, по умолчанию 0. Ось для объединения (объединение по столбцам или по строкам)."
   ],
   "attachments":{
    
   },
   "metadata":{
    "datalore":{
     "node_id":"x2SxZZhvBaWqKatdGxeF2a",
     "type":"MD",
     "hide_input_from_viewers":false,
     "hide_output_from_viewers":false,
     "report_properties":{
      "rowId":"FK2z2XglShn5jLxRPcrFsO"
     }
    }
   }
  },
  {
   "cell_type":"code",
   "source":[
    "# Объединение двух Series\n",
    "# так как параметр ignore_index по умолчанию False\n",
    "# то сохраняется старая нумерация в Series\n",
    "s1 = pd.Series(['a', 'b'])\n",
    "s2 = pd.Series(['c', 'd'])\n",
    "pd.concat([s1, s2])"
   ],
   "execution_count":17,
   "outputs":[
    {
     "data":{
      "text\/plain":[
       "0    a\n",
       "1    b\n",
       "0    c\n",
       "1    d\n",
       "dtype: object"
      ]
     },
     "metadata":{
      
     },
     "output_type":"display_data"
    }
   ],
   "metadata":{
    "datalore":{
     "node_id":"ed9thmYD1rlwyOYpdHD3jQ",
     "type":"CODE",
     "hide_input_from_viewers":false,
     "hide_output_from_viewers":false,
     "report_properties":{
      "rowId":"Z584Yuh7uyrJEbdf2wP66y"
     }
    }
   }
  },
  {
   "cell_type":"code",
   "source":[
    "# Объединение двух Series\n",
    "# очистить существующий индекс и сбросить его в результате\n",
    "# можно задав ignore_index=True\n",
    "s1 = pd.Series(['a', 'b'])\n",
    "s2 = pd.Series(['c', 'd'])\n",
    "pd.concat([s1, s2], ignore_index=True)"
   ],
   "execution_count":86,
   "outputs":[
    {
     "data":{
      "text\/plain":[
       "0    a\n",
       "1    b\n",
       "2    c\n",
       "3    d\n",
       "dtype: object"
      ]
     },
     "metadata":{
      
     },
     "output_type":"display_data"
    }
   ],
   "metadata":{
    "datalore":{
     "node_id":"2IFDU4RgULla1vYuzNxOXS",
     "type":"CODE",
     "hide_input_from_viewers":false,
     "hide_output_from_viewers":false,
     "report_properties":{
      "rowId":"wxVg1BqgMsNQpeuYroz6KC"
     }
    }
   }
  },
  {
   "cell_type":"code",
   "source":[
    "# Объединений двух DataFrame\n",
    "df1 = pd.DataFrame([['Петр', 19], ['Иван', 22]], columns=['Name', 'Age'])\n",
    "df1"
   ],
   "execution_count":87,
   "outputs":[
    {
     "data":{
      "text\/html":[
       "<div>\n",
       "<style scoped>\n",
       "    .dataframe tbody tr th:only-of-type {\n",
       "        vertical-align: middle;\n",
       "    }\n",
       "\n",
       "    .dataframe tbody tr th {\n",
       "        vertical-align: top;\n",
       "    }\n",
       "\n",
       "    .dataframe thead th {\n",
       "        text-align: right;\n",
       "    }\n",
       "<\/style>\n",
       "<table border=\"1\" class=\"dataframe\">\n",
       "  <thead>\n",
       "    <tr style=\"text-align: right;\">\n",
       "      <th><\/th>\n",
       "      <th>Name<\/th>\n",
       "      <th>Age<\/th>\n",
       "    <\/tr>\n",
       "  <\/thead>\n",
       "  <tbody>\n",
       "    <tr>\n",
       "      <th>0<\/th>\n",
       "      <td>Петр<\/td>\n",
       "      <td>19<\/td>\n",
       "    <\/tr>\n",
       "    <tr>\n",
       "      <th>1<\/th>\n",
       "      <td>Иван<\/td>\n",
       "      <td>22<\/td>\n",
       "    <\/tr>\n",
       "  <\/tbody>\n",
       "<\/table>\n",
       "<\/div>"
      ]
     },
     "metadata":{
      
     },
     "output_type":"display_data"
    },
    {
     "data":{
      "text\/plain":[
       "   Name  Age\n",
       "0  Петр   19\n",
       "1  Иван   22"
      ]
     },
     "metadata":{
      
     },
     "output_type":"display_data"
    }
   ],
   "metadata":{
    "datalore":{
     "node_id":"yliTKExuxj4oXPU6yyNoPT",
     "type":"CODE",
     "hide_input_from_viewers":false,
     "hide_output_from_viewers":false,
     "report_properties":{
      "rowId":"3IAaotS2GG0gGdq6afJxbC"
     }
    }
   }
  },
  {
   "cell_type":"code",
   "source":[
    "df2 = pd.DataFrame([['Мария', 20], ['Анастасия', 18]], columns=['Name', 'Age'])\n",
    "df2"
   ],
   "execution_count":88,
   "outputs":[
    {
     "data":{
      "text\/html":[
       "<div>\n",
       "<style scoped>\n",
       "    .dataframe tbody tr th:only-of-type {\n",
       "        vertical-align: middle;\n",
       "    }\n",
       "\n",
       "    .dataframe tbody tr th {\n",
       "        vertical-align: top;\n",
       "    }\n",
       "\n",
       "    .dataframe thead th {\n",
       "        text-align: right;\n",
       "    }\n",
       "<\/style>\n",
       "<table border=\"1\" class=\"dataframe\">\n",
       "  <thead>\n",
       "    <tr style=\"text-align: right;\">\n",
       "      <th><\/th>\n",
       "      <th>Name<\/th>\n",
       "      <th>Age<\/th>\n",
       "    <\/tr>\n",
       "  <\/thead>\n",
       "  <tbody>\n",
       "    <tr>\n",
       "      <th>0<\/th>\n",
       "      <td>Мария<\/td>\n",
       "      <td>20<\/td>\n",
       "    <\/tr>\n",
       "    <tr>\n",
       "      <th>1<\/th>\n",
       "      <td>Анастасия<\/td>\n",
       "      <td>18<\/td>\n",
       "    <\/tr>\n",
       "  <\/tbody>\n",
       "<\/table>\n",
       "<\/div>"
      ]
     },
     "metadata":{
      
     },
     "output_type":"display_data"
    },
    {
     "data":{
      "text\/plain":[
       "        Name  Age\n",
       "0      Мария   20\n",
       "1  Анастасия   18"
      ]
     },
     "metadata":{
      
     },
     "output_type":"display_data"
    }
   ],
   "metadata":{
    "datalore":{
     "node_id":"EWY5V5bHo4i5Xf7UPxponn",
     "type":"CODE",
     "hide_input_from_viewers":false,
     "hide_output_from_viewers":false,
     "report_properties":{
      "rowId":"nFoWxCf0qX6KSAINBBGV5C"
     }
    }
   }
  },
  {
   "cell_type":"code",
   "source":[
    "#  объединение по строкам\n",
    "df1 = pd.concat([df1, df2])\n",
    "df1"
   ],
   "execution_count":89,
   "outputs":[
    {
     "data":{
      "text\/html":[
       "<div>\n",
       "<style scoped>\n",
       "    .dataframe tbody tr th:only-of-type {\n",
       "        vertical-align: middle;\n",
       "    }\n",
       "\n",
       "    .dataframe tbody tr th {\n",
       "        vertical-align: top;\n",
       "    }\n",
       "\n",
       "    .dataframe thead th {\n",
       "        text-align: right;\n",
       "    }\n",
       "<\/style>\n",
       "<table border=\"1\" class=\"dataframe\">\n",
       "  <thead>\n",
       "    <tr style=\"text-align: right;\">\n",
       "      <th><\/th>\n",
       "      <th>Name<\/th>\n",
       "      <th>Age<\/th>\n",
       "    <\/tr>\n",
       "  <\/thead>\n",
       "  <tbody>\n",
       "    <tr>\n",
       "      <th>0<\/th>\n",
       "      <td>Петр<\/td>\n",
       "      <td>19<\/td>\n",
       "    <\/tr>\n",
       "    <tr>\n",
       "      <th>1<\/th>\n",
       "      <td>Иван<\/td>\n",
       "      <td>22<\/td>\n",
       "    <\/tr>\n",
       "    <tr>\n",
       "      <th>0<\/th>\n",
       "      <td>Мария<\/td>\n",
       "      <td>20<\/td>\n",
       "    <\/tr>\n",
       "    <tr>\n",
       "      <th>1<\/th>\n",
       "      <td>Анастасия<\/td>\n",
       "      <td>18<\/td>\n",
       "    <\/tr>\n",
       "  <\/tbody>\n",
       "<\/table>\n",
       "<\/div>"
      ]
     },
     "metadata":{
      
     },
     "output_type":"display_data"
    },
    {
     "data":{
      "text\/plain":[
       "        Name  Age\n",
       "0       Петр   19\n",
       "1       Иван   22\n",
       "0      Мария   20\n",
       "1  Анастасия   18"
      ]
     },
     "metadata":{
      
     },
     "output_type":"display_data"
    }
   ],
   "metadata":{
    "datalore":{
     "node_id":"7SNGox7NxFE6wUmcuB0pNl",
     "type":"CODE",
     "hide_input_from_viewers":false,
     "hide_output_from_viewers":false,
     "report_properties":{
      "rowId":"JaiOYhwvJfiwXYAJCnlp0I"
     }
    }
   }
  },
  {
   "cell_type":"code",
   "source":[
    "# объединение по столбцам\n",
    "pd.concat([df1, df2], axis=1)"
   ],
   "execution_count":24,
   "outputs":[
    {
     "data":{
      "text\/html":[
       "<div>\n",
       "<style scoped>\n",
       "    .dataframe tbody tr th:only-of-type {\n",
       "        vertical-align: middle;\n",
       "    }\n",
       "\n",
       "    .dataframe tbody tr th {\n",
       "        vertical-align: top;\n",
       "    }\n",
       "\n",
       "    .dataframe thead th {\n",
       "        text-align: right;\n",
       "    }\n",
       "<\/style>\n",
       "<table border=\"1\" class=\"dataframe\">\n",
       "  <thead>\n",
       "    <tr style=\"text-align: right;\">\n",
       "      <th><\/th>\n",
       "      <th>Name<\/th>\n",
       "      <th>Age<\/th>\n",
       "      <th>Name<\/th>\n",
       "      <th>Age<\/th>\n",
       "    <\/tr>\n",
       "  <\/thead>\n",
       "  <tbody>\n",
       "    <tr>\n",
       "      <th>0<\/th>\n",
       "      <td>Петр<\/td>\n",
       "      <td>19<\/td>\n",
       "      <td>Мария<\/td>\n",
       "      <td>20<\/td>\n",
       "    <\/tr>\n",
       "    <tr>\n",
       "      <th>1<\/th>\n",
       "      <td>Иван<\/td>\n",
       "      <td>22<\/td>\n",
       "      <td>Анастасия<\/td>\n",
       "      <td>18<\/td>\n",
       "    <\/tr>\n",
       "  <\/tbody>\n",
       "<\/table>\n",
       "<\/div>"
      ]
     },
     "metadata":{
      
     },
     "output_type":"display_data"
    },
    {
     "data":{
      "text\/plain":[
       "   Name  Age       Name  Age\n",
       "0  Петр   19      Мария   20\n",
       "1  Иван   22  Анастасия   18"
      ]
     },
     "metadata":{
      
     },
     "output_type":"display_data"
    }
   ],
   "metadata":{
    "datalore":{
     "node_id":"Y38fIwNTyCiW3a2Ar2nhHc",
     "type":"CODE",
     "hide_input_from_viewers":false,
     "hide_output_from_viewers":false,
     "report_properties":{
      "rowId":"8DC8bFS2LlR2G8MizwLDWf"
     }
    }
   }
  },
  {
   "cell_type":"code",
   "source":[
    "df1 = pd.DataFrame([['Петр', 19], ['Иван', 22]], columns=['Name', 'Age'])\n",
    "df2 = pd.DataFrame([['MIPT'], ['MIPT']], columns=['University'])\n",
    "\n",
    "pd.concat([df1, df2], axis=1)"
   ],
   "execution_count":91,
   "outputs":[
    {
     "data":{
      "text\/html":[
       "<div>\n",
       "<style scoped>\n",
       "    .dataframe tbody tr th:only-of-type {\n",
       "        vertical-align: middle;\n",
       "    }\n",
       "\n",
       "    .dataframe tbody tr th {\n",
       "        vertical-align: top;\n",
       "    }\n",
       "\n",
       "    .dataframe thead th {\n",
       "        text-align: right;\n",
       "    }\n",
       "<\/style>\n",
       "<table border=\"1\" class=\"dataframe\">\n",
       "  <thead>\n",
       "    <tr style=\"text-align: right;\">\n",
       "      <th><\/th>\n",
       "      <th>Name<\/th>\n",
       "      <th>Age<\/th>\n",
       "      <th>University<\/th>\n",
       "    <\/tr>\n",
       "  <\/thead>\n",
       "  <tbody>\n",
       "    <tr>\n",
       "      <th>0<\/th>\n",
       "      <td>Петр<\/td>\n",
       "      <td>19<\/td>\n",
       "      <td>MIPT<\/td>\n",
       "    <\/tr>\n",
       "    <tr>\n",
       "      <th>1<\/th>\n",
       "      <td>Иван<\/td>\n",
       "      <td>22<\/td>\n",
       "      <td>MIPT<\/td>\n",
       "    <\/tr>\n",
       "  <\/tbody>\n",
       "<\/table>\n",
       "<\/div>"
      ]
     },
     "metadata":{
      
     },
     "output_type":"display_data"
    },
    {
     "data":{
      "text\/plain":[
       "   Name  Age University\n",
       "0  Петр   19       MIPT\n",
       "1  Иван   22       MIPT"
      ]
     },
     "metadata":{
      
     },
     "output_type":"display_data"
    }
   ],
   "metadata":{
    "datalore":{
     "node_id":"n7nfMDniYW7x8XVXOdlS5q",
     "type":"CODE",
     "hide_input_from_viewers":false,
     "hide_output_from_viewers":false,
     "report_properties":{
      "rowId":"NgErW2WhzfVB0Bqa8bYs8P"
     }
    }
   }
  },
  {
   "cell_type":"markdown",
   "source":[
    "## Импорт данных"
   ],
   "attachments":{
    
   },
   "metadata":{
    "datalore":{
     "node_id":"EHIUxVz5gY1qeneBuaOCAl",
     "type":"MD",
     "hide_input_from_viewers":false,
     "hide_output_from_viewers":false,
     "report_properties":{
      "rowId":"1P4baVEgdEs7x7qXk0WEuw"
     }
    }
   }
  },
  {
   "cell_type":"markdown",
   "source":[
    "Для создания DataFrame можно использовать внешние данные, например из файлов .csv или  .xlsx.\n",
    "\n",
    "**CSV** (Comma-Separated Values — значения, разделённые запятыми) — текстовый формат, предназначенный для представления табличных данных.\n",
    "\n",
    "Каждая строка - это отдельная строка таблицы, а столбцы отделены один от другого специальными символами - разделителями (например, запятой).\n",
    "\n",
    "Для загрузки .csv файла с данными в pandas используется функция **read_csv()**.\n",
    "\n",
    "У функции есть ряд ключевых параметров:\n",
    "- filepath_or_buffer - путь к файлу, который необходимо считать\n",
    "- sep - Используемый разделитель\n",
    "\n",
    "По умолчанию предполагается, что поля разделены запятыми."
   ],
   "attachments":{
    
   },
   "metadata":{
    "datalore":{
     "node_id":"6QsXjvimrP96ywOf4hc4UO",
     "type":"MD",
     "hide_input_from_viewers":false,
     "hide_output_from_viewers":false,
     "report_properties":{
      "rowId":"OxKYeg4OuTKqeRex708geJ"
     }
    }
   }
  },
  {
   "cell_type":"code",
   "source":[
    "import pandas as pd\n",
    "\n",
    "df = pd.read_csv(\"my_fires_dataframe.csv\", sep=',')"
   ],
   "execution_count":null,
   "outputs":[
    
   ],
   "metadata":{
    "datalore":{
     "node_id":"52KysJV5HIwjGc9xCO6cWP",
     "type":"CODE",
     "hide_input_from_viewers":false,
     "hide_output_from_viewers":false,
     "report_properties":{
      "rowId":"vjxOjxGA2bvUU0s4VhmI1e"
     }
    }
   }
  },
  {
   "cell_type":"markdown",
   "source":[
    "Существует анологичная функция для чтения данных с Excel."
   ],
   "attachments":{
    
   },
   "metadata":{
    "datalore":{
     "node_id":"vGJpNtSICkCKyydsPZvGoi",
     "type":"MD",
     "hide_input_from_viewers":false,
     "hide_output_from_viewers":false,
     "report_properties":{
      "rowId":"TYaGmOmtY67I4ObK8PS3dS"
     }
    }
   }
  },
  {
   "cell_type":"code",
   "source":[
    "import pandas as pd\n",
    "\n",
    "df = pd.read_excel(\"my_fires_dataframe.xlsx\")"
   ],
   "execution_count":null,
   "outputs":[
    
   ],
   "metadata":{
    "datalore":{
     "node_id":"h5IvfPrjdBhUtfOsELIgMC",
     "type":"CODE",
     "hide_input_from_viewers":false,
     "hide_output_from_viewers":false,
     "report_properties":{
      "rowId":"gb3V7nLZ0D70bTF5gVrgiy"
     }
    }
   }
  },
  {
   "cell_type":"markdown",
   "source":[
    "## Экспорт данных"
   ],
   "attachments":{
    
   },
   "metadata":{
    "datalore":{
     "node_id":"uV0L4LGclpspkRRstkp5yI",
     "type":"MD",
     "hide_input_from_viewers":false,
     "hide_output_from_viewers":false,
     "report_properties":{
      "rowId":"jYSavPhWuzzP7bZgGL9j0Z"
     }
    }
   }
  },
  {
   "cell_type":"markdown",
   "source":[
    "DataFrame и Series можно сохранять в виде файлов .csv и .xlsx\n",
    "\n",
    "`DataFrame.to_csv(path_or_buf=None, sep=',', na_rep='', float_format=None, columns=None, header=True, index=True, index_label=None, mode='w', encoding=None, compression='infer', quoting=None, quotechar='\"', line_terminator=None, chunksize=None, date_format=None, doublequote=True, escapechar=None, decimal='.', errors='strict', storage_options=None)`\n",
    "\n",
    "- path_or_buf - пусть к файлу\n",
    "- sep - Строка длиной 1. Разделитель полей для выходного файла.\n",
    "\n",
    "Чтобы записать отдельный объект в файл Excel .xlsx, необходимо только указать имя целевого файла. Для записи на несколько листов необходимо создать объект ExcelWriter с именем целевого файла и указать лист в файле для записи.\n",
    "\n",
    "`DataFrame.to_excel(excel_writer, sheet_name='Sheet1', na_rep='', float_format=None, columns=None, header=True, index=True, index_label=None, startrow=0, startcol=0, engine=None, merge_cells=True, encoding=None, inf_rep='inf', verbose=True, freeze_panes=None, storage_options=None)`"
   ],
   "attachments":{
    
   },
   "metadata":{
    "datalore":{
     "node_id":"VZ6ybdMhml8ZD6ncIKfhHA",
     "type":"MD",
     "hide_input_from_viewers":false,
     "hide_output_from_viewers":false,
     "report_properties":{
      "rowId":"3AECsoVBIS8HXvrQAYn7Jg"
     }
    }
   }
  },
  {
   "cell_type":"code",
   "source":[
    "d = [{\"Name\": \"Виктор\", \"Age\": 18},\n",
    "     {\"Name\": \"Мария\", \"Age\": 21},\n",
    "     {\"Name\": \"Иван\", \"Age\": 19},\n",
    "     {\"Name\": \"Иван\", \"Age\": 25},\n",
    "     {\"Name\": \"Алексей\", \"Age\": 20}]\n",
    "\n",
    "df = pd.DataFrame(d)\n",
    "\n",
    "df.to_csv(\"my.csv\")\n",
    "df.to_excel(\"my_excel.xlsx\")"
   ],
   "execution_count":null,
   "outputs":[
    
   ],
   "metadata":{
    "datalore":{
     "node_id":"XSsSYEr2Mzm8nYviOXR0o7",
     "type":"CODE",
     "hide_input_from_viewers":false,
     "hide_output_from_viewers":false,
     "report_properties":{
      "rowId":"I0nB037Iu8PcUso63dbBbk"
     }
    }
   }
  },
  {
   "cell_type":"markdown",
   "source":[
    "##Задания"
   ],
   "attachments":{
    
   },
   "metadata":{
    "datalore":{
     "node_id":"PfmxH1ggbj8Hih4gTtqH0M",
     "type":"MD",
     "hide_input_from_viewers":false,
     "hide_output_from_viewers":false,
     "report_properties":{
      "rowId":"WjkOImwTEzAV6qZh49KRZ5"
     }
    }
   }
  },
  {
   "cell_type":"markdown",
   "source":[
    "**Задание 1.**\n",
    "\n",
    "Задан Series объект s, найти индекс первого элемента отсортированного s, где значения больше 5."
   ],
   "attachments":{
    
   },
   "metadata":{
    "datalore":{
     "node_id":"xjbJYk49byUtZfDDnk2CnO",
     "type":"MD",
     "hide_input_from_viewers":false,
     "hide_output_from_viewers":false,
     "report_properties":{
      "rowId":"8RquEH8VsgkNBijQ2WcNsE"
     }
    }
   }
  },
  {
   "cell_type":"code",
   "source":[
    "# задано изначально\n",
    "import numpy as np\n",
    "import pandas as pd\n",
    "\n",
    "r = np.random.RandomState(1)\n",
    "s = pd.Series(r.uniform(0, 10, 100))\n",
    "s = pd.Series(sorted(s))\n",
    "s[s > 5].index[0]"
   ],
   "execution_count":23,
   "outputs":[
    {
     "data":{
      "text\/plain":[
       "51"
      ]
     },
     "metadata":{
      
     },
     "output_type":"display_data"
    }
   ],
   "metadata":{
    "datalore":{
     "node_id":"v69nvooVIwgH4ujhRsCKF4",
     "type":"CODE",
     "hide_input_from_viewers":false,
     "hide_output_from_viewers":false,
     "report_properties":{
      "rowId":"dsDccE9d4CjnP1KQOZRPFP"
     }
    }
   }
  },
  {
   "cell_type":"markdown",
   "source":[
    "**Задание 2.**\n",
    "\n",
    "Имеется небольшой игрушечный DataFrame, в котором необходимо провести несколько типов фильтраций и отобразить результат:\n",
    "\n",
    "* всех, кто старше 40\n",
    "* всех, кто имеет доход выше среднего по датасету\n",
    "* всех, кто имеет доход выше среднего по датасету, но надежность ниже среднего по датасету\n",
    "\n",
    "создать новые столбцы:\n",
    "\n",
    "* важность клиента = доход * надежность\n",
    "* возможная долгосрочность клиента = важность клиента * (средний возраст по датасету - возраст клиента)\n",
    "\n",
    "`подсказка: двойные условия записываются так: (условие 1) & (условие 2)`\n",
    "\n",
    "\n",
    "** примечание: столбцы не имеют отношения к реальным формулам или моделям, они необходимы только для наглядности"
   ],
   "attachments":{
    
   },
   "metadata":{
    "datalore":{
     "node_id":"Be2p3krIJPks71GlcyspSR",
     "type":"MD",
     "hide_input_from_viewers":false,
     "hide_output_from_viewers":false,
     "report_properties":{
      "rowId":"2nfT3E3gCQbdWxSFeABOPo"
     }
    }
   }
  },
  {
   "cell_type":"code",
   "source":[
    "# создадим тестовый датасет\n",
    "df = pd.DataFrame({\n",
    "    'имя': ['Петя', 'Вася', 'Аня', 'Света'],\n",
    "    'возраст': [45, 26, 41 , 21],\n",
    "    'доход': [100000, 80000, 150000, 60000],\n",
    "    'надежность': [0.65, 0.74, 0.87, 0.68],\n",
    "    'пол': ['муж', 'муж', 'жен', 'жен']},\n",
    "    index=[0, 1, 2, 3])\n",
    "\n",
    "df['важность клиента'] = df['доход'] * df['надежность']\n",
    "df['возможная долгосрочность клиента'] = df['важность клиента'] * (df['возраст'].mean() - df['возраст'])\n",
    "\n",
    "print(df)\n",
    "print(df[df['возраст'] > 40])\n",
    "print(\"-\"*20)\n",
    "print(df[df['доход'] > df['доход'].mean()])\n",
    "print(\"-\"*20)\n",
    "print(df[(df['доход'] > df['доход'].mean()) & (df['надежность'] < df['надежность'].mean())])\n",
    "\n",
    "# ваш код тут"
   ],
   "execution_count":35,
   "outputs":[
    {
     "name":"stdout",
     "text":[
      "     имя  возраст   доход  надежность  пол  важность клиента  \\\n",
      "0   Петя       45  100000        0.65  муж           65000.0   \n",
      "1   Вася       26   80000        0.74  муж           59200.0   \n",
      "2    Аня       41  150000        0.87  жен          130500.0   \n",
      "3  Света       21   60000        0.68  жен           40800.0   \n",
      "\n",
      "   возможная долгосрочность клиента  \n",
      "0                         -763750.0  \n",
      "1                          429200.0  \n",
      "2                        -1011375.0  \n",
      "3                          499800.0  \n",
      "    имя  возраст   доход  надежность  пол  важность клиента  \\\n",
      "0  Петя       45  100000        0.65  муж           65000.0   \n",
      "2   Аня       41  150000        0.87  жен          130500.0   \n",
      "\n",
      "   возможная долгосрочность клиента  \n",
      "0                         -763750.0  \n",
      "2                        -1011375.0  \n",
      "--------------------\n",
      "    имя  возраст   доход  надежность  пол  важность клиента  \\\n",
      "0  Петя       45  100000        0.65  муж           65000.0   \n",
      "2   Аня       41  150000        0.87  жен          130500.0   \n",
      "\n",
      "   возможная долгосрочность клиента  \n",
      "0                         -763750.0  \n",
      "2                        -1011375.0  \n",
      "--------------------\n",
      "    имя  возраст   доход  надежность  пол  важность клиента  \\\n",
      "0  Петя       45  100000        0.65  муж           65000.0   \n",
      "\n",
      "   возможная долгосрочность клиента  \n",
      "0                         -763750.0  \n"
     ],
     "output_type":"stream"
    }
   ],
   "metadata":{
    "datalore":{
     "node_id":"EHhHwqxz51D0e3L0gt24Rg",
     "type":"CODE",
     "hide_input_from_viewers":false,
     "hide_output_from_viewers":false,
     "report_properties":{
      "rowId":"LakGFNOSlz19H9U0lWejFF"
     }
    }
   }
  },
  {
   "cell_type":"markdown",
   "source":[
    "**Задание 3.**\n",
    "\n",
    "Как объединить два DataFrame по двум столбцам так, чтобы остались только общие строки?\n",
    "\n",
    "Объедините df1 и df2 по столбцам fruit-frukt и weight-ves."
   ],
   "attachments":{
    
   },
   "metadata":{
    "datalore":{
     "node_id":"7nGVFMi0vDC99rupMBHvzm",
     "type":"MD",
     "hide_input_from_viewers":false,
     "hide_output_from_viewers":false,
     "report_properties":{
      "rowId":"th2DrTcxTLq91ah006pg8L"
     }
    }
   }
  },
  {
   "cell_type":"code",
   "source":[
    "import pandas as pd\n",
    "import numpy as np\n",
    "\n",
    "df1 = pd.DataFrame({'fruit': ['apple', 'banana', 'orange'] * 3,\n",
    "                    'weight': ['low', 'medium', 'high'] * 3,\n",
    "                    'price': np.random.randint(0, 100, 9)})\n",
    "\n",
    "df2 = pd.DataFrame({'frukt': ['apple', 'banana', 'melon'] * 2,\n",
    "                    'ves': ['low', 'high'] * 3,\n",
    "                    'price': np.random.randint(0, 100, 6)})\n",
    "\n",
    "# ваш код тут\n",
    "df2.columns = ['fruit', 'weight', 'price']\n",
    "df1.merge(df2, on=['fruit', 'weight'],  how='inner')"
   ],
   "execution_count":53,
   "outputs":[
    {
     "data":{
      "text\/html":[
       "<div>\n",
       "<style scoped>\n",
       "    .dataframe tbody tr th:only-of-type {\n",
       "        vertical-align: middle;\n",
       "    }\n",
       "\n",
       "    .dataframe tbody tr th {\n",
       "        vertical-align: top;\n",
       "    }\n",
       "\n",
       "    .dataframe thead th {\n",
       "        text-align: right;\n",
       "    }\n",
       "<\/style>\n",
       "<table border=\"1\" class=\"dataframe\">\n",
       "  <thead>\n",
       "    <tr style=\"text-align: right;\">\n",
       "      <th><\/th>\n",
       "      <th>fruit<\/th>\n",
       "      <th>weight<\/th>\n",
       "      <th>price_x<\/th>\n",
       "      <th>price_y<\/th>\n",
       "    <\/tr>\n",
       "  <\/thead>\n",
       "  <tbody>\n",
       "    <tr>\n",
       "      <th>0<\/th>\n",
       "      <td>apple<\/td>\n",
       "      <td>low<\/td>\n",
       "      <td>23<\/td>\n",
       "      <td>39<\/td>\n",
       "    <\/tr>\n",
       "    <tr>\n",
       "      <th>1<\/th>\n",
       "      <td>apple<\/td>\n",
       "      <td>low<\/td>\n",
       "      <td>23<\/td>\n",
       "      <td>39<\/td>\n",
       "    <\/tr>\n",
       "    <tr>\n",
       "      <th>2<\/th>\n",
       "      <td>apple<\/td>\n",
       "      <td>low<\/td>\n",
       "      <td>72<\/td>\n",
       "      <td>39<\/td>\n",
       "    <\/tr>\n",
       "  <\/tbody>\n",
       "<\/table>\n",
       "<\/div>"
      ]
     },
     "metadata":{
      
     },
     "output_type":"display_data"
    }
   ],
   "metadata":{
    "datalore":{
     "node_id":"6tkB5rvOZt6ziB2rb9GRlv",
     "type":"CODE",
     "hide_input_from_viewers":false,
     "hide_output_from_viewers":false,
     "report_properties":{
      "rowId":"ClY1QipPrtKNhTUjt1qjpo"
     }
    }
   }
  },
  {
   "cell_type":"markdown",
   "source":[
    "**Задание 4.1.**\n",
    "\n",
    "Кто делает: Авдеев, Буднев, Егорова, Зарецкий, Иванов, Селянина"
   ],
   "attachments":{
    
   },
   "metadata":{
    "datalore":{
     "node_id":"rAm2X8bpXd57W9Yr3o2LzE",
     "type":"MD",
     "hide_input_from_viewers":false,
     "hide_output_from_viewers":false,
     "report_properties":{
      "rowId":"b8qWxwh2tGq9hKle3lMHMh"
     }
    }
   }
  },
  {
   "cell_type":"markdown",
   "source":[
    "Имеется датафрейм со столбцами:\n",
    "- страна\n",
    "- население данной страны\n",
    "- площадь\n",
    "\n",
    "**1. Создайте новые столбцы, которые будут содержать:**\n",
    "- Коды страны: 'KZ', 'RU', 'BY', 'UA'\n",
    "- Плотность населения = население (в миллионах) поделить на площадь страны\n",
    "\n",
    "**2. Добавьте в датафрейм данные еще о двух странах:**\n",
    "- USA; 329,5; 9834\n",
    "- United Kingdom; 55,98; 130279\n",
    "\n",
    "**3. Найдите среднюю площадь всех стран**"
   ],
   "attachments":{
    
   },
   "metadata":{
    "datalore":{
     "node_id":"Os2WB8LgdOPfHAjbHg4mHb",
     "type":"MD",
     "hide_input_from_viewers":false,
     "hide_output_from_viewers":false,
     "report_properties":{
      "rowId":"mAdNvl4lc591EK9ZqceRd8"
     }
    }
   }
  },
  {
   "cell_type":"code",
   "source":[
    "import pandas as pd\n",
    "\n",
    "df = pd.DataFrame({\n",
    "    'country': ['Kazakhstan', 'Russia', 'Belarus', 'Ukraine'],\n",
    "    'population': [17.04, 143.5, 9.5, 45.5],\n",
    "    'square': [2724902, 17125191, 207600, 603628]})\n",
    "\n",
    "df = df.append({'country':'USA', 'population':329.5, 'square':9834000}, ignore_index=True)\n",
    "df = df.append({'country':'United Kingdom', 'population':55.98, 'square':130279}, ignore_index=True)\n",
    "df['code'] = ['KZ', 'RU', 'BY', 'UA', 'US', 'UK']\n",
    "df['population density'] = df['population'] * 1000000 \/ df['square']\n",
    "df['square'].mean()"
   ],
   "execution_count":62,
   "outputs":[
    {
     "name":"stderr",
     "text":[
      "<ipython-input-62-0197630b65cf>:8: FutureWarning: The frame.append method is deprecated and will be removed from pandas in a future version. Use pandas.concat instead.\n",
      "  df = df.append({'country':'USA', 'population':329.5, 'square':9834000}, ignore_index=True)\n",
      "<ipython-input-62-0197630b65cf>:9: FutureWarning: The frame.append method is deprecated and will be removed from pandas in a future version. Use pandas.concat instead.\n",
      "  df = df.append({'country':'United Kingdom', 'population':55.98, 'square':130279}, ignore_index=True)\n"
     ],
     "output_type":"stream"
    },
    {
     "data":{
      "text\/plain":[
       "5104266.666666667"
      ]
     },
     "metadata":{
      
     },
     "output_type":"display_data"
    }
   ],
   "metadata":{
    "datalore":{
     "node_id":"fhOCa4tIxGpfUyYI0oQFyU",
     "type":"CODE",
     "hide_input_from_viewers":false,
     "hide_output_from_viewers":false,
     "report_properties":{
      "rowId":"rAumgRGMEv8mCvtuTfcy15"
     }
    }
   }
  },
  {
   "cell_type":"markdown",
   "source":[
    "**Задание 4.2.**\n",
    "\n",
    "Кто делает: Калачев, Кленовская, Корнилов, Кудинов, Куликов, Левальд"
   ],
   "attachments":{
    
   },
   "metadata":{
    "datalore":{
     "node_id":"GUzJsdTjohThMAiAdUN99G",
     "type":"MD",
     "hide_input_from_viewers":false,
     "hide_output_from_viewers":false,
     "report_properties":{
      "rowId":"qVq9J9duZaEXJQ1hX9trCs"
     }
    }
   }
  },
  {
   "cell_type":"markdown",
   "source":[
    "Имеется датасет со следующими столбцами:\n",
    "- fruit: название фрукта\n",
    "- price: цена за кг\n",
    "- quantity: сколько кг имеется сейчас на складе\n",
    "\n",
    "**1. Посчитать сколько пропусков в датасете и удалить строки которые содержат пропуски**\n",
    "\n",
    "**2. Добавить новый столбец:**\n",
    "- Общая стоимость фрукта = количество на складе*цену за кг\n",
    "\n",
    "**3. Создать новый датасет, в котором содержать данные еще о трех фруктах:**\n",
    "- Apple; 25; 100\n",
    "- Melon; 30; 55\n",
    "- Peach; 98; 11\n",
    "\n",
    "Соединить два датафрейма и удалить повторы."
   ],
   "attachments":{
    
   },
   "metadata":{
    "datalore":{
     "node_id":"o2jFgrBNpvcaxtGCXgcFnJ",
     "type":"MD",
     "hide_input_from_viewers":false,
     "hide_output_from_viewers":false,
     "report_properties":{
      "rowId":"Wh4GNIMD09vmfSMfMXCiTQ"
     }
    }
   }
  },
  {
   "cell_type":"code",
   "source":[
    "import pandas as pd\n",
    "import numpy as np\n",
    "\n",
    "df = pd.DataFrame({\n",
    "    'fruit': ['Apple', 'Watermelon', 'Cherry', 'Orange', 'Banana'],\n",
    "    'price': [25, 33.5, 19.5, 9.6, 10],\n",
    "    'quantity': [100, 34, np.NaN, 56, 120]})\n",
    "\n",
    "df2 = pd.DataFrame({\n",
    "    'fruit': ['Apple', 'Melon', 'Peach'],\n",
    "    'price': [25.0, 30.0, 98.0],\n",
    "    'quantity': [100.0, 55.0, 11.0]\n",
    "})\n",
    "\n",
    "summa = df.isna().sum()\n",
    "df = df.dropna(axis=0)\n",
    "df3 = pd.concat([df, df2], ignore_index=True)\n",
    "df3['overall costt'] = df3['quantity'] * df3['price']\n",
    "df3.drop_duplicates()"
   ],
   "execution_count":95,
   "outputs":[
    {
     "data":{
      "text\/html":[
       "<div>\n",
       "<style scoped>\n",
       "    .dataframe tbody tr th:only-of-type {\n",
       "        vertical-align: middle;\n",
       "    }\n",
       "\n",
       "    .dataframe tbody tr th {\n",
       "        vertical-align: top;\n",
       "    }\n",
       "\n",
       "    .dataframe thead th {\n",
       "        text-align: right;\n",
       "    }\n",
       "<\/style>\n",
       "<table border=\"1\" class=\"dataframe\">\n",
       "  <thead>\n",
       "    <tr style=\"text-align: right;\">\n",
       "      <th><\/th>\n",
       "      <th>fruit<\/th>\n",
       "      <th>price<\/th>\n",
       "      <th>quantity<\/th>\n",
       "      <th>overall costt<\/th>\n",
       "    <\/tr>\n",
       "  <\/thead>\n",
       "  <tbody>\n",
       "    <tr>\n",
       "      <th>0<\/th>\n",
       "      <td>Apple<\/td>\n",
       "      <td>25.0<\/td>\n",
       "      <td>100.0<\/td>\n",
       "      <td>2500.0<\/td>\n",
       "    <\/tr>\n",
       "    <tr>\n",
       "      <th>1<\/th>\n",
       "      <td>Watermelon<\/td>\n",
       "      <td>33.5<\/td>\n",
       "      <td>34.0<\/td>\n",
       "      <td>1139.0<\/td>\n",
       "    <\/tr>\n",
       "    <tr>\n",
       "      <th>2<\/th>\n",
       "      <td>Orange<\/td>\n",
       "      <td>9.6<\/td>\n",
       "      <td>56.0<\/td>\n",
       "      <td>537.6<\/td>\n",
       "    <\/tr>\n",
       "    <tr>\n",
       "      <th>3<\/th>\n",
       "      <td>Banana<\/td>\n",
       "      <td>10.0<\/td>\n",
       "      <td>120.0<\/td>\n",
       "      <td>1200.0<\/td>\n",
       "    <\/tr>\n",
       "    <tr>\n",
       "      <th>5<\/th>\n",
       "      <td>Melon<\/td>\n",
       "      <td>30.0<\/td>\n",
       "      <td>55.0<\/td>\n",
       "      <td>1650.0<\/td>\n",
       "    <\/tr>\n",
       "    <tr>\n",
       "      <th>6<\/th>\n",
       "      <td>Peach<\/td>\n",
       "      <td>98.0<\/td>\n",
       "      <td>11.0<\/td>\n",
       "      <td>1078.0<\/td>\n",
       "    <\/tr>\n",
       "  <\/tbody>\n",
       "<\/table>\n",
       "<\/div>"
      ]
     },
     "metadata":{
      
     },
     "output_type":"display_data"
    }
   ],
   "metadata":{
    "datalore":{
     "node_id":"Oyd50begUsIwzqQhc8jqvj",
     "type":"CODE",
     "hide_input_from_viewers":false,
     "hide_output_from_viewers":false,
     "report_properties":{
      "rowId":"Un71XpaBu2zsZ1rKMps87A"
     }
    }
   }
  },
  {
   "cell_type":"markdown",
   "source":[
    "**Задание 4.3.**\n",
    "\n",
    "Кто делает: Мезенцева, Никитин, Овчинникова, Рябов, Савинов, Соколов, Федорова, Чернягова"
   ],
   "attachments":{
    
   },
   "metadata":{
    "datalore":{
     "node_id":"f26tLYwsfnKkJzay79Z08W",
     "type":"MD",
     "hide_input_from_viewers":false,
     "hide_output_from_viewers":false,
     "report_properties":{
      "rowId":"zvE1U4nGMO1XApErGxbzbU"
     }
    }
   }
  },
  {
   "cell_type":"markdown",
   "source":[
    "Имеется датасет со следующими колонками:\n",
    "- name: имя ученика\n",
    "- math: оценка по математике\n",
    "- russian: оценка по русскому языку\n",
    "- history: оценка по истории\n",
    "\n",
    "**1. Создайте новые столбцы:**\n",
    "- mean: средний балл ученика по всем предметам\n",
    "- класс в котором учится ученик: 'Иван' - 11А, 'Анна' - 11А, 'Мария' - 11Б, 'Василий' - 11Г, 'Анастасия' - 11Б\n",
    "\n",
    "**2. Удалите строку с данными об Анастасии**\n",
    "\n",
    "**3. Выведете данные только для Ивана и Василия, без стольцов со среднем баллом и классом (с помощью срезов и методов iloc или loc)**"
   ],
   "attachments":{
    
   },
   "metadata":{
    "datalore":{
     "node_id":"2sPYqbK33ZJVxxK8lmRbul",
     "type":"MD",
     "hide_input_from_viewers":false,
     "hide_output_from_viewers":false,
     "report_properties":{
      "rowId":"NOfemPYHLwt5K4Jo0mhWKW"
     }
    }
   }
  },
  {
   "cell_type":"code",
   "source":[
    "import pandas as pd\n",
    "import numpy as np\n",
    "\n",
    "df = pd.DataFrame({\n",
    "    'name': ['Иван', 'Анна', 'Мария', 'Василий', 'Анастасия'],\n",
    "    'math': [5, 3, 3, 4, 4],\n",
    "    'russian': [4, 4, 4, 5, 3],\n",
    "    'history': [5, 4, 3, 4, 5]})\n",
    "\n",
    "df"
   ],
   "execution_count":null,
   "outputs":[
    
   ],
   "metadata":{
    "datalore":{
     "node_id":"7h4JUAP7zwthBdjvP0VQY8",
     "type":"CODE",
     "hide_input_from_viewers":false,
     "hide_output_from_viewers":false,
     "report_properties":{
      "rowId":"IAoRN5Y8GmNJ7O8PuTKCv2"
     }
    }
   }
  }
 ],
 "metadata":{
  "kernelspec":{
   "display_name":"Python",
   "language":"python",
   "name":"python"
  },
  "datalore":{
   "computation_mode":"JUPYTER",
   "package_manager":"pip",
   "base_environment":"default",
   "packages":[
    
   ],
   "report_row_ids":[
    "AwVRMyGwBwhFZBeLPuezEM",
    "ZTYMwOZ5BzZt4du5PDBHWf",
    "Aff0QIKwpgstATiQYVs6RC",
    "bYsR8q8ZwGH72PvypJ10lT",
    "hQcOktDzPsd7JLCRUXJYRP",
    "bGTM3Es32h66OaTj2ncQ05",
    "5MnfPhjnPJ9uIHKNChAG91",
    "3svo80lAUTKvWoAJDZofMi",
    "YqL6KuEnaLuYdTH5RNBO3V",
    "TP3bkzAR3t0QigPGpebzbV",
    "0zC7nAlC7I5sHUyikEmLPv",
    "YBK9CMO4ZuGT849gWQfmwh",
    "k6os5VZkJHVHOv4VIDLhp0",
    "JVYDpMar1K7G5goShfJjj9",
    "S1e1fnvSbVbiWsZtkvt8Oy",
    "SKePAsKs3Xnk8ADw0CYhCb",
    "YVsoIY92I61RsqUkplCim5",
    "5xBnUQWtrHKeDclTtUBVzm",
    "dhwRrtkPyctUqBKNeG0OZP",
    "GugbtXMPSZFcBItfmKpd3w",
    "4sgIqTgr2w2uy38QO9Cb9c",
    "GhjHvFl8zNAGj9XlTbgtrl",
    "7wT7yGQTGLZNweqtsXeyIU",
    "dTzkc0dCxCsFw9QZvQCDYh",
    "mn6L9uQzPNCeHbGEwU2lDq",
    "W3ckqU4HMbaF4IvtjyL9V5",
    "o0DA9sfoLknoXez0L1Fi13",
    "iy9oYWWRfYep38Ubst3RW6",
    "PtjD3G6v31vGhlGNAOXQZu",
    "LIUK9aDfiFTfklClaQfEIE",
    "UDQJecFYFofMNN4fQOTzLR",
    "Mxp4nIg3MG6InlzkMvFN3t",
    "wspJVWUOuaFuDgCadMxZhu",
    "ZlBEcpBalYvewOMgp2mcgq",
    "Ra5MxuOiL41Yz3FI7LfuMm",
    "AkT1Y5tZ1CpQyn6x92KHVH",
    "rMvD3Ugni6QWZaGiqy36yM",
    "YPr4Lc1M5mrTRP5zxmU9UN",
    "cN1zXqXWbKWZ6DTa36UpXG",
    "Uw15S3ThXcK4b5UZIqldKF",
    "iIulaoaT3pLS6CdWHNTS5Y",
    "98UY32I7YOHcBcbsoldV3Z",
    "WUttMYZtgGq1re7hwvEJ1D",
    "4j2pvbiwBL0DUtEwvSWg8b",
    "m5iWIXKaG0W27qjAqBhyVh",
    "EwHp1KT0dBXNFltNTxWu8r",
    "eLrVEt369Cbcij3eLXWW15",
    "Q12y7oogzG7smmt1sFOKBu",
    "bdIh0lwbrltus5nE8ISGpr",
    "J4SF1ALElaAjbNTRwM54zv",
    "2XtYcVaSlibIF6Q40oYRjE",
    "a7BTjencTjSX5yCN4lyRWG",
    "A6UoTPkRozsGfuvBRgH0xu",
    "ruPLYPGGeZRic5YgqQxvSl",
    "9F9xk8FvNq7DwqU7CyXjPz",
    "BuarJxIIjToTNBd4Bgi8uF",
    "djVjGzoITzvdVdyY5jh7aW",
    "dNG6bQDBImO6Ns0LJ8C8KN",
    "GzfgKu6tgWzpHGDoZO7pUI",
    "2UBM9YyvpxDZLnWdJMYuAd",
    "Es9r6li3fPep2s97JdoPgz",
    "jJBEFy0Cy5ryt8yWOUgENs",
    "f9CHQRtal0K5M8fQKNIm8B",
    "2gthgsbRv6IVs8RNXOYbVO",
    "Y9PFu6pPFDyBQkWffpsTSE",
    "uMDoQH7nNfMfX1Y5qHwwo2",
    "nxoAZHMsLNm9v5qMIMaSRp",
    "JsUa6ScFKbeqZAcjv1TgN6",
    "HYgIuUoP8cDIxPTgKspxDA",
    "w3Nl85v3khPffOi8iQsBYR",
    "Pu9ek8YTTEZvy7apKkYrvH",
    "RveLDQjjUKpzkOJrtcgfhR",
    "zuOQeoOvpiqIKCMa0suzqX",
    "KAdVC4nHDLLonEj0C4yiER",
    "LUwrxhe8a0YDI5J9ubZJ5q",
    "Ji2ZJowdGe4F3uEPiNTX2T",
    "ngmPydO6q2MWpV7zVfUVPv",
    "DL471HCse0Uy7PZYUBdHKQ",
    "eokDk8NegRvov2WezUsqs3",
    "sWntOmq2EUT9yia4UeJLRe",
    "L9O3161cQIZ5rlMxbtJZTy",
    "qNhnR1dbwRPhcYXr9TwdCK",
    "s2GDSqhdYhoqCA8UdZPCug",
    "uUj9hUp62irKTHsdolpm0j",
    "Ve338dIwgnMgKa3Qtwa10T",
    "zWwz2CHd7bnKUapUymqyQX",
    "PMTCO7R8k5u4JiujS64gjF",
    "axxsUyHWfTBScC8XkCGEqf",
    "OVCt8hgMqO5KAoVn3PeXZb",
    "mZx70DFIZiQsqWa3SzJHqc",
    "chAVQWjsiQZk6VASQveD71",
    "EKPZAgtUIJJIoT1WANX9BC",
    "huUiJbGVWnUhFmJIzBtO8v",
    "v9kGceMo7P1KaY5gW7Vadh",
    "yLxr36M8GlXVTX3S6fGkzk",
    "3sv4vAtJWwOQ5VGdwFdPO0",
    "yYnq7eXhcOOWzwZQ0knCqQ",
    "EQ3FBZfK7Ju5Z0nl8Zbh73",
    "PjnNJqJQ6CE6DBpDkj2NYE",
    "JWmznjj2WBksHuCyf7Uo6M",
    "FK2z2XglShn5jLxRPcrFsO",
    "Z584Yuh7uyrJEbdf2wP66y",
    "wxVg1BqgMsNQpeuYroz6KC",
    "3IAaotS2GG0gGdq6afJxbC",
    "nFoWxCf0qX6KSAINBBGV5C",
    "JaiOYhwvJfiwXYAJCnlp0I",
    "8DC8bFS2LlR2G8MizwLDWf",
    "NgErW2WhzfVB0Bqa8bYs8P",
    "1P4baVEgdEs7x7qXk0WEuw",
    "OxKYeg4OuTKqeRex708geJ",
    "vjxOjxGA2bvUU0s4VhmI1e",
    "TYaGmOmtY67I4ObK8PS3dS",
    "gb3V7nLZ0D70bTF5gVrgiy",
    "jYSavPhWuzzP7bZgGL9j0Z",
    "3AECsoVBIS8HXvrQAYn7Jg",
    "I0nB037Iu8PcUso63dbBbk",
    "WjkOImwTEzAV6qZh49KRZ5",
    "8RquEH8VsgkNBijQ2WcNsE",
    "dsDccE9d4CjnP1KQOZRPFP",
    "2nfT3E3gCQbdWxSFeABOPo",
    "LakGFNOSlz19H9U0lWejFF",
    "th2DrTcxTLq91ah006pg8L",
    "ClY1QipPrtKNhTUjt1qjpo",
    "b8qWxwh2tGq9hKle3lMHMh",
    "mAdNvl4lc591EK9ZqceRd8",
    "rAumgRGMEv8mCvtuTfcy15",
    "qVq9J9duZaEXJQ1hX9trCs",
    "Wh4GNIMD09vmfSMfMXCiTQ",
    "Un71XpaBu2zsZ1rKMps87A",
    "zvE1U4nGMO1XApErGxbzbU",
    "NOfemPYHLwt5K4Jo0mhWKW",
    "IAoRN5Y8GmNJ7O8PuTKCv2"
   ],
   "version":3
  }
 },
 "nbformat":4,
 "nbformat_minor":4
}