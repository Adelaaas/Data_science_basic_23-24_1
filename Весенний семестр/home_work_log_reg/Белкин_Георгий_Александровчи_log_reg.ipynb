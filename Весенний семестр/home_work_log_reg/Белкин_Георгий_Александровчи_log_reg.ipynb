{
 "cells":[
  {
   "cell_type":"code",
   "source":[
    "!pip install scipy"
   ],
   "execution_count":36,
   "outputs":[
    {
     "name":"stdout",
     "text":[
      "Requirement already satisfied: scipy in \/opt\/python\/envs\/default\/lib\/python3.8\/site-packages (1.9.1)\r\n",
      "Requirement already satisfied: numpy<1.25.0,>=1.18.5 in \/opt\/python\/envs\/default\/lib\/python3.8\/site-packages (from scipy) (1.24.3)\r\n",
      "\r\n",
      "\u001b[1m[\u001b[0m\u001b[34;49mnotice\u001b[0m\u001b[1;39;49m]\u001b[0m\u001b[39;49m A new release of pip is available: \u001b[0m\u001b[31;49m23.1.2\u001b[0m\u001b[39;49m -> \u001b[0m\u001b[32;49m24.0\u001b[0m\r\n",
      "\u001b[1m[\u001b[0m\u001b[34;49mnotice\u001b[0m\u001b[1;39;49m]\u001b[0m\u001b[39;49m To update, run: \u001b[0m\u001b[32;49mpip install --upgrade pip\u001b[0m\r\n"
     ],
     "output_type":"stream"
    }
   ],
   "metadata":{
    "datalore":{
     "node_id":"Sla5qg1jmjPelgMujkQxf5",
     "type":"CODE",
     "hide_input_from_viewers":true,
     "hide_output_from_viewers":true
    }
   }
  },
  {
   "cell_type":"code",
   "source":[
    "import pandas as pd\n",
    "import seaborn as sns\n",
    "import matplotlib.pyplot as plt\n",
    "from sklearn.metrics import accuracy_score, precision_score, recall_score, f1_score, confusion_matrix\n",
    "from sklearn.preprocessing import LabelEncoder\n",
    "from sklearn.model_selection import train_test_split\n",
    "\n",
    "from sklearn.linear_model import LogisticRegression"
   ],
   "execution_count":41,
   "outputs":[
    {
     "ename":"AttributeError",
     "evalue":"AttributeError: module 'scipy.sparse' has no attribute 'linalg'",
     "traceback":[
      "\u001b[0;31m---------------------------------------------------------------------------",
      "Traceback (most recent call last)",
      "    at line 8 in <module>",
      "    at line 36 in <module>",
      "    at line 1456 in <module>",
      "AttributeError: module 'scipy.sparse' has no attribute 'linalg'"
     ],
     "output_type":"error"
    }
   ],
   "metadata":{
    "datalore":{
     "node_id":"60ZK0WZ58sGHFwiQCZ22WQ",
     "type":"CODE",
     "hide_input_from_viewers":true,
     "hide_output_from_viewers":true
    }
   }
  },
  {
   "cell_type":"code",
   "source":[
    "df = pd.read_csv(\"hr_analitics.csv\")\n",
    "df"
   ],
   "execution_count":9,
   "outputs":[
    {
     "data":{
      "text\/html":[
       "<div>\n",
       "<style scoped>\n",
       "    .dataframe tbody tr th:only-of-type {\n",
       "        vertical-align: middle;\n",
       "    }\n",
       "\n",
       "    .dataframe tbody tr th {\n",
       "        vertical-align: top;\n",
       "    }\n",
       "\n",
       "    .dataframe thead th {\n",
       "        text-align: right;\n",
       "    }\n",
       "<\/style>\n",
       "<table border=\"1\" class=\"dataframe\">\n",
       "  <thead>\n",
       "    <tr style=\"text-align: right;\">\n",
       "      <th><\/th>\n",
       "      <th>employee_id<\/th>\n",
       "      <th>department<\/th>\n",
       "      <th>region<\/th>\n",
       "      <th>education<\/th>\n",
       "      <th>gender<\/th>\n",
       "      <th>recruitment_channel<\/th>\n",
       "      <th>no_of_trainings<\/th>\n",
       "      <th>age<\/th>\n",
       "      <th>previous_year_rating<\/th>\n",
       "      <th>length_of_service<\/th>\n",
       "      <th>KPIs_met &gt;80%<\/th>\n",
       "      <th>awards_won?<\/th>\n",
       "      <th>avg_training_score<\/th>\n",
       "      <th>is_promoted<\/th>\n",
       "    <\/tr>\n",
       "  <\/thead>\n",
       "  <tbody>\n",
       "    <tr>\n",
       "      <th>0<\/th>\n",
       "      <td>65438<\/td>\n",
       "      <td>Sales &amp; Marketing<\/td>\n",
       "      <td>region_7<\/td>\n",
       "      <td>Master's &amp; above<\/td>\n",
       "      <td>f<\/td>\n",
       "      <td>sourcing<\/td>\n",
       "      <td>1<\/td>\n",
       "      <td>35<\/td>\n",
       "      <td>5.0<\/td>\n",
       "      <td>8<\/td>\n",
       "      <td>1<\/td>\n",
       "      <td>0<\/td>\n",
       "      <td>49<\/td>\n",
       "      <td>0<\/td>\n",
       "    <\/tr>\n",
       "    <tr>\n",
       "      <th>1<\/th>\n",
       "      <td>65141<\/td>\n",
       "      <td>Operations<\/td>\n",
       "      <td>region_22<\/td>\n",
       "      <td>Bachelor's<\/td>\n",
       "      <td>m<\/td>\n",
       "      <td>other<\/td>\n",
       "      <td>1<\/td>\n",
       "      <td>30<\/td>\n",
       "      <td>5.0<\/td>\n",
       "      <td>4<\/td>\n",
       "      <td>0<\/td>\n",
       "      <td>0<\/td>\n",
       "      <td>60<\/td>\n",
       "      <td>0<\/td>\n",
       "    <\/tr>\n",
       "    <tr>\n",
       "      <th>2<\/th>\n",
       "      <td>7513<\/td>\n",
       "      <td>Sales &amp; Marketing<\/td>\n",
       "      <td>region_19<\/td>\n",
       "      <td>Bachelor's<\/td>\n",
       "      <td>m<\/td>\n",
       "      <td>sourcing<\/td>\n",
       "      <td>1<\/td>\n",
       "      <td>34<\/td>\n",
       "      <td>3.0<\/td>\n",
       "      <td>7<\/td>\n",
       "      <td>0<\/td>\n",
       "      <td>0<\/td>\n",
       "      <td>50<\/td>\n",
       "      <td>0<\/td>\n",
       "    <\/tr>\n",
       "    <tr>\n",
       "      <th>3<\/th>\n",
       "      <td>2542<\/td>\n",
       "      <td>Sales &amp; Marketing<\/td>\n",
       "      <td>region_23<\/td>\n",
       "      <td>Bachelor's<\/td>\n",
       "      <td>m<\/td>\n",
       "      <td>other<\/td>\n",
       "      <td>2<\/td>\n",
       "      <td>39<\/td>\n",
       "      <td>1.0<\/td>\n",
       "      <td>10<\/td>\n",
       "      <td>0<\/td>\n",
       "      <td>0<\/td>\n",
       "      <td>50<\/td>\n",
       "      <td>0<\/td>\n",
       "    <\/tr>\n",
       "    <tr>\n",
       "      <th>4<\/th>\n",
       "      <td>48945<\/td>\n",
       "      <td>Technology<\/td>\n",
       "      <td>region_26<\/td>\n",
       "      <td>Bachelor's<\/td>\n",
       "      <td>m<\/td>\n",
       "      <td>other<\/td>\n",
       "      <td>1<\/td>\n",
       "      <td>45<\/td>\n",
       "      <td>3.0<\/td>\n",
       "      <td>2<\/td>\n",
       "      <td>0<\/td>\n",
       "      <td>0<\/td>\n",
       "      <td>73<\/td>\n",
       "      <td>0<\/td>\n",
       "    <\/tr>\n",
       "    <tr>\n",
       "      <th>...<\/th>\n",
       "      <td>...<\/td>\n",
       "      <td>...<\/td>\n",
       "      <td>...<\/td>\n",
       "      <td>...<\/td>\n",
       "      <td>...<\/td>\n",
       "      <td>...<\/td>\n",
       "      <td>...<\/td>\n",
       "      <td>...<\/td>\n",
       "      <td>...<\/td>\n",
       "      <td>...<\/td>\n",
       "      <td>...<\/td>\n",
       "      <td>...<\/td>\n",
       "      <td>...<\/td>\n",
       "      <td>...<\/td>\n",
       "    <\/tr>\n",
       "    <tr>\n",
       "      <th>54803<\/th>\n",
       "      <td>3030<\/td>\n",
       "      <td>Technology<\/td>\n",
       "      <td>region_14<\/td>\n",
       "      <td>Bachelor's<\/td>\n",
       "      <td>m<\/td>\n",
       "      <td>sourcing<\/td>\n",
       "      <td>1<\/td>\n",
       "      <td>48<\/td>\n",
       "      <td>3.0<\/td>\n",
       "      <td>17<\/td>\n",
       "      <td>0<\/td>\n",
       "      <td>0<\/td>\n",
       "      <td>78<\/td>\n",
       "      <td>0<\/td>\n",
       "    <\/tr>\n",
       "    <tr>\n",
       "      <th>54804<\/th>\n",
       "      <td>74592<\/td>\n",
       "      <td>Operations<\/td>\n",
       "      <td>region_27<\/td>\n",
       "      <td>Master's &amp; above<\/td>\n",
       "      <td>f<\/td>\n",
       "      <td>other<\/td>\n",
       "      <td>1<\/td>\n",
       "      <td>37<\/td>\n",
       "      <td>2.0<\/td>\n",
       "      <td>6<\/td>\n",
       "      <td>0<\/td>\n",
       "      <td>0<\/td>\n",
       "      <td>56<\/td>\n",
       "      <td>0<\/td>\n",
       "    <\/tr>\n",
       "    <tr>\n",
       "      <th>54805<\/th>\n",
       "      <td>13918<\/td>\n",
       "      <td>Analytics<\/td>\n",
       "      <td>region_1<\/td>\n",
       "      <td>Bachelor's<\/td>\n",
       "      <td>m<\/td>\n",
       "      <td>other<\/td>\n",
       "      <td>1<\/td>\n",
       "      <td>27<\/td>\n",
       "      <td>5.0<\/td>\n",
       "      <td>3<\/td>\n",
       "      <td>1<\/td>\n",
       "      <td>0<\/td>\n",
       "      <td>79<\/td>\n",
       "      <td>0<\/td>\n",
       "    <\/tr>\n",
       "    <tr>\n",
       "      <th>54806<\/th>\n",
       "      <td>13614<\/td>\n",
       "      <td>Sales &amp; Marketing<\/td>\n",
       "      <td>region_9<\/td>\n",
       "      <td>NaN<\/td>\n",
       "      <td>m<\/td>\n",
       "      <td>sourcing<\/td>\n",
       "      <td>1<\/td>\n",
       "      <td>29<\/td>\n",
       "      <td>1.0<\/td>\n",
       "      <td>2<\/td>\n",
       "      <td>0<\/td>\n",
       "      <td>0<\/td>\n",
       "      <td>45<\/td>\n",
       "      <td>0<\/td>\n",
       "    <\/tr>\n",
       "    <tr>\n",
       "      <th>54807<\/th>\n",
       "      <td>51526<\/td>\n",
       "      <td>HR<\/td>\n",
       "      <td>region_22<\/td>\n",
       "      <td>Bachelor's<\/td>\n",
       "      <td>m<\/td>\n",
       "      <td>other<\/td>\n",
       "      <td>1<\/td>\n",
       "      <td>27<\/td>\n",
       "      <td>1.0<\/td>\n",
       "      <td>5<\/td>\n",
       "      <td>0<\/td>\n",
       "      <td>0<\/td>\n",
       "      <td>49<\/td>\n",
       "      <td>0<\/td>\n",
       "    <\/tr>\n",
       "  <\/tbody>\n",
       "<\/table>\n",
       "<p>54808 rows × 14 columns<\/p>\n",
       "<\/div>"
      ]
     },
     "metadata":{
      
     },
     "output_type":"display_data"
    }
   ],
   "metadata":{
    "datalore":{
     "node_id":"gxoUW5yivA1fH9a7ATvdKD",
     "type":"CODE",
     "hide_input_from_viewers":true,
     "hide_output_from_viewers":true
    }
   }
  },
  {
   "cell_type":"code",
   "source":[
    "df['is_promoted'].value_counts()"
   ],
   "execution_count":12,
   "outputs":[
    {
     "data":{
      "text\/html":[
       "<pre>0    50140\n",
       "1     4668\n",
       "Name: is_promoted, dtype: int64<\/pre>"
      ]
     },
     "metadata":{
      
     },
     "output_type":"display_data"
    }
   ],
   "metadata":{
    "datalore":{
     "node_id":"oEae61auZfGoQQJU8LuRA5",
     "type":"CODE",
     "hide_input_from_viewers":true,
     "hide_output_from_viewers":true
    }
   }
  },
  {
   "cell_type":"markdown",
   "source":[
    "Проверка на nan"
   ],
   "attachments":{
    
   },
   "metadata":{
    "datalore":{
     "node_id":"M0J5Qm2MfmbizgIgjM9Y5n",
     "type":"MD",
     "hide_input_from_viewers":true,
     "hide_output_from_viewers":true
    }
   }
  },
  {
   "cell_type":"code",
   "source":[
    "df.isnull().any()"
   ],
   "execution_count":13,
   "outputs":[
    {
     "data":{
      "text\/html":[
       "<pre>employee_id             False\n",
       "department              False\n",
       "region                  False\n",
       "education                True\n",
       "gender                  False\n",
       "recruitment_channel     False\n",
       "no_of_trainings         False\n",
       "age                     False\n",
       "previous_year_rating     True\n",
       "length_of_service       False\n",
       "KPIs_met %gt;80%           False\n",
       "awards_won?             False\n",
       "avg_training_score      False\n",
       "is_promoted             False\n",
       "dtype: bool<\/pre>"
      ]
     },
     "metadata":{
      
     },
     "output_type":"display_data"
    }
   ],
   "metadata":{
    "datalore":{
     "node_id":"Kx2XNTvofgQgnS8WfIZrPE",
     "type":"CODE",
     "hide_input_from_viewers":true,
     "hide_output_from_viewers":true
    }
   }
  },
  {
   "cell_type":"code",
   "source":[
    "df.info()"
   ],
   "execution_count":14,
   "outputs":[
    {
     "name":"stdout",
     "text":[
      "<class 'pandas.core.frame.DataFrame'>\n",
      "RangeIndex: 54808 entries, 0 to 54807\n",
      "Data columns (total 14 columns):\n",
      " #   Column                Non-Null Count  Dtype  \n",
      "---  ------                --------------  -----  \n",
      " 0   employee_id           54808 non-null  int64  \n",
      " 1   department            54808 non-null  object \n",
      " 2   region                54808 non-null  object \n",
      " 3   education             52399 non-null  object \n",
      " 4   gender                54808 non-null  object \n",
      " 5   recruitment_channel   54808 non-null  object \n",
      " 6   no_of_trainings       54808 non-null  int64  \n",
      " 7   age                   54808 non-null  int64  \n",
      " 8   previous_year_rating  50684 non-null  float64\n",
      " 9   length_of_service     54808 non-null  int64  \n",
      " 10  KPIs_met >80%         54808 non-null  int64  \n",
      " 11  awards_won?           54808 non-null  int64  \n",
      " 12  avg_training_score    54808 non-null  int64  \n",
      " 13  is_promoted           54808 non-null  int64  \n",
      "dtypes: float64(1), int64(8), object(5)\n",
      "memory usage: 5.9+ MB\n"
     ],
     "output_type":"stream"
    }
   ],
   "metadata":{
    "datalore":{
     "node_id":"qyAVENUfHYCCrE6EZP9PSf",
     "type":"CODE",
     "hide_input_from_viewers":true,
     "hide_output_from_viewers":true
    }
   }
  },
  {
   "cell_type":"markdown",
   "source":[
    "изменяем nan на среднее значение в столбце"
   ],
   "attachments":{
    
   },
   "metadata":{
    "datalore":{
     "node_id":"PHkgi41fsx5aImNuwQJvNk",
     "type":"MD",
     "hide_input_from_viewers":true,
     "hide_output_from_viewers":true
    }
   }
  },
  {
   "cell_type":"code",
   "source":[
    "df['previous_year_rating'] = df['previous_year_rating'].fillna(df['previous_year_rating'].mean())"
   ],
   "execution_count":15,
   "outputs":[
    
   ],
   "metadata":{
    "datalore":{
     "node_id":"TlPiNohhTF2xUrVL7dCEhd",
     "type":"CODE",
     "hide_input_from_viewers":true,
     "hide_output_from_viewers":true
    }
   }
  },
  {
   "cell_type":"code",
   "source":[
    "df.shape"
   ],
   "execution_count":16,
   "outputs":[
    {
     "data":{
      "text\/plain":[
       "(54808, 14)"
      ]
     },
     "metadata":{
      
     },
     "output_type":"display_data"
    }
   ],
   "metadata":{
    "datalore":{
     "node_id":"ZcamxgZJxDDI1ylGjeK6Jb",
     "type":"CODE",
     "hide_input_from_viewers":true,
     "hide_output_from_viewers":true
    }
   }
  },
  {
   "cell_type":"markdown",
   "source":[
    "категориальная переменная gender"
   ],
   "attachments":{
    
   },
   "metadata":{
    "datalore":{
     "node_id":"Slg6psfzNIpZQJoQESmK6M",
     "type":"MD",
     "hide_input_from_viewers":true,
     "hide_output_from_viewers":true
    }
   }
  },
  {
   "cell_type":"code",
   "source":[
    "df['gender'].unique()"
   ],
   "execution_count":17,
   "outputs":[
    {
     "data":{
      "text\/html":[
       "<pre>array(['f', 'm'], dtype=object)<\/pre>"
      ]
     },
     "metadata":{
      
     },
     "output_type":"display_data"
    }
   ],
   "metadata":{
    "datalore":{
     "node_id":"MzlqSbvqvE2SRTvhQmsvUV",
     "type":"CODE",
     "hide_input_from_viewers":true,
     "hide_output_from_viewers":true
    }
   }
  },
  {
   "cell_type":"code",
   "source":[
    "d = {'f': 0, 'm': 1}\n",
    "df['gender'] = df['gender'].map(d)\n",
    "df"
   ],
   "execution_count":18,
   "outputs":[
    {
     "data":{
      "text\/html":[
       "<div>\n",
       "<style scoped>\n",
       "    .dataframe tbody tr th:only-of-type {\n",
       "        vertical-align: middle;\n",
       "    }\n",
       "\n",
       "    .dataframe tbody tr th {\n",
       "        vertical-align: top;\n",
       "    }\n",
       "\n",
       "    .dataframe thead th {\n",
       "        text-align: right;\n",
       "    }\n",
       "<\/style>\n",
       "<table border=\"1\" class=\"dataframe\">\n",
       "  <thead>\n",
       "    <tr style=\"text-align: right;\">\n",
       "      <th><\/th>\n",
       "      <th>employee_id<\/th>\n",
       "      <th>department<\/th>\n",
       "      <th>region<\/th>\n",
       "      <th>education<\/th>\n",
       "      <th>gender<\/th>\n",
       "      <th>recruitment_channel<\/th>\n",
       "      <th>no_of_trainings<\/th>\n",
       "      <th>age<\/th>\n",
       "      <th>previous_year_rating<\/th>\n",
       "      <th>length_of_service<\/th>\n",
       "      <th>KPIs_met &gt;80%<\/th>\n",
       "      <th>awards_won?<\/th>\n",
       "      <th>avg_training_score<\/th>\n",
       "      <th>is_promoted<\/th>\n",
       "    <\/tr>\n",
       "  <\/thead>\n",
       "  <tbody>\n",
       "    <tr>\n",
       "      <th>0<\/th>\n",
       "      <td>65438<\/td>\n",
       "      <td>Sales &amp; Marketing<\/td>\n",
       "      <td>region_7<\/td>\n",
       "      <td>Master's &amp; above<\/td>\n",
       "      <td>0<\/td>\n",
       "      <td>sourcing<\/td>\n",
       "      <td>1<\/td>\n",
       "      <td>35<\/td>\n",
       "      <td>5.0<\/td>\n",
       "      <td>8<\/td>\n",
       "      <td>1<\/td>\n",
       "      <td>0<\/td>\n",
       "      <td>49<\/td>\n",
       "      <td>0<\/td>\n",
       "    <\/tr>\n",
       "    <tr>\n",
       "      <th>1<\/th>\n",
       "      <td>65141<\/td>\n",
       "      <td>Operations<\/td>\n",
       "      <td>region_22<\/td>\n",
       "      <td>Bachelor's<\/td>\n",
       "      <td>1<\/td>\n",
       "      <td>other<\/td>\n",
       "      <td>1<\/td>\n",
       "      <td>30<\/td>\n",
       "      <td>5.0<\/td>\n",
       "      <td>4<\/td>\n",
       "      <td>0<\/td>\n",
       "      <td>0<\/td>\n",
       "      <td>60<\/td>\n",
       "      <td>0<\/td>\n",
       "    <\/tr>\n",
       "    <tr>\n",
       "      <th>2<\/th>\n",
       "      <td>7513<\/td>\n",
       "      <td>Sales &amp; Marketing<\/td>\n",
       "      <td>region_19<\/td>\n",
       "      <td>Bachelor's<\/td>\n",
       "      <td>1<\/td>\n",
       "      <td>sourcing<\/td>\n",
       "      <td>1<\/td>\n",
       "      <td>34<\/td>\n",
       "      <td>3.0<\/td>\n",
       "      <td>7<\/td>\n",
       "      <td>0<\/td>\n",
       "      <td>0<\/td>\n",
       "      <td>50<\/td>\n",
       "      <td>0<\/td>\n",
       "    <\/tr>\n",
       "    <tr>\n",
       "      <th>3<\/th>\n",
       "      <td>2542<\/td>\n",
       "      <td>Sales &amp; Marketing<\/td>\n",
       "      <td>region_23<\/td>\n",
       "      <td>Bachelor's<\/td>\n",
       "      <td>1<\/td>\n",
       "      <td>other<\/td>\n",
       "      <td>2<\/td>\n",
       "      <td>39<\/td>\n",
       "      <td>1.0<\/td>\n",
       "      <td>10<\/td>\n",
       "      <td>0<\/td>\n",
       "      <td>0<\/td>\n",
       "      <td>50<\/td>\n",
       "      <td>0<\/td>\n",
       "    <\/tr>\n",
       "    <tr>\n",
       "      <th>4<\/th>\n",
       "      <td>48945<\/td>\n",
       "      <td>Technology<\/td>\n",
       "      <td>region_26<\/td>\n",
       "      <td>Bachelor's<\/td>\n",
       "      <td>1<\/td>\n",
       "      <td>other<\/td>\n",
       "      <td>1<\/td>\n",
       "      <td>45<\/td>\n",
       "      <td>3.0<\/td>\n",
       "      <td>2<\/td>\n",
       "      <td>0<\/td>\n",
       "      <td>0<\/td>\n",
       "      <td>73<\/td>\n",
       "      <td>0<\/td>\n",
       "    <\/tr>\n",
       "    <tr>\n",
       "      <th>...<\/th>\n",
       "      <td>...<\/td>\n",
       "      <td>...<\/td>\n",
       "      <td>...<\/td>\n",
       "      <td>...<\/td>\n",
       "      <td>...<\/td>\n",
       "      <td>...<\/td>\n",
       "      <td>...<\/td>\n",
       "      <td>...<\/td>\n",
       "      <td>...<\/td>\n",
       "      <td>...<\/td>\n",
       "      <td>...<\/td>\n",
       "      <td>...<\/td>\n",
       "      <td>...<\/td>\n",
       "      <td>...<\/td>\n",
       "    <\/tr>\n",
       "    <tr>\n",
       "      <th>54803<\/th>\n",
       "      <td>3030<\/td>\n",
       "      <td>Technology<\/td>\n",
       "      <td>region_14<\/td>\n",
       "      <td>Bachelor's<\/td>\n",
       "      <td>1<\/td>\n",
       "      <td>sourcing<\/td>\n",
       "      <td>1<\/td>\n",
       "      <td>48<\/td>\n",
       "      <td>3.0<\/td>\n",
       "      <td>17<\/td>\n",
       "      <td>0<\/td>\n",
       "      <td>0<\/td>\n",
       "      <td>78<\/td>\n",
       "      <td>0<\/td>\n",
       "    <\/tr>\n",
       "    <tr>\n",
       "      <th>54804<\/th>\n",
       "      <td>74592<\/td>\n",
       "      <td>Operations<\/td>\n",
       "      <td>region_27<\/td>\n",
       "      <td>Master's &amp; above<\/td>\n",
       "      <td>0<\/td>\n",
       "      <td>other<\/td>\n",
       "      <td>1<\/td>\n",
       "      <td>37<\/td>\n",
       "      <td>2.0<\/td>\n",
       "      <td>6<\/td>\n",
       "      <td>0<\/td>\n",
       "      <td>0<\/td>\n",
       "      <td>56<\/td>\n",
       "      <td>0<\/td>\n",
       "    <\/tr>\n",
       "    <tr>\n",
       "      <th>54805<\/th>\n",
       "      <td>13918<\/td>\n",
       "      <td>Analytics<\/td>\n",
       "      <td>region_1<\/td>\n",
       "      <td>Bachelor's<\/td>\n",
       "      <td>1<\/td>\n",
       "      <td>other<\/td>\n",
       "      <td>1<\/td>\n",
       "      <td>27<\/td>\n",
       "      <td>5.0<\/td>\n",
       "      <td>3<\/td>\n",
       "      <td>1<\/td>\n",
       "      <td>0<\/td>\n",
       "      <td>79<\/td>\n",
       "      <td>0<\/td>\n",
       "    <\/tr>\n",
       "    <tr>\n",
       "      <th>54806<\/th>\n",
       "      <td>13614<\/td>\n",
       "      <td>Sales &amp; Marketing<\/td>\n",
       "      <td>region_9<\/td>\n",
       "      <td>NaN<\/td>\n",
       "      <td>1<\/td>\n",
       "      <td>sourcing<\/td>\n",
       "      <td>1<\/td>\n",
       "      <td>29<\/td>\n",
       "      <td>1.0<\/td>\n",
       "      <td>2<\/td>\n",
       "      <td>0<\/td>\n",
       "      <td>0<\/td>\n",
       "      <td>45<\/td>\n",
       "      <td>0<\/td>\n",
       "    <\/tr>\n",
       "    <tr>\n",
       "      <th>54807<\/th>\n",
       "      <td>51526<\/td>\n",
       "      <td>HR<\/td>\n",
       "      <td>region_22<\/td>\n",
       "      <td>Bachelor's<\/td>\n",
       "      <td>1<\/td>\n",
       "      <td>other<\/td>\n",
       "      <td>1<\/td>\n",
       "      <td>27<\/td>\n",
       "      <td>1.0<\/td>\n",
       "      <td>5<\/td>\n",
       "      <td>0<\/td>\n",
       "      <td>0<\/td>\n",
       "      <td>49<\/td>\n",
       "      <td>0<\/td>\n",
       "    <\/tr>\n",
       "  <\/tbody>\n",
       "<\/table>\n",
       "<p>54808 rows × 14 columns<\/p>\n",
       "<\/div>"
      ]
     },
     "metadata":{
      
     },
     "output_type":"display_data"
    }
   ],
   "metadata":{
    "datalore":{
     "node_id":"j3FdzNLlOJn7xrM19VPy01",
     "type":"CODE",
     "hide_input_from_viewers":true,
     "hide_output_from_viewers":true
    }
   }
  },
  {
   "cell_type":"markdown",
   "source":[
    "удаляем остатки nan"
   ],
   "attachments":{
    
   },
   "metadata":{
    "datalore":{
     "node_id":"UiKLmJkqJoXpfFeRwzptxQ",
     "type":"MD",
     "hide_input_from_viewers":true,
     "hide_output_from_viewers":true
    }
   }
  },
  {
   "cell_type":"code",
   "source":[
    "df = df.dropna()"
   ],
   "execution_count":19,
   "outputs":[
    
   ],
   "metadata":{
    "datalore":{
     "node_id":"EUlSQZklo0LON2vS8x8jSF",
     "type":"CODE",
     "hide_input_from_viewers":true,
     "hide_output_from_viewers":true
    }
   }
  },
  {
   "cell_type":"code",
   "source":[
    "df.shape"
   ],
   "execution_count":20,
   "outputs":[
    {
     "data":{
      "text\/plain":[
       "(52399, 14)"
      ]
     },
     "metadata":{
      
     },
     "output_type":"display_data"
    }
   ],
   "metadata":{
    "datalore":{
     "node_id":"J9rCQvxsnqre6svXLSAlMc",
     "type":"CODE",
     "hide_input_from_viewers":true,
     "hide_output_from_viewers":true
    }
   }
  },
  {
   "cell_type":"markdown",
   "source":[
    "категориальная переменная education"
   ],
   "attachments":{
    
   },
   "metadata":{
    "datalore":{
     "node_id":"u7BFVSrXnAjNEyQ8DilQNM",
     "type":"MD",
     "hide_input_from_viewers":true,
     "hide_output_from_viewers":true
    }
   }
  },
  {
   "cell_type":"code",
   "source":[
    "df['education'].value_counts()"
   ],
   "execution_count":21,
   "outputs":[
    {
     "data":{
      "text\/html":[
       "<pre>Bachelor's          36669\n",
       "Master's & above    14925\n",
       "Below Secondary       805\n",
       "Name: education, dtype: int64<\/pre>"
      ]
     },
     "metadata":{
      
     },
     "output_type":"display_data"
    }
   ],
   "metadata":{
    "datalore":{
     "node_id":"pLKlLpQJiBmatZ0HmEP0NI",
     "type":"CODE",
     "hide_input_from_viewers":true,
     "hide_output_from_viewers":true
    }
   }
  },
  {
   "cell_type":"code",
   "source":[
    "label_encoder = LabelEncoder()\n",
    "label_encoder.fit(df['education'])\n",
    "df['education'] = label_encoder.transform(df['education'])\n",
    "df.head()"
   ],
   "execution_count":23,
   "outputs":[
    {
     "name":"stderr",
     "text":[
      "<ipython-input-23-ed078fe00138>:3: SettingWithCopyWarning: \n",
      "A value is trying to be set on a copy of a slice from a DataFrame.\n",
      "Try using .loc[row_indexer,col_indexer] = value instead\n",
      "\n",
      "See the caveats in the documentation: https:\/\/pandas.pydata.org\/pandas-docs\/stable\/user_guide\/indexing.html#returning-a-view-versus-a-copy\n",
      "  df['education'] = label_encoder.transform(df['education'])\n"
     ],
     "output_type":"stream"
    },
    {
     "data":{
      "text\/html":[
       "<div>\n",
       "<style scoped>\n",
       "    .dataframe tbody tr th:only-of-type {\n",
       "        vertical-align: middle;\n",
       "    }\n",
       "\n",
       "    .dataframe tbody tr th {\n",
       "        vertical-align: top;\n",
       "    }\n",
       "\n",
       "    .dataframe thead th {\n",
       "        text-align: right;\n",
       "    }\n",
       "<\/style>\n",
       "<table border=\"1\" class=\"dataframe\">\n",
       "  <thead>\n",
       "    <tr style=\"text-align: right;\">\n",
       "      <th><\/th>\n",
       "      <th>employee_id<\/th>\n",
       "      <th>department<\/th>\n",
       "      <th>region<\/th>\n",
       "      <th>education<\/th>\n",
       "      <th>gender<\/th>\n",
       "      <th>recruitment_channel<\/th>\n",
       "      <th>no_of_trainings<\/th>\n",
       "      <th>age<\/th>\n",
       "      <th>previous_year_rating<\/th>\n",
       "      <th>length_of_service<\/th>\n",
       "      <th>KPIs_met &gt;80%<\/th>\n",
       "      <th>awards_won?<\/th>\n",
       "      <th>avg_training_score<\/th>\n",
       "      <th>is_promoted<\/th>\n",
       "    <\/tr>\n",
       "  <\/thead>\n",
       "  <tbody>\n",
       "    <tr>\n",
       "      <th>0<\/th>\n",
       "      <td>65438<\/td>\n",
       "      <td>Sales &amp; Marketing<\/td>\n",
       "      <td>region_7<\/td>\n",
       "      <td>2<\/td>\n",
       "      <td>0<\/td>\n",
       "      <td>sourcing<\/td>\n",
       "      <td>1<\/td>\n",
       "      <td>35<\/td>\n",
       "      <td>5.0<\/td>\n",
       "      <td>8<\/td>\n",
       "      <td>1<\/td>\n",
       "      <td>0<\/td>\n",
       "      <td>49<\/td>\n",
       "      <td>0<\/td>\n",
       "    <\/tr>\n",
       "    <tr>\n",
       "      <th>1<\/th>\n",
       "      <td>65141<\/td>\n",
       "      <td>Operations<\/td>\n",
       "      <td>region_22<\/td>\n",
       "      <td>0<\/td>\n",
       "      <td>1<\/td>\n",
       "      <td>other<\/td>\n",
       "      <td>1<\/td>\n",
       "      <td>30<\/td>\n",
       "      <td>5.0<\/td>\n",
       "      <td>4<\/td>\n",
       "      <td>0<\/td>\n",
       "      <td>0<\/td>\n",
       "      <td>60<\/td>\n",
       "      <td>0<\/td>\n",
       "    <\/tr>\n",
       "    <tr>\n",
       "      <th>2<\/th>\n",
       "      <td>7513<\/td>\n",
       "      <td>Sales &amp; Marketing<\/td>\n",
       "      <td>region_19<\/td>\n",
       "      <td>0<\/td>\n",
       "      <td>1<\/td>\n",
       "      <td>sourcing<\/td>\n",
       "      <td>1<\/td>\n",
       "      <td>34<\/td>\n",
       "      <td>3.0<\/td>\n",
       "      <td>7<\/td>\n",
       "      <td>0<\/td>\n",
       "      <td>0<\/td>\n",
       "      <td>50<\/td>\n",
       "      <td>0<\/td>\n",
       "    <\/tr>\n",
       "    <tr>\n",
       "      <th>3<\/th>\n",
       "      <td>2542<\/td>\n",
       "      <td>Sales &amp; Marketing<\/td>\n",
       "      <td>region_23<\/td>\n",
       "      <td>0<\/td>\n",
       "      <td>1<\/td>\n",
       "      <td>other<\/td>\n",
       "      <td>2<\/td>\n",
       "      <td>39<\/td>\n",
       "      <td>1.0<\/td>\n",
       "      <td>10<\/td>\n",
       "      <td>0<\/td>\n",
       "      <td>0<\/td>\n",
       "      <td>50<\/td>\n",
       "      <td>0<\/td>\n",
       "    <\/tr>\n",
       "    <tr>\n",
       "      <th>4<\/th>\n",
       "      <td>48945<\/td>\n",
       "      <td>Technology<\/td>\n",
       "      <td>region_26<\/td>\n",
       "      <td>0<\/td>\n",
       "      <td>1<\/td>\n",
       "      <td>other<\/td>\n",
       "      <td>1<\/td>\n",
       "      <td>45<\/td>\n",
       "      <td>3.0<\/td>\n",
       "      <td>2<\/td>\n",
       "      <td>0<\/td>\n",
       "      <td>0<\/td>\n",
       "      <td>73<\/td>\n",
       "      <td>0<\/td>\n",
       "    <\/tr>\n",
       "  <\/tbody>\n",
       "<\/table>\n",
       "<\/div>"
      ]
     },
     "metadata":{
      
     },
     "output_type":"display_data"
    }
   ],
   "metadata":{
    "datalore":{
     "node_id":"POGpizLFWyPO8FvDXjAAs2",
     "type":"CODE",
     "hide_input_from_viewers":true,
     "hide_output_from_viewers":true
    }
   }
  },
  {
   "cell_type":"markdown",
   "source":[
    "категориальная переменная recruitment_channel"
   ],
   "attachments":{
    
   },
   "metadata":{
    "datalore":{
     "node_id":"faRP2DgKktbdvZWecUlxqf",
     "type":"MD",
     "hide_input_from_viewers":true,
     "hide_output_from_viewers":true
    }
   }
  },
  {
   "cell_type":"code",
   "source":[
    "df['recruitment_channel'].value_counts()"
   ],
   "execution_count":55,
   "outputs":[
    {
     "data":{
      "text\/html":[
       "<pre>other       29061\n",
       "sourcing    22204\n",
       "referred     1134\n",
       "Name: recruitment_channel, dtype: int64<\/pre>"
      ]
     },
     "metadata":{
      
     },
     "output_type":"display_data"
    }
   ],
   "metadata":{
    "datalore":{
     "node_id":"F0HIAu1p6X1G7TvCcJT6f9",
     "type":"CODE",
     "hide_input_from_viewers":true,
     "hide_output_from_viewers":true
    }
   }
  },
  {
   "cell_type":"code",
   "source":[
    "label_encoder = LabelEncoder()\n",
    "label_encoder.fit(df['recruitment_channel'])\n",
    "df['recruitment_channel'] = label_encoder.transform(df['recruitment_channel'])\n",
    "df.head()"
   ],
   "execution_count":24,
   "outputs":[
    {
     "name":"stderr",
     "text":[
      "<ipython-input-24-1f93de6873cf>:3: SettingWithCopyWarning: \n",
      "A value is trying to be set on a copy of a slice from a DataFrame.\n",
      "Try using .loc[row_indexer,col_indexer] = value instead\n",
      "\n",
      "See the caveats in the documentation: https:\/\/pandas.pydata.org\/pandas-docs\/stable\/user_guide\/indexing.html#returning-a-view-versus-a-copy\n",
      "  df['recruitment_channel'] = label_encoder.transform(df['recruitment_channel'])\n"
     ],
     "output_type":"stream"
    },
    {
     "data":{
      "text\/html":[
       "<div>\n",
       "<style scoped>\n",
       "    .dataframe tbody tr th:only-of-type {\n",
       "        vertical-align: middle;\n",
       "    }\n",
       "\n",
       "    .dataframe tbody tr th {\n",
       "        vertical-align: top;\n",
       "    }\n",
       "\n",
       "    .dataframe thead th {\n",
       "        text-align: right;\n",
       "    }\n",
       "<\/style>\n",
       "<table border=\"1\" class=\"dataframe\">\n",
       "  <thead>\n",
       "    <tr style=\"text-align: right;\">\n",
       "      <th><\/th>\n",
       "      <th>employee_id<\/th>\n",
       "      <th>department<\/th>\n",
       "      <th>region<\/th>\n",
       "      <th>education<\/th>\n",
       "      <th>gender<\/th>\n",
       "      <th>recruitment_channel<\/th>\n",
       "      <th>no_of_trainings<\/th>\n",
       "      <th>age<\/th>\n",
       "      <th>previous_year_rating<\/th>\n",
       "      <th>length_of_service<\/th>\n",
       "      <th>KPIs_met &gt;80%<\/th>\n",
       "      <th>awards_won?<\/th>\n",
       "      <th>avg_training_score<\/th>\n",
       "      <th>is_promoted<\/th>\n",
       "    <\/tr>\n",
       "  <\/thead>\n",
       "  <tbody>\n",
       "    <tr>\n",
       "      <th>0<\/th>\n",
       "      <td>65438<\/td>\n",
       "      <td>Sales &amp; Marketing<\/td>\n",
       "      <td>region_7<\/td>\n",
       "      <td>2<\/td>\n",
       "      <td>0<\/td>\n",
       "      <td>2<\/td>\n",
       "      <td>1<\/td>\n",
       "      <td>35<\/td>\n",
       "      <td>5.0<\/td>\n",
       "      <td>8<\/td>\n",
       "      <td>1<\/td>\n",
       "      <td>0<\/td>\n",
       "      <td>49<\/td>\n",
       "      <td>0<\/td>\n",
       "    <\/tr>\n",
       "    <tr>\n",
       "      <th>1<\/th>\n",
       "      <td>65141<\/td>\n",
       "      <td>Operations<\/td>\n",
       "      <td>region_22<\/td>\n",
       "      <td>0<\/td>\n",
       "      <td>1<\/td>\n",
       "      <td>0<\/td>\n",
       "      <td>1<\/td>\n",
       "      <td>30<\/td>\n",
       "      <td>5.0<\/td>\n",
       "      <td>4<\/td>\n",
       "      <td>0<\/td>\n",
       "      <td>0<\/td>\n",
       "      <td>60<\/td>\n",
       "      <td>0<\/td>\n",
       "    <\/tr>\n",
       "    <tr>\n",
       "      <th>2<\/th>\n",
       "      <td>7513<\/td>\n",
       "      <td>Sales &amp; Marketing<\/td>\n",
       "      <td>region_19<\/td>\n",
       "      <td>0<\/td>\n",
       "      <td>1<\/td>\n",
       "      <td>2<\/td>\n",
       "      <td>1<\/td>\n",
       "      <td>34<\/td>\n",
       "      <td>3.0<\/td>\n",
       "      <td>7<\/td>\n",
       "      <td>0<\/td>\n",
       "      <td>0<\/td>\n",
       "      <td>50<\/td>\n",
       "      <td>0<\/td>\n",
       "    <\/tr>\n",
       "    <tr>\n",
       "      <th>3<\/th>\n",
       "      <td>2542<\/td>\n",
       "      <td>Sales &amp; Marketing<\/td>\n",
       "      <td>region_23<\/td>\n",
       "      <td>0<\/td>\n",
       "      <td>1<\/td>\n",
       "      <td>0<\/td>\n",
       "      <td>2<\/td>\n",
       "      <td>39<\/td>\n",
       "      <td>1.0<\/td>\n",
       "      <td>10<\/td>\n",
       "      <td>0<\/td>\n",
       "      <td>0<\/td>\n",
       "      <td>50<\/td>\n",
       "      <td>0<\/td>\n",
       "    <\/tr>\n",
       "    <tr>\n",
       "      <th>4<\/th>\n",
       "      <td>48945<\/td>\n",
       "      <td>Technology<\/td>\n",
       "      <td>region_26<\/td>\n",
       "      <td>0<\/td>\n",
       "      <td>1<\/td>\n",
       "      <td>0<\/td>\n",
       "      <td>1<\/td>\n",
       "      <td>45<\/td>\n",
       "      <td>3.0<\/td>\n",
       "      <td>2<\/td>\n",
       "      <td>0<\/td>\n",
       "      <td>0<\/td>\n",
       "      <td>73<\/td>\n",
       "      <td>0<\/td>\n",
       "    <\/tr>\n",
       "  <\/tbody>\n",
       "<\/table>\n",
       "<\/div>"
      ]
     },
     "metadata":{
      
     },
     "output_type":"display_data"
    }
   ],
   "metadata":{
    "datalore":{
     "node_id":"hAUxDcD7wk2ITQKywWIcDS",
     "type":"CODE",
     "hide_input_from_viewers":true,
     "hide_output_from_viewers":true
    }
   }
  },
  {
   "cell_type":"markdown",
   "source":[
    "категориальная переменная department"
   ],
   "attachments":{
    
   },
   "metadata":{
    "datalore":{
     "node_id":"AaHqIwfckJAUScCnTLKXQo",
     "type":"MD",
     "hide_input_from_viewers":true,
     "hide_output_from_viewers":true
    }
   }
  },
  {
   "cell_type":"code",
   "source":[
    "df['department'].value_counts()"
   ],
   "execution_count":25,
   "outputs":[
    {
     "data":{
      "text\/html":[
       "<pre>Sales & Marketing    15265\n",
       "Operations           11122\n",
       "Procurement           7066\n",
       "Technology            7039\n",
       "Analytics             5015\n",
       "Finance               2500\n",
       "HR                    2386\n",
       "Legal                 1035\n",
       "R&D                    971\n",
       "Name: department, dtype: int64<\/pre>"
      ]
     },
     "metadata":{
      
     },
     "output_type":"display_data"
    }
   ],
   "metadata":{
    "datalore":{
     "node_id":"iRWdfSR4gedyhv7UFseRmt",
     "type":"CODE",
     "hide_input_from_viewers":true,
     "hide_output_from_viewers":true
    }
   }
  },
  {
   "cell_type":"code",
   "source":[
    "label_encoder = LabelEncoder()\n",
    "label_encoder.fit(df['department'])\n",
    "df['department'] = label_encoder.transform(df['department'])\n",
    "df.head()"
   ],
   "execution_count":26,
   "outputs":[
    {
     "name":"stderr",
     "text":[
      "<ipython-input-26-0622a81ab23a>:3: SettingWithCopyWarning: \n",
      "A value is trying to be set on a copy of a slice from a DataFrame.\n",
      "Try using .loc[row_indexer,col_indexer] = value instead\n",
      "\n",
      "See the caveats in the documentation: https:\/\/pandas.pydata.org\/pandas-docs\/stable\/user_guide\/indexing.html#returning-a-view-versus-a-copy\n",
      "  df['department'] = label_encoder.transform(df['department'])\n"
     ],
     "output_type":"stream"
    },
    {
     "data":{
      "text\/html":[
       "<div>\n",
       "<style scoped>\n",
       "    .dataframe tbody tr th:only-of-type {\n",
       "        vertical-align: middle;\n",
       "    }\n",
       "\n",
       "    .dataframe tbody tr th {\n",
       "        vertical-align: top;\n",
       "    }\n",
       "\n",
       "    .dataframe thead th {\n",
       "        text-align: right;\n",
       "    }\n",
       "<\/style>\n",
       "<table border=\"1\" class=\"dataframe\">\n",
       "  <thead>\n",
       "    <tr style=\"text-align: right;\">\n",
       "      <th><\/th>\n",
       "      <th>employee_id<\/th>\n",
       "      <th>department<\/th>\n",
       "      <th>region<\/th>\n",
       "      <th>education<\/th>\n",
       "      <th>gender<\/th>\n",
       "      <th>recruitment_channel<\/th>\n",
       "      <th>no_of_trainings<\/th>\n",
       "      <th>age<\/th>\n",
       "      <th>previous_year_rating<\/th>\n",
       "      <th>length_of_service<\/th>\n",
       "      <th>KPIs_met &gt;80%<\/th>\n",
       "      <th>awards_won?<\/th>\n",
       "      <th>avg_training_score<\/th>\n",
       "      <th>is_promoted<\/th>\n",
       "    <\/tr>\n",
       "  <\/thead>\n",
       "  <tbody>\n",
       "    <tr>\n",
       "      <th>0<\/th>\n",
       "      <td>65438<\/td>\n",
       "      <td>7<\/td>\n",
       "      <td>region_7<\/td>\n",
       "      <td>2<\/td>\n",
       "      <td>0<\/td>\n",
       "      <td>2<\/td>\n",
       "      <td>1<\/td>\n",
       "      <td>35<\/td>\n",
       "      <td>5.0<\/td>\n",
       "      <td>8<\/td>\n",
       "      <td>1<\/td>\n",
       "      <td>0<\/td>\n",
       "      <td>49<\/td>\n",
       "      <td>0<\/td>\n",
       "    <\/tr>\n",
       "    <tr>\n",
       "      <th>1<\/th>\n",
       "      <td>65141<\/td>\n",
       "      <td>4<\/td>\n",
       "      <td>region_22<\/td>\n",
       "      <td>0<\/td>\n",
       "      <td>1<\/td>\n",
       "      <td>0<\/td>\n",
       "      <td>1<\/td>\n",
       "      <td>30<\/td>\n",
       "      <td>5.0<\/td>\n",
       "      <td>4<\/td>\n",
       "      <td>0<\/td>\n",
       "      <td>0<\/td>\n",
       "      <td>60<\/td>\n",
       "      <td>0<\/td>\n",
       "    <\/tr>\n",
       "    <tr>\n",
       "      <th>2<\/th>\n",
       "      <td>7513<\/td>\n",
       "      <td>7<\/td>\n",
       "      <td>region_19<\/td>\n",
       "      <td>0<\/td>\n",
       "      <td>1<\/td>\n",
       "      <td>2<\/td>\n",
       "      <td>1<\/td>\n",
       "      <td>34<\/td>\n",
       "      <td>3.0<\/td>\n",
       "      <td>7<\/td>\n",
       "      <td>0<\/td>\n",
       "      <td>0<\/td>\n",
       "      <td>50<\/td>\n",
       "      <td>0<\/td>\n",
       "    <\/tr>\n",
       "    <tr>\n",
       "      <th>3<\/th>\n",
       "      <td>2542<\/td>\n",
       "      <td>7<\/td>\n",
       "      <td>region_23<\/td>\n",
       "      <td>0<\/td>\n",
       "      <td>1<\/td>\n",
       "      <td>0<\/td>\n",
       "      <td>2<\/td>\n",
       "      <td>39<\/td>\n",
       "      <td>1.0<\/td>\n",
       "      <td>10<\/td>\n",
       "      <td>0<\/td>\n",
       "      <td>0<\/td>\n",
       "      <td>50<\/td>\n",
       "      <td>0<\/td>\n",
       "    <\/tr>\n",
       "    <tr>\n",
       "      <th>4<\/th>\n",
       "      <td>48945<\/td>\n",
       "      <td>8<\/td>\n",
       "      <td>region_26<\/td>\n",
       "      <td>0<\/td>\n",
       "      <td>1<\/td>\n",
       "      <td>0<\/td>\n",
       "      <td>1<\/td>\n",
       "      <td>45<\/td>\n",
       "      <td>3.0<\/td>\n",
       "      <td>2<\/td>\n",
       "      <td>0<\/td>\n",
       "      <td>0<\/td>\n",
       "      <td>73<\/td>\n",
       "      <td>0<\/td>\n",
       "    <\/tr>\n",
       "  <\/tbody>\n",
       "<\/table>\n",
       "<\/div>"
      ]
     },
     "metadata":{
      
     },
     "output_type":"display_data"
    }
   ],
   "metadata":{
    "datalore":{
     "node_id":"nIQpd6AMUrl0dJsuGiV9D3",
     "type":"CODE",
     "hide_input_from_viewers":true,
     "hide_output_from_viewers":true
    }
   }
  },
  {
   "cell_type":"markdown",
   "source":[
    "категориальная переменная region"
   ],
   "attachments":{
    
   },
   "metadata":{
    "datalore":{
     "node_id":"5D0PwDC7ZDboiZh2Lc8aHM",
     "type":"MD",
     "hide_input_from_viewers":true,
     "hide_output_from_viewers":true
    }
   }
  },
  {
   "cell_type":"code",
   "source":[
    "df['region'].value_counts()"
   ],
   "execution_count":27,
   "outputs":[
    {
     "data":{
      "text\/html":[
       "<pre>region_2     11497\n",
       "region_22     6108\n",
       "region_7      4624\n",
       "region_15     2617\n",
       "region_13     2592\n",
       "region_26     2160\n",
       "region_31     1841\n",
       "region_4      1701\n",
       "region_27     1575\n",
       "region_16     1410\n",
       "region_11     1291\n",
       "region_28     1234\n",
       "region_23     1147\n",
       "region_29      975\n",
       "region_19      864\n",
       "region_32      861\n",
       "region_20      849\n",
       "region_14      804\n",
       "region_17      787\n",
       "region_25      785\n",
       "region_5       759\n",
       "region_6       676\n",
       "region_10      644\n",
       "region_30      644\n",
       "region_8       642\n",
       "region_1       596\n",
       "region_24      507\n",
       "region_12      498\n",
       "region_21      403\n",
       "region_9       372\n",
       "region_3       344\n",
       "region_34      292\n",
       "region_33      269\n",
       "region_18       31\n",
       "Name: region, dtype: int64<\/pre>"
      ]
     },
     "metadata":{
      
     },
     "output_type":"display_data"
    }
   ],
   "metadata":{
    "datalore":{
     "node_id":"YbQ7cYuQ2UGwoPwzfYxF4B",
     "type":"CODE",
     "hide_input_from_viewers":true,
     "hide_output_from_viewers":true
    }
   }
  },
  {
   "cell_type":"code",
   "source":[
    "label_encoder = LabelEncoder()\n",
    "label_encoder.fit(df['region'])\n",
    "df['region'] = label_encoder.transform(df['region'])\n",
    "df.head()"
   ],
   "execution_count":28,
   "outputs":[
    {
     "name":"stderr",
     "text":[
      "<ipython-input-28-de7144b34d56>:3: SettingWithCopyWarning: \n",
      "A value is trying to be set on a copy of a slice from a DataFrame.\n",
      "Try using .loc[row_indexer,col_indexer] = value instead\n",
      "\n",
      "See the caveats in the documentation: https:\/\/pandas.pydata.org\/pandas-docs\/stable\/user_guide\/indexing.html#returning-a-view-versus-a-copy\n",
      "  df['region'] = label_encoder.transform(df['region'])\n"
     ],
     "output_type":"stream"
    },
    {
     "data":{
      "text\/html":[
       "<div>\n",
       "<style scoped>\n",
       "    .dataframe tbody tr th:only-of-type {\n",
       "        vertical-align: middle;\n",
       "    }\n",
       "\n",
       "    .dataframe tbody tr th {\n",
       "        vertical-align: top;\n",
       "    }\n",
       "\n",
       "    .dataframe thead th {\n",
       "        text-align: right;\n",
       "    }\n",
       "<\/style>\n",
       "<table border=\"1\" class=\"dataframe\">\n",
       "  <thead>\n",
       "    <tr style=\"text-align: right;\">\n",
       "      <th><\/th>\n",
       "      <th>employee_id<\/th>\n",
       "      <th>department<\/th>\n",
       "      <th>region<\/th>\n",
       "      <th>education<\/th>\n",
       "      <th>gender<\/th>\n",
       "      <th>recruitment_channel<\/th>\n",
       "      <th>no_of_trainings<\/th>\n",
       "      <th>age<\/th>\n",
       "      <th>previous_year_rating<\/th>\n",
       "      <th>length_of_service<\/th>\n",
       "      <th>KPIs_met &gt;80%<\/th>\n",
       "      <th>awards_won?<\/th>\n",
       "      <th>avg_training_score<\/th>\n",
       "      <th>is_promoted<\/th>\n",
       "    <\/tr>\n",
       "  <\/thead>\n",
       "  <tbody>\n",
       "    <tr>\n",
       "      <th>0<\/th>\n",
       "      <td>65438<\/td>\n",
       "      <td>7<\/td>\n",
       "      <td>31<\/td>\n",
       "      <td>2<\/td>\n",
       "      <td>0<\/td>\n",
       "      <td>2<\/td>\n",
       "      <td>1<\/td>\n",
       "      <td>35<\/td>\n",
       "      <td>5.0<\/td>\n",
       "      <td>8<\/td>\n",
       "      <td>1<\/td>\n",
       "      <td>0<\/td>\n",
       "      <td>49<\/td>\n",
       "      <td>0<\/td>\n",
       "    <\/tr>\n",
       "    <tr>\n",
       "      <th>1<\/th>\n",
       "      <td>65141<\/td>\n",
       "      <td>4<\/td>\n",
       "      <td>14<\/td>\n",
       "      <td>0<\/td>\n",
       "      <td>1<\/td>\n",
       "      <td>0<\/td>\n",
       "      <td>1<\/td>\n",
       "      <td>30<\/td>\n",
       "      <td>5.0<\/td>\n",
       "      <td>4<\/td>\n",
       "      <td>0<\/td>\n",
       "      <td>0<\/td>\n",
       "      <td>60<\/td>\n",
       "      <td>0<\/td>\n",
       "    <\/tr>\n",
       "    <tr>\n",
       "      <th>2<\/th>\n",
       "      <td>7513<\/td>\n",
       "      <td>7<\/td>\n",
       "      <td>10<\/td>\n",
       "      <td>0<\/td>\n",
       "      <td>1<\/td>\n",
       "      <td>2<\/td>\n",
       "      <td>1<\/td>\n",
       "      <td>34<\/td>\n",
       "      <td>3.0<\/td>\n",
       "      <td>7<\/td>\n",
       "      <td>0<\/td>\n",
       "      <td>0<\/td>\n",
       "      <td>50<\/td>\n",
       "      <td>0<\/td>\n",
       "    <\/tr>\n",
       "    <tr>\n",
       "      <th>3<\/th>\n",
       "      <td>2542<\/td>\n",
       "      <td>7<\/td>\n",
       "      <td>15<\/td>\n",
       "      <td>0<\/td>\n",
       "      <td>1<\/td>\n",
       "      <td>0<\/td>\n",
       "      <td>2<\/td>\n",
       "      <td>39<\/td>\n",
       "      <td>1.0<\/td>\n",
       "      <td>10<\/td>\n",
       "      <td>0<\/td>\n",
       "      <td>0<\/td>\n",
       "      <td>50<\/td>\n",
       "      <td>0<\/td>\n",
       "    <\/tr>\n",
       "    <tr>\n",
       "      <th>4<\/th>\n",
       "      <td>48945<\/td>\n",
       "      <td>8<\/td>\n",
       "      <td>18<\/td>\n",
       "      <td>0<\/td>\n",
       "      <td>1<\/td>\n",
       "      <td>0<\/td>\n",
       "      <td>1<\/td>\n",
       "      <td>45<\/td>\n",
       "      <td>3.0<\/td>\n",
       "      <td>2<\/td>\n",
       "      <td>0<\/td>\n",
       "      <td>0<\/td>\n",
       "      <td>73<\/td>\n",
       "      <td>0<\/td>\n",
       "    <\/tr>\n",
       "  <\/tbody>\n",
       "<\/table>\n",
       "<\/div>"
      ]
     },
     "metadata":{
      
     },
     "output_type":"display_data"
    }
   ],
   "metadata":{
    "datalore":{
     "node_id":"udUox9VJ1QaWeW2ehtWonk",
     "type":"CODE",
     "hide_input_from_viewers":true,
     "hide_output_from_viewers":true
    }
   }
  },
  {
   "cell_type":"markdown",
   "source":[
    "матрица корреляции"
   ],
   "attachments":{
    
   },
   "metadata":{
    "datalore":{
     "node_id":"im6i5WnAPePVnsCUBfMImf",
     "type":"MD",
     "hide_input_from_viewers":true,
     "hide_output_from_viewers":true
    }
   }
  },
  {
   "cell_type":"code",
   "source":[
    "plt.figure(figsize=(20, 10))\n",
    "cor = df.corr(numeric_only=True)\n",
    "sns.heatmap(cor, annot=True, center=1)\n",
    "plt.show()"
   ],
   "execution_count":29,
   "outputs":[
    {
     "data":{
      "image\/png":"[encoded data removed]"
     },
     "metadata":{
      "image\/png":{
       
      }
     },
     "output_type":"display_data"
    }
   ],
   "metadata":{
    "datalore":{
     "node_id":"pVSiwK2PDadH1McPQaLvNt",
     "type":"CODE",
     "hide_input_from_viewers":true,
     "hide_output_from_viewers":true
    }
   }
  },
  {
   "cell_type":"code",
   "source":[
    "x = df[['previous_year_rating', 'KPIs_met >80%', 'avg_training_score', 'awards_won?']]\n",
    "#x = df[['previous_year_rating', 'KPIs_met >80%', 'avg_training_score', 'awards_won?', 'department', 'region', 'education', 'gender', 'recruitment_channel', 'no_of_trainings', 'age', 'length_of_service']]\n",
    "y = df['is_promoted']"
   ],
   "execution_count":30,
   "outputs":[
    
   ],
   "metadata":{
    "datalore":{
     "node_id":"Z68Kkx26Q3dra1MFL97Igb",
     "type":"CODE",
     "hide_input_from_viewers":true,
     "hide_output_from_viewers":true
    }
   }
  },
  {
   "cell_type":"markdown",
   "source":[
    "сплит на тест и трейн"
   ],
   "attachments":{
    
   },
   "metadata":{
    "datalore":{
     "node_id":"R8SjaEQkvJXlTA7W5h3NS9",
     "type":"MD",
     "hide_input_from_viewers":true,
     "hide_output_from_viewers":true
    }
   }
  },
  {
   "cell_type":"code",
   "source":[
    "x_train, x_test, y_train, y_test = train_test_split(x, y, test_size=0.2)"
   ],
   "execution_count":31,
   "outputs":[
    
   ],
   "metadata":{
    "datalore":{
     "node_id":"02mcjUTwlCgN4ftGFdHeDR",
     "type":"CODE",
     "hide_input_from_viewers":true,
     "hide_output_from_viewers":true
    }
   }
  },
  {
   "cell_type":"markdown",
   "source":[
    "обучение модели"
   ],
   "attachments":{
    
   },
   "metadata":{
    "datalore":{
     "node_id":"Rdy9NIIw5W4uRgt9PuWP1w",
     "type":"MD",
     "hide_input_from_viewers":true,
     "hide_output_from_viewers":true
    }
   }
  },
  {
   "cell_type":"code",
   "source":[
    "model = LogisticRegression()\n",
    "model.fit(x_train, y_train)"
   ],
   "execution_count":32,
   "outputs":[
    {
     "ename":"NameError",
     "evalue":"NameError: name 'LogisticRegression' is not defined",
     "traceback":[
      "\u001b[0;31m---------------------------------------------------------------------------",
      "Traceback (most recent call last)",
      "    at line 1 in <module>",
      "NameError: name 'LogisticRegression' is not defined"
     ],
     "output_type":"error"
    }
   ],
   "metadata":{
    "datalore":{
     "node_id":"248N8OpP2ApVQUVAJtCwWJ",
     "type":"CODE",
     "hide_input_from_viewers":true,
     "hide_output_from_viewers":true
    }
   }
  },
  {
   "cell_type":"code",
   "source":[
    "y_pred = model.predict(x_test)"
   ],
   "execution_count":65,
   "outputs":[
    
   ],
   "metadata":{
    "datalore":{
     "node_id":"JxUFSMTcoQAawQpskjxUE7",
     "type":"CODE",
     "hide_input_from_viewers":true,
     "hide_output_from_viewers":true
    }
   }
  },
  {
   "cell_type":"markdown",
   "source":[
    "коэффициенты"
   ],
   "attachments":{
    
   },
   "metadata":{
    "datalore":{
     "node_id":"N5Ve42FQSO8hG8lifRteAA",
     "type":"MD",
     "hide_input_from_viewers":true,
     "hide_output_from_viewers":true
    }
   }
  },
  {
   "cell_type":"code",
   "source":[
    "coefficients = model.coef_[0]\n",
    "intercept = model.intercept_\n",
    "\n",
    "for feature, coef in zip(x.columns, coefficients):\n",
    "    print(feature, '-', coef)\n",
    "print(\"intercept:\", intercept)"
   ],
   "execution_count":66,
   "outputs":[
    {
     "name":"stdout",
     "text":[
      "previous_year_rating - 0.3229342401939138\n",
      "KPIs_met >80% - 1.249217565059648\n",
      "avg_training_score - 0.043384568578878235\n",
      "awards_won? - 1.8434628057817926\n",
      "intercept: [-7.17958361]\n"
     ],
     "output_type":"stream"
    }
   ],
   "metadata":{
    "datalore":{
     "node_id":"EYmyKGRQgoDq7yyC0GpF9X",
     "type":"CODE",
     "hide_input_from_viewers":true,
     "hide_output_from_viewers":true
    }
   }
  },
  {
   "cell_type":"markdown",
   "source":[
    "метрики"
   ],
   "attachments":{
    
   },
   "metadata":{
    "datalore":{
     "node_id":"ZDqlsxjAn7tGb2kN3FaHre",
     "type":"MD",
     "hide_input_from_viewers":true,
     "hide_output_from_viewers":true
    }
   }
  },
  {
   "cell_type":"code",
   "source":[
    "accuracy = accuracy_score(y_test, y_pred)\n",
    "precision = precision_score(y_test, y_pred, pos_label=1)\n",
    "recall = recall_score(y_test, y_pred, pos_label=1)\n",
    "f1 = f1_score(y_test, y_pred, pos_label=1)\n",
    "conf_matrix = confusion_matrix(y_test, y_pred)\n",
    "\n",
    "print(\"Accuracy:\", accuracy)\n",
    "print(\"Precision:\", precision)\n",
    "print(\"Recall:\", recall)\n",
    "print(\"F1-score:\", f1)"
   ],
   "execution_count":67,
   "outputs":[
    {
     "name":"stdout",
     "text":[
      "Accuracy: 0.9124045801526718\n",
      "Precision: 0.5918367346938775\n",
      "Recall: 0.06196581196581197\n",
      "F1-score: 0.11218568665377177\n"
     ],
     "output_type":"stream"
    }
   ],
   "metadata":{
    "datalore":{
     "node_id":"wqZ4XtvMi5v9ZFhr4IGpdz",
     "type":"CODE",
     "hide_input_from_viewers":true,
     "hide_output_from_viewers":true
    }
   }
  },
  {
   "cell_type":"markdown",
   "source":[
    "матрица ошибок или confusion matrix"
   ],
   "attachments":{
    
   },
   "metadata":{
    "datalore":{
     "node_id":"7KgKR2YbUcGvmacpNtEIM0",
     "type":"MD",
     "hide_input_from_viewers":true,
     "hide_output_from_viewers":true
    }
   }
  },
  {
   "cell_type":"code",
   "source":[
    "tn, fp, fn, tp = conf_matrix.ravel()\n",
    "\n",
    "print(\"TN:\", tn)\n",
    "print(\"FP:\", fp)\n",
    "print(\"FN:\", fn)\n",
    "print(\"TP:\", tp)"
   ],
   "execution_count":30,
   "outputs":[
    {
     "name":"stdout",
     "text":[
      "TN: 9541\n",
      "FP: 42\n",
      "FN: 838\n",
      "TP: 59\n"
     ],
     "output_type":"stream"
    }
   ],
   "metadata":{
    "datalore":{
     "node_id":"6okIIRDk8KUkQfu14AfB8X",
     "type":"CODE",
     "hide_input_from_viewers":true,
     "hide_output_from_viewers":true
    }
   }
  }
 ],
 "metadata":{
  "kernelspec":{
   "display_name":"Python",
   "language":"python",
   "name":"python"
  },
  "datalore":{
   "computation_mode":"JUPYTER",
   "package_manager":"pip",
   "base_environment":"default",
   "packages":[
    
   ],
   "report_row_ids":[
    
   ],
   "version":3
  }
 },
 "nbformat":4,
 "nbformat_minor":4
}