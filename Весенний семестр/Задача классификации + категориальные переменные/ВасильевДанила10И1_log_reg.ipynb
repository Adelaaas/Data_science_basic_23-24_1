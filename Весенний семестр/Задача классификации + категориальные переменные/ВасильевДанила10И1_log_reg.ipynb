{
  "nbformat": 4,
  "nbformat_minor": 0,
  "metadata": {
    "colab": {
      "provenance": []
    },
    "kernelspec": {
      "name": "python3",
      "display_name": "Python 3"
    },
    "language_info": {
      "name": "python"
    }
  },
  "cells": [
    {
      "cell_type": "code",
      "execution_count": 61,
      "metadata": {
        "colab": {
          "base_uri": "https://localhost:8080/",
          "height": 533
        },
        "id": "g3f-XkcYgrtk",
        "outputId": "a0eb3308-ec71-4bed-f484-11859e80c01e"
      },
      "outputs": [
        {
          "output_type": "execute_result",
          "data": {
            "text/plain": [
              "    _unit_id  _golden _unit_state  _trusted_judgments _last_judgment_at  \\\n",
              "0  815719226    False   finalized                   3    10/26/15 23:24   \n",
              "1  815719227    False   finalized                   3    10/26/15 23:30   \n",
              "2  815719228    False   finalized                   3    10/26/15 23:33   \n",
              "3  815719229    False   finalized                   3    10/26/15 23:10   \n",
              "4  815719230    False   finalized                   3     10/27/15 1:15   \n",
              "\n",
              "   gender  gender:confidence profile_yn  profile_yn:confidence  \\\n",
              "0    male             1.0000        yes                    1.0   \n",
              "1    male             1.0000        yes                    1.0   \n",
              "2    male             0.6625        yes                    1.0   \n",
              "3    male             1.0000        yes                    1.0   \n",
              "4  female             1.0000        yes                    1.0   \n",
              "\n",
              "          created  ...                                       profileimage  \\\n",
              "0    12/5/13 1:48  ...  https://pbs.twimg.com/profile_images/414342229...   \n",
              "1   10/1/12 13:51  ...  https://pbs.twimg.com/profile_images/539604221...   \n",
              "2  11/28/14 11:30  ...  https://pbs.twimg.com/profile_images/657330418...   \n",
              "3   6/11/09 22:39  ...  https://pbs.twimg.com/profile_images/259703936...   \n",
              "4   4/16/14 13:23  ...  https://pbs.twimg.com/profile_images/564094871...   \n",
              "\n",
              "   retweet_count sidebar_color  \\\n",
              "0              0        FFFFFF   \n",
              "1              0        C0DEED   \n",
              "2              1        C0DEED   \n",
              "3              0        C0DEED   \n",
              "4              0             0   \n",
              "\n",
              "                                                text tweet_coord tweet_count  \\\n",
              "0  Robbie E Responds To Critics After Win Against...         NaN      110964   \n",
              "1  ÛÏIt felt like they were my friends and I was...         NaN        7471   \n",
              "2  i absolutely adore when louis starts the songs...         NaN        5617   \n",
              "3  Hi @JordanSpieth - Looking at the url - do you...         NaN        1693   \n",
              "4  Watching Neighbours on Sky+ catching up with t...         NaN       31462   \n",
              "\n",
              "    tweet_created      tweet_id   tweet_location               user_timezone  \n",
              "0  10/26/15 12:40  6.587300e+17  main; @Kan1shk3                     Chennai  \n",
              "1  10/26/15 12:40  6.587300e+17              NaN  Eastern Time (US & Canada)  \n",
              "2  10/26/15 12:40  6.587300e+17           clcncl                    Belgrade  \n",
              "3  10/26/15 12:40  6.587300e+17    Palo Alto, CA  Pacific Time (US & Canada)  \n",
              "4  10/26/15 12:40  6.587300e+17              NaN                         NaN  \n",
              "\n",
              "[5 rows x 26 columns]"
            ],
            "text/html": [
              "\n",
              "  <div id=\"df-1e7e341d-6dba-4e69-8ec2-aa77effd308d\" class=\"colab-df-container\">\n",
              "    <div>\n",
              "<style scoped>\n",
              "    .dataframe tbody tr th:only-of-type {\n",
              "        vertical-align: middle;\n",
              "    }\n",
              "\n",
              "    .dataframe tbody tr th {\n",
              "        vertical-align: top;\n",
              "    }\n",
              "\n",
              "    .dataframe thead th {\n",
              "        text-align: right;\n",
              "    }\n",
              "</style>\n",
              "<table border=\"1\" class=\"dataframe\">\n",
              "  <thead>\n",
              "    <tr style=\"text-align: right;\">\n",
              "      <th></th>\n",
              "      <th>_unit_id</th>\n",
              "      <th>_golden</th>\n",
              "      <th>_unit_state</th>\n",
              "      <th>_trusted_judgments</th>\n",
              "      <th>_last_judgment_at</th>\n",
              "      <th>gender</th>\n",
              "      <th>gender:confidence</th>\n",
              "      <th>profile_yn</th>\n",
              "      <th>profile_yn:confidence</th>\n",
              "      <th>created</th>\n",
              "      <th>...</th>\n",
              "      <th>profileimage</th>\n",
              "      <th>retweet_count</th>\n",
              "      <th>sidebar_color</th>\n",
              "      <th>text</th>\n",
              "      <th>tweet_coord</th>\n",
              "      <th>tweet_count</th>\n",
              "      <th>tweet_created</th>\n",
              "      <th>tweet_id</th>\n",
              "      <th>tweet_location</th>\n",
              "      <th>user_timezone</th>\n",
              "    </tr>\n",
              "  </thead>\n",
              "  <tbody>\n",
              "    <tr>\n",
              "      <th>0</th>\n",
              "      <td>815719226</td>\n",
              "      <td>False</td>\n",
              "      <td>finalized</td>\n",
              "      <td>3</td>\n",
              "      <td>10/26/15 23:24</td>\n",
              "      <td>male</td>\n",
              "      <td>1.0000</td>\n",
              "      <td>yes</td>\n",
              "      <td>1.0</td>\n",
              "      <td>12/5/13 1:48</td>\n",
              "      <td>...</td>\n",
              "      <td>https://pbs.twimg.com/profile_images/414342229...</td>\n",
              "      <td>0</td>\n",
              "      <td>FFFFFF</td>\n",
              "      <td>Robbie E Responds To Critics After Win Against...</td>\n",
              "      <td>NaN</td>\n",
              "      <td>110964</td>\n",
              "      <td>10/26/15 12:40</td>\n",
              "      <td>6.587300e+17</td>\n",
              "      <td>main; @Kan1shk3</td>\n",
              "      <td>Chennai</td>\n",
              "    </tr>\n",
              "    <tr>\n",
              "      <th>1</th>\n",
              "      <td>815719227</td>\n",
              "      <td>False</td>\n",
              "      <td>finalized</td>\n",
              "      <td>3</td>\n",
              "      <td>10/26/15 23:30</td>\n",
              "      <td>male</td>\n",
              "      <td>1.0000</td>\n",
              "      <td>yes</td>\n",
              "      <td>1.0</td>\n",
              "      <td>10/1/12 13:51</td>\n",
              "      <td>...</td>\n",
              "      <td>https://pbs.twimg.com/profile_images/539604221...</td>\n",
              "      <td>0</td>\n",
              "      <td>C0DEED</td>\n",
              "      <td>ÛÏIt felt like they were my friends and I was...</td>\n",
              "      <td>NaN</td>\n",
              "      <td>7471</td>\n",
              "      <td>10/26/15 12:40</td>\n",
              "      <td>6.587300e+17</td>\n",
              "      <td>NaN</td>\n",
              "      <td>Eastern Time (US &amp; Canada)</td>\n",
              "    </tr>\n",
              "    <tr>\n",
              "      <th>2</th>\n",
              "      <td>815719228</td>\n",
              "      <td>False</td>\n",
              "      <td>finalized</td>\n",
              "      <td>3</td>\n",
              "      <td>10/26/15 23:33</td>\n",
              "      <td>male</td>\n",
              "      <td>0.6625</td>\n",
              "      <td>yes</td>\n",
              "      <td>1.0</td>\n",
              "      <td>11/28/14 11:30</td>\n",
              "      <td>...</td>\n",
              "      <td>https://pbs.twimg.com/profile_images/657330418...</td>\n",
              "      <td>1</td>\n",
              "      <td>C0DEED</td>\n",
              "      <td>i absolutely adore when louis starts the songs...</td>\n",
              "      <td>NaN</td>\n",
              "      <td>5617</td>\n",
              "      <td>10/26/15 12:40</td>\n",
              "      <td>6.587300e+17</td>\n",
              "      <td>clcncl</td>\n",
              "      <td>Belgrade</td>\n",
              "    </tr>\n",
              "    <tr>\n",
              "      <th>3</th>\n",
              "      <td>815719229</td>\n",
              "      <td>False</td>\n",
              "      <td>finalized</td>\n",
              "      <td>3</td>\n",
              "      <td>10/26/15 23:10</td>\n",
              "      <td>male</td>\n",
              "      <td>1.0000</td>\n",
              "      <td>yes</td>\n",
              "      <td>1.0</td>\n",
              "      <td>6/11/09 22:39</td>\n",
              "      <td>...</td>\n",
              "      <td>https://pbs.twimg.com/profile_images/259703936...</td>\n",
              "      <td>0</td>\n",
              "      <td>C0DEED</td>\n",
              "      <td>Hi @JordanSpieth - Looking at the url - do you...</td>\n",
              "      <td>NaN</td>\n",
              "      <td>1693</td>\n",
              "      <td>10/26/15 12:40</td>\n",
              "      <td>6.587300e+17</td>\n",
              "      <td>Palo Alto, CA</td>\n",
              "      <td>Pacific Time (US &amp; Canada)</td>\n",
              "    </tr>\n",
              "    <tr>\n",
              "      <th>4</th>\n",
              "      <td>815719230</td>\n",
              "      <td>False</td>\n",
              "      <td>finalized</td>\n",
              "      <td>3</td>\n",
              "      <td>10/27/15 1:15</td>\n",
              "      <td>female</td>\n",
              "      <td>1.0000</td>\n",
              "      <td>yes</td>\n",
              "      <td>1.0</td>\n",
              "      <td>4/16/14 13:23</td>\n",
              "      <td>...</td>\n",
              "      <td>https://pbs.twimg.com/profile_images/564094871...</td>\n",
              "      <td>0</td>\n",
              "      <td>0</td>\n",
              "      <td>Watching Neighbours on Sky+ catching up with t...</td>\n",
              "      <td>NaN</td>\n",
              "      <td>31462</td>\n",
              "      <td>10/26/15 12:40</td>\n",
              "      <td>6.587300e+17</td>\n",
              "      <td>NaN</td>\n",
              "      <td>NaN</td>\n",
              "    </tr>\n",
              "  </tbody>\n",
              "</table>\n",
              "<p>5 rows × 26 columns</p>\n",
              "</div>\n",
              "    <div class=\"colab-df-buttons\">\n",
              "\n",
              "  <div class=\"colab-df-container\">\n",
              "    <button class=\"colab-df-convert\" onclick=\"convertToInteractive('df-1e7e341d-6dba-4e69-8ec2-aa77effd308d')\"\n",
              "            title=\"Convert this dataframe to an interactive table.\"\n",
              "            style=\"display:none;\">\n",
              "\n",
              "  <svg xmlns=\"http://www.w3.org/2000/svg\" height=\"24px\" viewBox=\"0 -960 960 960\">\n",
              "    <path d=\"M120-120v-720h720v720H120Zm60-500h600v-160H180v160Zm220 220h160v-160H400v160Zm0 220h160v-160H400v160ZM180-400h160v-160H180v160Zm440 0h160v-160H620v160ZM180-180h160v-160H180v160Zm440 0h160v-160H620v160Z\"/>\n",
              "  </svg>\n",
              "    </button>\n",
              "\n",
              "  <style>\n",
              "    .colab-df-container {\n",
              "      display:flex;\n",
              "      gap: 12px;\n",
              "    }\n",
              "\n",
              "    .colab-df-convert {\n",
              "      background-color: #E8F0FE;\n",
              "      border: none;\n",
              "      border-radius: 50%;\n",
              "      cursor: pointer;\n",
              "      display: none;\n",
              "      fill: #1967D2;\n",
              "      height: 32px;\n",
              "      padding: 0 0 0 0;\n",
              "      width: 32px;\n",
              "    }\n",
              "\n",
              "    .colab-df-convert:hover {\n",
              "      background-color: #E2EBFA;\n",
              "      box-shadow: 0px 1px 2px rgba(60, 64, 67, 0.3), 0px 1px 3px 1px rgba(60, 64, 67, 0.15);\n",
              "      fill: #174EA6;\n",
              "    }\n",
              "\n",
              "    .colab-df-buttons div {\n",
              "      margin-bottom: 4px;\n",
              "    }\n",
              "\n",
              "    [theme=dark] .colab-df-convert {\n",
              "      background-color: #3B4455;\n",
              "      fill: #D2E3FC;\n",
              "    }\n",
              "\n",
              "    [theme=dark] .colab-df-convert:hover {\n",
              "      background-color: #434B5C;\n",
              "      box-shadow: 0px 1px 3px 1px rgba(0, 0, 0, 0.15);\n",
              "      filter: drop-shadow(0px 1px 2px rgba(0, 0, 0, 0.3));\n",
              "      fill: #FFFFFF;\n",
              "    }\n",
              "  </style>\n",
              "\n",
              "    <script>\n",
              "      const buttonEl =\n",
              "        document.querySelector('#df-1e7e341d-6dba-4e69-8ec2-aa77effd308d button.colab-df-convert');\n",
              "      buttonEl.style.display =\n",
              "        google.colab.kernel.accessAllowed ? 'block' : 'none';\n",
              "\n",
              "      async function convertToInteractive(key) {\n",
              "        const element = document.querySelector('#df-1e7e341d-6dba-4e69-8ec2-aa77effd308d');\n",
              "        const dataTable =\n",
              "          await google.colab.kernel.invokeFunction('convertToInteractive',\n",
              "                                                    [key], {});\n",
              "        if (!dataTable) return;\n",
              "\n",
              "        const docLinkHtml = 'Like what you see? Visit the ' +\n",
              "          '<a target=\"_blank\" href=https://colab.research.google.com/notebooks/data_table.ipynb>data table notebook</a>'\n",
              "          + ' to learn more about interactive tables.';\n",
              "        element.innerHTML = '';\n",
              "        dataTable['output_type'] = 'display_data';\n",
              "        await google.colab.output.renderOutput(dataTable, element);\n",
              "        const docLink = document.createElement('div');\n",
              "        docLink.innerHTML = docLinkHtml;\n",
              "        element.appendChild(docLink);\n",
              "      }\n",
              "    </script>\n",
              "  </div>\n",
              "\n",
              "\n",
              "<div id=\"df-9d3db6d9-2f90-466f-8733-e0dda154b995\">\n",
              "  <button class=\"colab-df-quickchart\" onclick=\"quickchart('df-9d3db6d9-2f90-466f-8733-e0dda154b995')\"\n",
              "            title=\"Suggest charts\"\n",
              "            style=\"display:none;\">\n",
              "\n",
              "<svg xmlns=\"http://www.w3.org/2000/svg\" height=\"24px\"viewBox=\"0 0 24 24\"\n",
              "     width=\"24px\">\n",
              "    <g>\n",
              "        <path d=\"M19 3H5c-1.1 0-2 .9-2 2v14c0 1.1.9 2 2 2h14c1.1 0 2-.9 2-2V5c0-1.1-.9-2-2-2zM9 17H7v-7h2v7zm4 0h-2V7h2v10zm4 0h-2v-4h2v4z\"/>\n",
              "    </g>\n",
              "</svg>\n",
              "  </button>\n",
              "\n",
              "<style>\n",
              "  .colab-df-quickchart {\n",
              "      --bg-color: #E8F0FE;\n",
              "      --fill-color: #1967D2;\n",
              "      --hover-bg-color: #E2EBFA;\n",
              "      --hover-fill-color: #174EA6;\n",
              "      --disabled-fill-color: #AAA;\n",
              "      --disabled-bg-color: #DDD;\n",
              "  }\n",
              "\n",
              "  [theme=dark] .colab-df-quickchart {\n",
              "      --bg-color: #3B4455;\n",
              "      --fill-color: #D2E3FC;\n",
              "      --hover-bg-color: #434B5C;\n",
              "      --hover-fill-color: #FFFFFF;\n",
              "      --disabled-bg-color: #3B4455;\n",
              "      --disabled-fill-color: #666;\n",
              "  }\n",
              "\n",
              "  .colab-df-quickchart {\n",
              "    background-color: var(--bg-color);\n",
              "    border: none;\n",
              "    border-radius: 50%;\n",
              "    cursor: pointer;\n",
              "    display: none;\n",
              "    fill: var(--fill-color);\n",
              "    height: 32px;\n",
              "    padding: 0;\n",
              "    width: 32px;\n",
              "  }\n",
              "\n",
              "  .colab-df-quickchart:hover {\n",
              "    background-color: var(--hover-bg-color);\n",
              "    box-shadow: 0 1px 2px rgba(60, 64, 67, 0.3), 0 1px 3px 1px rgba(60, 64, 67, 0.15);\n",
              "    fill: var(--button-hover-fill-color);\n",
              "  }\n",
              "\n",
              "  .colab-df-quickchart-complete:disabled,\n",
              "  .colab-df-quickchart-complete:disabled:hover {\n",
              "    background-color: var(--disabled-bg-color);\n",
              "    fill: var(--disabled-fill-color);\n",
              "    box-shadow: none;\n",
              "  }\n",
              "\n",
              "  .colab-df-spinner {\n",
              "    border: 2px solid var(--fill-color);\n",
              "    border-color: transparent;\n",
              "    border-bottom-color: var(--fill-color);\n",
              "    animation:\n",
              "      spin 1s steps(1) infinite;\n",
              "  }\n",
              "\n",
              "  @keyframes spin {\n",
              "    0% {\n",
              "      border-color: transparent;\n",
              "      border-bottom-color: var(--fill-color);\n",
              "      border-left-color: var(--fill-color);\n",
              "    }\n",
              "    20% {\n",
              "      border-color: transparent;\n",
              "      border-left-color: var(--fill-color);\n",
              "      border-top-color: var(--fill-color);\n",
              "    }\n",
              "    30% {\n",
              "      border-color: transparent;\n",
              "      border-left-color: var(--fill-color);\n",
              "      border-top-color: var(--fill-color);\n",
              "      border-right-color: var(--fill-color);\n",
              "    }\n",
              "    40% {\n",
              "      border-color: transparent;\n",
              "      border-right-color: var(--fill-color);\n",
              "      border-top-color: var(--fill-color);\n",
              "    }\n",
              "    60% {\n",
              "      border-color: transparent;\n",
              "      border-right-color: var(--fill-color);\n",
              "    }\n",
              "    80% {\n",
              "      border-color: transparent;\n",
              "      border-right-color: var(--fill-color);\n",
              "      border-bottom-color: var(--fill-color);\n",
              "    }\n",
              "    90% {\n",
              "      border-color: transparent;\n",
              "      border-bottom-color: var(--fill-color);\n",
              "    }\n",
              "  }\n",
              "</style>\n",
              "\n",
              "  <script>\n",
              "    async function quickchart(key) {\n",
              "      const quickchartButtonEl =\n",
              "        document.querySelector('#' + key + ' button');\n",
              "      quickchartButtonEl.disabled = true;  // To prevent multiple clicks.\n",
              "      quickchartButtonEl.classList.add('colab-df-spinner');\n",
              "      try {\n",
              "        const charts = await google.colab.kernel.invokeFunction(\n",
              "            'suggestCharts', [key], {});\n",
              "      } catch (error) {\n",
              "        console.error('Error during call to suggestCharts:', error);\n",
              "      }\n",
              "      quickchartButtonEl.classList.remove('colab-df-spinner');\n",
              "      quickchartButtonEl.classList.add('colab-df-quickchart-complete');\n",
              "    }\n",
              "    (() => {\n",
              "      let quickchartButtonEl =\n",
              "        document.querySelector('#df-9d3db6d9-2f90-466f-8733-e0dda154b995 button');\n",
              "      quickchartButtonEl.style.display =\n",
              "        google.colab.kernel.accessAllowed ? 'block' : 'none';\n",
              "    })();\n",
              "  </script>\n",
              "</div>\n",
              "    </div>\n",
              "  </div>\n"
            ],
            "application/vnd.google.colaboratory.intrinsic+json": {
              "type": "dataframe",
              "variable_name": "df"
            }
          },
          "metadata": {},
          "execution_count": 61
        }
      ],
      "source": [
        "import pandas as pd\n",
        "import matplotlib.pyplot as plt\n",
        "df=pd.read_csv('gender-classifier-DFE-791531.csv',encoding='latin-1')\n",
        "df.head()"
      ]
    },
    {
      "cell_type": "code",
      "source": [
        "df.dtypes\n",
        "# встречаются типы данных int64,bool,object,float64\n",
        "# к моему огромному сожалению категориальных переменных у меня очень много, все кроме int64, float64"
      ],
      "metadata": {
        "colab": {
          "base_uri": "https://localhost:8080/"
        },
        "id": "zGpw9Ak_mzuC",
        "outputId": "7f975ca3-9808-46b5-85f6-4c65554ac249"
      },
      "execution_count": 62,
      "outputs": [
        {
          "output_type": "execute_result",
          "data": {
            "text/plain": [
              "_unit_id                   int64\n",
              "_golden                     bool\n",
              "_unit_state               object\n",
              "_trusted_judgments         int64\n",
              "_last_judgment_at         object\n",
              "gender                    object\n",
              "gender:confidence        float64\n",
              "profile_yn                object\n",
              "profile_yn:confidence    float64\n",
              "created                   object\n",
              "description               object\n",
              "fav_number                 int64\n",
              "gender_gold               object\n",
              "link_color                object\n",
              "name                      object\n",
              "profile_yn_gold           object\n",
              "profileimage              object\n",
              "retweet_count              int64\n",
              "sidebar_color             object\n",
              "text                      object\n",
              "tweet_coord               object\n",
              "tweet_count                int64\n",
              "tweet_created             object\n",
              "tweet_id                 float64\n",
              "tweet_location            object\n",
              "user_timezone             object\n",
              "dtype: object"
            ]
          },
          "metadata": {},
          "execution_count": 62
        }
      ]
    },
    {
      "cell_type": "code",
      "source": [
        "df.isna().sum()"
      ],
      "metadata": {
        "colab": {
          "base_uri": "https://localhost:8080/"
        },
        "id": "IkqIP_xum0Bq",
        "outputId": "929b7de7-228d-4819-97d7-6e90ac90cace"
      },
      "execution_count": 63,
      "outputs": [
        {
          "output_type": "execute_result",
          "data": {
            "text/plain": [
              "_unit_id                     0\n",
              "_golden                      0\n",
              "_unit_state                  0\n",
              "_trusted_judgments           0\n",
              "_last_judgment_at           50\n",
              "gender                      97\n",
              "gender:confidence           26\n",
              "profile_yn                   0\n",
              "profile_yn:confidence        0\n",
              "created                      0\n",
              "description               3744\n",
              "fav_number                   0\n",
              "gender_gold              20000\n",
              "link_color                   0\n",
              "name                         0\n",
              "profile_yn_gold          20000\n",
              "profileimage                 0\n",
              "retweet_count                0\n",
              "sidebar_color                0\n",
              "text                         0\n",
              "tweet_coord              19891\n",
              "tweet_count                  0\n",
              "tweet_created                0\n",
              "tweet_id                     0\n",
              "tweet_location            7485\n",
              "user_timezone             7798\n",
              "dtype: int64"
            ]
          },
          "metadata": {},
          "execution_count": 63
        }
      ]
    },
    {
      "cell_type": "code",
      "source": [
        "df.shape\n",
        "#Из 20050 строк по 20000 пропусков в gender_gold, profile_yn_gold и tweet_coord, удалю их"
      ],
      "metadata": {
        "colab": {
          "base_uri": "https://localhost:8080/"
        },
        "id": "zn5iWgv2m0Ii",
        "outputId": "675bd129-afef-434a-e43f-9884dc339950"
      },
      "execution_count": 5,
      "outputs": [
        {
          "output_type": "execute_result",
          "data": {
            "text/plain": [
              "(20050, 26)"
            ]
          },
          "metadata": {},
          "execution_count": 5
        }
      ]
    },
    {
      "cell_type": "code",
      "source": [
        "del df['gender_gold']\n",
        "del df['profile_yn_gold']\n",
        "del df['tweet_coord']\n"
      ],
      "metadata": {
        "id": "pWYXSFwsm0PK"
      },
      "execution_count": 64,
      "outputs": []
    },
    {
      "cell_type": "code",
      "source": [
        "df['_golden'].value_counts()"
      ],
      "metadata": {
        "colab": {
          "base_uri": "https://localhost:8080/"
        },
        "id": "fm3Ri7PSr3Uq",
        "outputId": "ddc4d605-f8a5-4cdf-8c53-f6101bf42f9d"
      },
      "execution_count": 7,
      "outputs": [
        {
          "output_type": "execute_result",
          "data": {
            "text/plain": [
              "_golden\n",
              "False    20000\n",
              "True        50\n",
              "Name: count, dtype: int64"
            ]
          },
          "metadata": {},
          "execution_count": 7
        }
      ]
    },
    {
      "cell_type": "code",
      "source": [
        "df['_unit_state'].value_counts()"
      ],
      "metadata": {
        "colab": {
          "base_uri": "https://localhost:8080/"
        },
        "id": "Z9m-ucJsr3ch",
        "outputId": "e1337670-fb52-4d00-d9cc-448d31b8fc51"
      },
      "execution_count": 8,
      "outputs": [
        {
          "output_type": "execute_result",
          "data": {
            "text/plain": [
              "_unit_state\n",
              "finalized    20000\n",
              "golden          50\n",
              "Name: count, dtype: int64"
            ]
          },
          "metadata": {},
          "execution_count": 8
        }
      ]
    },
    {
      "cell_type": "code",
      "source": [
        "df['_last_judgment_at'].value_counts()"
      ],
      "metadata": {
        "colab": {
          "base_uri": "https://localhost:8080/"
        },
        "id": "3evWWtW2sGby",
        "outputId": "b4121286-60df-44d4-97fe-86ca675d35b1"
      },
      "execution_count": 9,
      "outputs": [
        {
          "output_type": "execute_result",
          "data": {
            "text/plain": [
              "_last_judgment_at\n",
              "10/26/15 23:05    217\n",
              "10/26/15 23:07    205\n",
              "10/26/15 23:31    182\n",
              "10/26/15 23:57    181\n",
              "10/27/15 1:43     169\n",
              "                 ... \n",
              "10/27/15 2:29       2\n",
              "10/27/15 2:21       1\n",
              "10/27/15 2:48       1\n",
              "10/27/15 2:17       1\n",
              "10/27/15 2:18       1\n",
              "Name: count, Length: 283, dtype: int64"
            ]
          },
          "metadata": {},
          "execution_count": 9
        }
      ]
    },
    {
      "cell_type": "code",
      "source": [
        "df['gender'].value_counts()"
      ],
      "metadata": {
        "colab": {
          "base_uri": "https://localhost:8080/"
        },
        "id": "1oDD-X4bsGoh",
        "outputId": "f31d16e5-8d4c-47a7-f051-b8066ad92c32"
      },
      "execution_count": 10,
      "outputs": [
        {
          "output_type": "execute_result",
          "data": {
            "text/plain": [
              "gender\n",
              "female     6700\n",
              "male       6194\n",
              "brand      5942\n",
              "unknown    1117\n",
              "Name: count, dtype: int64"
            ]
          },
          "metadata": {},
          "execution_count": 10
        }
      ]
    },
    {
      "cell_type": "code",
      "source": [
        "#Удалим строки с пропусками и brand, unknown в gender\n",
        "df=df[df['gender']!='brand']\n",
        "df=df[df['gender']!='unknown']\n",
        "df=df.dropna(subset=['gender'])"
      ],
      "metadata": {
        "id": "KpjoHEP_ejNF"
      },
      "execution_count": 65,
      "outputs": []
    },
    {
      "cell_type": "code",
      "source": [
        "df['profile_yn'].value_counts()"
      ],
      "metadata": {
        "colab": {
          "base_uri": "https://localhost:8080/"
        },
        "id": "PAPRgRousYUy",
        "outputId": "c0f4f72a-b326-44d2-8251-67edba3eaacd"
      },
      "execution_count": null,
      "outputs": [
        {
          "output_type": "execute_result",
          "data": {
            "text/plain": [
              "yes    12894\n",
              "Name: profile_yn, dtype: int64"
            ]
          },
          "metadata": {},
          "execution_count": 176
        }
      ]
    },
    {
      "cell_type": "code",
      "source": [
        "df['created'].value_counts()"
      ],
      "metadata": {
        "colab": {
          "base_uri": "https://localhost:8080/"
        },
        "id": "F-_E-ttjsYXx",
        "outputId": "b58c9350-06f0-4d73-f324-50ccbbfd38e2"
      },
      "execution_count": null,
      "outputs": [
        {
          "output_type": "execute_result",
          "data": {
            "text/plain": [
              "3/17/12 13:07     19\n",
              "4/13/10 2:10      18\n",
              "8/11/15 8:55      13\n",
              "5/20/14 14:35     10\n",
              "10/25/14 14:31    10\n",
              "                  ..\n",
              "11/25/12 3:44      1\n",
              "4/15/10 20:12      1\n",
              "11/13/13 9:22      1\n",
              "2/25/15 11:11      1\n",
              "11/18/10 11:16     1\n",
              "Name: created, Length: 12263, dtype: int64"
            ]
          },
          "metadata": {},
          "execution_count": 177
        }
      ]
    },
    {
      "cell_type": "code",
      "source": [
        "df['profileimage'].value_counts()"
      ],
      "metadata": {
        "colab": {
          "base_uri": "https://localhost:8080/"
        },
        "id": "W0foROfRs-Qa",
        "outputId": "af66aa9a-7468-4f61-e98d-3f227327f23c"
      },
      "execution_count": 12,
      "outputs": [
        {
          "output_type": "execute_result",
          "data": {
            "text/plain": [
              "profileimage\n",
              "https://abs.twimg.com/sticky/default_profile_images/default_profile_6_normal.png                20\n",
              "https://pbs.twimg.com/profile_images/658393897807269888/9pk2eTDb_normal.jpg                     19\n",
              "https://abs.twimg.com/sticky/default_profile_images/default_profile_5_normal.png                18\n",
              "https://pbs.twimg.com/profile_images/482134154738679808/EBuHwp9T_normal.jpeg                    18\n",
              "https://abs.twimg.com/sticky/default_profile_images/default_profile_2_normal.png                16\n",
              "                                                                                                ..\n",
              "https://pbs.twimg.com/profile_images/500412055292092419/q7vIrkVA_normal.jpeg                     1\n",
              "https://pbs.twimg.com/profile_images/653085334868103168/WaRAS-mj_normal.jpg                      1\n",
              "https://pbs.twimg.com/profile_images/3470853385/6f354808be954278024751db992a4872_normal.jpeg     1\n",
              "https://pbs.twimg.com/profile_images/640643645142618112/XejyyYxG_normal.jpg                      1\n",
              "https://pbs.twimg.com/profile_images/2587658798/3_normal.jpg                                     1\n",
              "Name: count, Length: 12216, dtype: int64"
            ]
          },
          "metadata": {},
          "execution_count": 12
        }
      ]
    },
    {
      "cell_type": "markdown",
      "source": [],
      "metadata": {
        "id": "u8hKHlRoHVe4"
      }
    },
    {
      "cell_type": "code",
      "source": [
        "df['name'].value_counts()"
      ],
      "metadata": {
        "colab": {
          "base_uri": "https://localhost:8080/"
        },
        "id": "HV2q4NcMtXWy",
        "outputId": "bef960b6-1a50-4e56-a182-245fce38fd66"
      },
      "execution_count": 13,
      "outputs": [
        {
          "output_type": "execute_result",
          "data": {
            "text/plain": [
              "name\n",
              "94heskind          19\n",
              "naijama            18\n",
              "babeniallniall2    13\n",
              "94hesinspired      10\n",
              "lwt_bae            10\n",
              "                   ..\n",
              "EarthquakeJo        1\n",
              "carlla_XOXO         1\n",
              "ParkersRoom94       1\n",
              "Michelle_cilley     1\n",
              "5yellowdogdem       1\n",
              "Name: count, Length: 12310, dtype: int64"
            ]
          },
          "metadata": {},
          "execution_count": 13
        }
      ]
    },
    {
      "cell_type": "code",
      "source": [
        "df['description'].value_counts()"
      ],
      "metadata": {
        "colab": {
          "base_uri": "https://localhost:8080/"
        },
        "id": "4A302OJ6tXdY",
        "outputId": "0c88eef8-dd6b-4538-8e16-d33c37e6dcdd"
      },
      "execution_count": 14,
      "outputs": [
        {
          "output_type": "execute_result",
          "data": {
            "text/plain": [
              "description\n",
              "secret little rendezvous                                                                                                                                                                             19\n",
              "'Cos even an old girl's best friend is still her MUM!                                                                                                                                                18\n",
              "Û¢Ï¤ louisandharry look at each other the same way i look at mcdonald's Ï¤Û¢ ÊÛÊÛÊÛÊÛÊÛÊÛÊÛÊÛÊÛÊÛÊÛÊÛÊÛÊÛÊÛÊÛÊÛÊÛÊÛÊÛÊÛÊÛÊÛÊÛ Ï÷PewDiePie, Ed, Selena, JanoskiansÏ÷    10\n",
              "Do whatever makes you happy                                                                                                                                                                          10\n",
              "baby we could be enough.                                                                                                                                                                             10\n",
              "                                                                                                                                                                                                     ..\n",
              "Welcome to the Twitter trip - from Minute One - through my second 1/4-century. And third. And fourthandfifthandsixth. Welcome to The Future.                                                          1\n",
              "AHS                                                                                                                                                                                                   1\n",
              "Mockingbird Books - extinct used bookseller                                                                                                                                                           1\n",
              "Scribe|Actor|Script Writer| Theatre,Film,Rugby & Music Tickle My Fancy..Photography Sprinkles My Doughnut..                                                                                           1\n",
              "| Kingdom Hearts | Alice | Sims | Minecraft | Hard Rock | Bookworm | Nerd | Geek | Need I go on? |                                                                                                    1\n",
              "Name: count, Length: 10657, dtype: int64"
            ]
          },
          "metadata": {},
          "execution_count": 14
        }
      ]
    },
    {
      "cell_type": "code",
      "source": [
        "df['link_color'].value_counts()"
      ],
      "metadata": {
        "colab": {
          "base_uri": "https://localhost:8080/"
        },
        "id": "j7JEdkeEtXk5",
        "outputId": "67619088-f8f1-414e-cd94-238102763470"
      },
      "execution_count": 15,
      "outputs": [
        {
          "output_type": "execute_result",
          "data": {
            "text/plain": [
              "link_color\n",
              "0084B4    5742\n",
              "3B94D9     415\n",
              "9999       404\n",
              "9266CC     375\n",
              "DD2E44     358\n",
              "          ... \n",
              "CF0F65       1\n",
              "D997D9       1\n",
              "2FC1DE       1\n",
              "441155       1\n",
              "05B8CC       1\n",
              "Name: count, Length: 2127, dtype: int64"
            ]
          },
          "metadata": {},
          "execution_count": 15
        }
      ]
    },
    {
      "cell_type": "code",
      "source": [
        "df['sidebar_color'].value_counts()"
      ],
      "metadata": {
        "colab": {
          "base_uri": "https://localhost:8080/"
        },
        "id": "Fb_BQO6Zwx8i",
        "outputId": "c5f42b42-9340-45f6-b202-623df029b56f"
      },
      "execution_count": 16,
      "outputs": [
        {
          "output_type": "execute_result",
          "data": {
            "text/plain": [
              "sidebar_color\n",
              "C0DEED      5252\n",
              "0           2703\n",
              "FFFFFF      2662\n",
              "EEEEEE       479\n",
              "181A1E       236\n",
              "            ... \n",
              "6.90E+29       1\n",
              "70808          1\n",
              "3E0405         1\n",
              "656869         1\n",
              "B68B9E         1\n",
              "Name: count, Length: 419, dtype: int64"
            ]
          },
          "metadata": {},
          "execution_count": 16
        }
      ]
    },
    {
      "cell_type": "code",
      "source": [
        "df['text'].value_counts()"
      ],
      "metadata": {
        "colab": {
          "base_uri": "https://localhost:8080/"
        },
        "id": "aY_mlNhzwyE5",
        "outputId": "8f192b05-4a82-4e15-a78c-76db4edd2f1a"
      },
      "execution_count": 17,
      "outputs": [
        {
          "output_type": "execute_result",
          "data": {
            "text/plain": [
              "text\n",
              "EVERYDAYILOVEYOU Forevermore\\n\\nand what makes it last\\n\\n#PushAwardsLizQuens                                                                 103\n",
              "Build a Transforming Workbench, Desk, and Storage Unit: If you donÛªt have a lot of space, you need to make creative use of what you h...     12\n",
              "@onedirection Favorite Duo or Group Pop/Rock at the #AMAs                                                                                       7\n",
              "EVERYDAYDAYILOVEYOU Forevermore\\nWeep with the heroineÛªs desperation.\\n\\n#PushAwardsLizQuens                                                  6\n",
              "EVERYDAYDAYILOVEYOU Forevermore\\nRide the edge of my seat with the heroÛ_\\n\\n#PushAwardsLizQuens                                               5\n",
              "                                                                                                                                             ... \n",
              "Quinn Moosebroker Mysteries https://t.co/WFcBq1NxdG  https://t.co/nuoZqQZBYV #YA #Detective                                                     1\n",
              "Puzzling, yellowfrom the becoming wide world.: cTVuLbX https://t.co/6dUJ2F2Tyu                                                                  1\n",
              "Arch trends relating to the manufacturing district modernistic india: vZs                                                                       1\n",
              "What if WSR actually mailed the Questions? Naaaaaah...but then again this is the 254..anything goes https://t.co/iEaK8NnDc1                     1\n",
              "George Bush and Dick Cheney need to vacation in Irac the paradise they created                                                                  1\n",
              "Name: count, Length: 12724, dtype: int64"
            ]
          },
          "metadata": {},
          "execution_count": 17
        }
      ]
    },
    {
      "cell_type": "code",
      "source": [
        "df['tweet_created'].value_counts()"
      ],
      "metadata": {
        "colab": {
          "base_uri": "https://localhost:8080/"
        },
        "id": "w-68SCpyxIZx",
        "outputId": "c6c79dcc-e1c5-4f0a-ea58-11d7605e28d9"
      },
      "execution_count": 18,
      "outputs": [
        {
          "output_type": "execute_result",
          "data": {
            "text/plain": [
              "tweet_created\n",
              "10/26/15 12:40    4844\n",
              "10/26/15 13:19    4214\n",
              "10/26/15 13:20    2592\n",
              "10/26/15 12:39    1027\n",
              "10/26/15 13:18     217\n",
              "Name: count, dtype: int64"
            ]
          },
          "metadata": {},
          "execution_count": 18
        }
      ]
    },
    {
      "cell_type": "code",
      "source": [
        "df['tweet_location'].value_counts()"
      ],
      "metadata": {
        "colab": {
          "base_uri": "https://localhost:8080/"
        },
        "id": "0yVyD3MxxIfI",
        "outputId": "46185e14-fef9-4a1f-961d-2e5646864236"
      },
      "execution_count": 19,
      "outputs": [
        {
          "output_type": "execute_result",
          "data": {
            "text/plain": [
              "tweet_location\n",
              "London                            98\n",
              "Los Angeles, CA                   51\n",
              "United States                     49\n",
              "UK                                45\n",
              "London, England                   36\n",
              "                                  ..\n",
              "Find Me Anywhere Else              1\n",
              "#GVO                               1\n",
              "the dark parts of yorkshire        1\n",
              "Currently, ehh... Limbo?!??...     1\n",
              "The skies                          1\n",
              "Name: count, Length: 6065, dtype: int64"
            ]
          },
          "metadata": {},
          "execution_count": 19
        }
      ]
    },
    {
      "cell_type": "code",
      "source": [
        "df['user_timezone'].value_counts()"
      ],
      "metadata": {
        "colab": {
          "base_uri": "https://localhost:8080/"
        },
        "id": "c4IwhtjcxUlB",
        "outputId": "5dc8bc2b-0299-4091-c4e7-5d53226a6c0e"
      },
      "execution_count": 20,
      "outputs": [
        {
          "output_type": "execute_result",
          "data": {
            "text/plain": [
              "user_timezone\n",
              "Eastern Time (US & Canada)        1670\n",
              "Pacific Time (US & Canada)        1351\n",
              "Central Time (US & Canada)        1096\n",
              "London                             902\n",
              "Atlantic Time (Canada)             444\n",
              "                                  ... \n",
              "America/Vancouver                    1\n",
              "Africa/Cairo                         1\n",
              "Asia/Karachi                         1\n",
              "Dhaka                                1\n",
              "America/Argentina/Buenos_Aires       1\n",
              "Name: count, Length: 148, dtype: int64"
            ]
          },
          "metadata": {},
          "execution_count": 20
        }
      ]
    },
    {
      "cell_type": "code",
      "source": [
        "df.dtypes"
      ],
      "metadata": {
        "colab": {
          "base_uri": "https://localhost:8080/"
        },
        "id": "N0mvs7Hlzs7K",
        "outputId": "ab5efc96-bab6-4bbb-af5c-be98b696252b"
      },
      "execution_count": 21,
      "outputs": [
        {
          "output_type": "execute_result",
          "data": {
            "text/plain": [
              "_unit_id                   int64\n",
              "_golden                     bool\n",
              "_unit_state               object\n",
              "_trusted_judgments         int64\n",
              "_last_judgment_at         object\n",
              "gender                    object\n",
              "gender:confidence        float64\n",
              "profile_yn                object\n",
              "profile_yn:confidence    float64\n",
              "created                   object\n",
              "description               object\n",
              "fav_number                 int64\n",
              "link_color                object\n",
              "name                      object\n",
              "profileimage              object\n",
              "retweet_count              int64\n",
              "sidebar_color             object\n",
              "text                      object\n",
              "tweet_count                int64\n",
              "tweet_created             object\n",
              "tweet_id                 float64\n",
              "tweet_location            object\n",
              "user_timezone             object\n",
              "dtype: object"
            ]
          },
          "metadata": {},
          "execution_count": 21
        }
      ]
    },
    {
      "cell_type": "code",
      "source": [
        "df.isna().sum()"
      ],
      "metadata": {
        "colab": {
          "base_uri": "https://localhost:8080/"
        },
        "id": "ER0zQTvvFzUo",
        "outputId": "472139d3-c016-4e05-8588-0aa2674719d6"
      },
      "execution_count": 28,
      "outputs": [
        {
          "output_type": "execute_result",
          "data": {
            "text/plain": [
              "_unit_id                    0\n",
              "_golden                     0\n",
              "_unit_state                 0\n",
              "_trusted_judgments          0\n",
              "_last_judgment_at          36\n",
              "gender                      0\n",
              "gender:confidence           0\n",
              "profile_yn                  0\n",
              "profile_yn:confidence       0\n",
              "created                     0\n",
              "description              1700\n",
              "fav_number                  0\n",
              "link_color                  0\n",
              "name                        0\n",
              "profileimage                0\n",
              "retweet_count               0\n",
              "sidebar_color               0\n",
              "text                        0\n",
              "tweet_count                 0\n",
              "tweet_created               0\n",
              "tweet_id                    0\n",
              "tweet_location           4148\n",
              "user_timezone            4397\n",
              "dtype: int64"
            ]
          },
          "metadata": {},
          "execution_count": 28
        }
      ]
    },
    {
      "cell_type": "code",
      "source": [
        "value = '10/26/15 23:05'\n",
        "value1 = 'secret little rendezvous'\n",
        "df['_last_judgment_at'] = df['_last_judgment_at'].fillna(value)\n",
        "value2= 'London'\n",
        "df['tweet_location']=df['tweet_location'].fillna(value2)\n",
        "value3= 'Eastern Time (US & Canada)'\n",
        "df['user_timezone']=df['user_timezone'].fillna(value3)\n",
        "df['description']=df['description'].fillna(value1)"
      ],
      "metadata": {
        "id": "YQkvTIZPF_n-"
      },
      "execution_count": 66,
      "outputs": []
    },
    {
      "cell_type": "code",
      "source": [
        "df.isna().sum()"
      ],
      "metadata": {
        "colab": {
          "base_uri": "https://localhost:8080/"
        },
        "id": "M01uDucEHL0N",
        "outputId": "205b9052-ae69-423d-b64b-a4dfeb6fb6be"
      },
      "execution_count": 30,
      "outputs": [
        {
          "output_type": "execute_result",
          "data": {
            "text/plain": [
              "_unit_id                 0\n",
              "_golden                  0\n",
              "_unit_state              0\n",
              "_trusted_judgments       0\n",
              "_last_judgment_at        0\n",
              "gender                   0\n",
              "gender:confidence        0\n",
              "profile_yn               0\n",
              "profile_yn:confidence    0\n",
              "created                  0\n",
              "description              0\n",
              "fav_number               0\n",
              "link_color               0\n",
              "name                     0\n",
              "profileimage             0\n",
              "retweet_count            0\n",
              "sidebar_color            0\n",
              "text                     0\n",
              "tweet_count              0\n",
              "tweet_created            0\n",
              "tweet_id                 0\n",
              "tweet_location           0\n",
              "user_timezone            0\n",
              "dtype: int64"
            ]
          },
          "metadata": {},
          "execution_count": 30
        }
      ]
    },
    {
      "cell_type": "code",
      "source": [
        "from sklearn import preprocessing\n",
        "label_encoder = preprocessing.LabelEncoder()\n",
        "label_encoder.fit(df['_golden'])\n",
        "df['_golden'] = label_encoder.transform(df['_golden'])\n",
        "label_encoder.fit(df['_unit_state'])\n",
        "df['_unit_state'] = label_encoder.transform(df['_unit_state'])\n",
        "label_encoder.fit(df['_last_judgment_at'])\n",
        "df['_last_judgment_at'] = label_encoder.transform(df['_last_judgment_at'])\n",
        "label_encoder.fit(df['gender'])\n",
        "df['gender'] = label_encoder.transform(df['gender'])\n",
        "label_encoder.fit(df['profile_yn'])\n",
        "df['profile_yn'] = label_encoder.transform(df['profile_yn'])\n",
        "label_encoder.fit(df['created'])\n",
        "df['created'] = label_encoder.transform(df['created'])\n",
        "label_encoder.fit(df['description'])\n",
        "df['description'] = label_encoder.transform(df['description'])\n",
        "label_encoder.fit(df['link_color'])\n",
        "df['link_color'] = label_encoder.transform(df['link_color'])\n",
        "label_encoder.fit(df['name'])\n",
        "df['name'] = label_encoder.transform(df['name'])\n",
        "label_encoder.fit(df['profileimage'])\n",
        "df['profileimage'] = label_encoder.transform(df['profileimage'])\n",
        "label_encoder.fit(df['sidebar_color'])\n",
        "df['sidebar_color'] = label_encoder.transform(df['sidebar_color'])\n",
        "label_encoder.fit(df['text'])\n",
        "df['text'] = label_encoder.transform(df['text'])\n",
        "label_encoder.fit(df['tweet_created'])\n",
        "df['tweet_created'] = label_encoder.transform(df['tweet_created'])\n",
        "label_encoder.fit(df['tweet_location'])\n",
        "df['tweet_location'] = label_encoder.transform(df['tweet_location'])\n",
        "label_encoder.fit(df['user_timezone'])\n",
        "df['user_timezone'] = label_encoder.transform(df['user_timezone'])\n",
        "\n",
        "df.head()\n"
      ],
      "metadata": {
        "colab": {
          "base_uri": "https://localhost:8080/",
          "height": 255
        },
        "id": "kJsc90t9zZlq",
        "outputId": "f1d1b2d6-5c2e-48ea-d85d-0da14ab97514"
      },
      "execution_count": 67,
      "outputs": [
        {
          "output_type": "execute_result",
          "data": {
            "text/plain": [
              "    _unit_id  _golden  _unit_state  _trusted_judgments  _last_judgment_at  \\\n",
              "0  815719226        0            0                   3                101   \n",
              "1  815719227        0            0                   3                107   \n",
              "2  815719228        0            0                   3                110   \n",
              "3  815719229        0            0                   3                 87   \n",
              "4  815719230        0            0                   3                212   \n",
              "\n",
              "   gender  gender:confidence  profile_yn  profile_yn:confidence  created  ...  \\\n",
              "0       1             1.0000           0                    1.0     3517  ...   \n",
              "1       1             1.0000           0                    1.0      966  ...   \n",
              "2       1             0.6625           0                    1.0     2586  ...   \n",
              "3       1             1.0000           0                    1.0     8011  ...   \n",
              "4       0             1.0000           0                    1.0     6121  ...   \n",
              "\n",
              "    name  profileimage  retweet_count  sidebar_color   text  tweet_count  \\\n",
              "0  11254          1141              0            418   9350       110964   \n",
              "1   1460          2232              0            271  12698         7471   \n",
              "2   9852         10074              1            271  11921         5617   \n",
              "3   7946           436              0            271   6270         1693   \n",
              "4   6046          2573              0              0  10944        31462   \n",
              "\n",
              "   tweet_created      tweet_id  tweet_location  user_timezone  \n",
              "0              1  6.587300e+17            5381             46  \n",
              "1              1  6.587300e+17            2552             53  \n",
              "2              1  6.587300e+17            5012             26  \n",
              "3              1  6.587300e+17            3380            112  \n",
              "4              1  6.587300e+17            2552             53  \n",
              "\n",
              "[5 rows x 23 columns]"
            ],
            "text/html": [
              "\n",
              "  <div id=\"df-833d10dc-b228-432f-8afd-64812d4b6424\" class=\"colab-df-container\">\n",
              "    <div>\n",
              "<style scoped>\n",
              "    .dataframe tbody tr th:only-of-type {\n",
              "        vertical-align: middle;\n",
              "    }\n",
              "\n",
              "    .dataframe tbody tr th {\n",
              "        vertical-align: top;\n",
              "    }\n",
              "\n",
              "    .dataframe thead th {\n",
              "        text-align: right;\n",
              "    }\n",
              "</style>\n",
              "<table border=\"1\" class=\"dataframe\">\n",
              "  <thead>\n",
              "    <tr style=\"text-align: right;\">\n",
              "      <th></th>\n",
              "      <th>_unit_id</th>\n",
              "      <th>_golden</th>\n",
              "      <th>_unit_state</th>\n",
              "      <th>_trusted_judgments</th>\n",
              "      <th>_last_judgment_at</th>\n",
              "      <th>gender</th>\n",
              "      <th>gender:confidence</th>\n",
              "      <th>profile_yn</th>\n",
              "      <th>profile_yn:confidence</th>\n",
              "      <th>created</th>\n",
              "      <th>...</th>\n",
              "      <th>name</th>\n",
              "      <th>profileimage</th>\n",
              "      <th>retweet_count</th>\n",
              "      <th>sidebar_color</th>\n",
              "      <th>text</th>\n",
              "      <th>tweet_count</th>\n",
              "      <th>tweet_created</th>\n",
              "      <th>tweet_id</th>\n",
              "      <th>tweet_location</th>\n",
              "      <th>user_timezone</th>\n",
              "    </tr>\n",
              "  </thead>\n",
              "  <tbody>\n",
              "    <tr>\n",
              "      <th>0</th>\n",
              "      <td>815719226</td>\n",
              "      <td>0</td>\n",
              "      <td>0</td>\n",
              "      <td>3</td>\n",
              "      <td>101</td>\n",
              "      <td>1</td>\n",
              "      <td>1.0000</td>\n",
              "      <td>0</td>\n",
              "      <td>1.0</td>\n",
              "      <td>3517</td>\n",
              "      <td>...</td>\n",
              "      <td>11254</td>\n",
              "      <td>1141</td>\n",
              "      <td>0</td>\n",
              "      <td>418</td>\n",
              "      <td>9350</td>\n",
              "      <td>110964</td>\n",
              "      <td>1</td>\n",
              "      <td>6.587300e+17</td>\n",
              "      <td>5381</td>\n",
              "      <td>46</td>\n",
              "    </tr>\n",
              "    <tr>\n",
              "      <th>1</th>\n",
              "      <td>815719227</td>\n",
              "      <td>0</td>\n",
              "      <td>0</td>\n",
              "      <td>3</td>\n",
              "      <td>107</td>\n",
              "      <td>1</td>\n",
              "      <td>1.0000</td>\n",
              "      <td>0</td>\n",
              "      <td>1.0</td>\n",
              "      <td>966</td>\n",
              "      <td>...</td>\n",
              "      <td>1460</td>\n",
              "      <td>2232</td>\n",
              "      <td>0</td>\n",
              "      <td>271</td>\n",
              "      <td>12698</td>\n",
              "      <td>7471</td>\n",
              "      <td>1</td>\n",
              "      <td>6.587300e+17</td>\n",
              "      <td>2552</td>\n",
              "      <td>53</td>\n",
              "    </tr>\n",
              "    <tr>\n",
              "      <th>2</th>\n",
              "      <td>815719228</td>\n",
              "      <td>0</td>\n",
              "      <td>0</td>\n",
              "      <td>3</td>\n",
              "      <td>110</td>\n",
              "      <td>1</td>\n",
              "      <td>0.6625</td>\n",
              "      <td>0</td>\n",
              "      <td>1.0</td>\n",
              "      <td>2586</td>\n",
              "      <td>...</td>\n",
              "      <td>9852</td>\n",
              "      <td>10074</td>\n",
              "      <td>1</td>\n",
              "      <td>271</td>\n",
              "      <td>11921</td>\n",
              "      <td>5617</td>\n",
              "      <td>1</td>\n",
              "      <td>6.587300e+17</td>\n",
              "      <td>5012</td>\n",
              "      <td>26</td>\n",
              "    </tr>\n",
              "    <tr>\n",
              "      <th>3</th>\n",
              "      <td>815719229</td>\n",
              "      <td>0</td>\n",
              "      <td>0</td>\n",
              "      <td>3</td>\n",
              "      <td>87</td>\n",
              "      <td>1</td>\n",
              "      <td>1.0000</td>\n",
              "      <td>0</td>\n",
              "      <td>1.0</td>\n",
              "      <td>8011</td>\n",
              "      <td>...</td>\n",
              "      <td>7946</td>\n",
              "      <td>436</td>\n",
              "      <td>0</td>\n",
              "      <td>271</td>\n",
              "      <td>6270</td>\n",
              "      <td>1693</td>\n",
              "      <td>1</td>\n",
              "      <td>6.587300e+17</td>\n",
              "      <td>3380</td>\n",
              "      <td>112</td>\n",
              "    </tr>\n",
              "    <tr>\n",
              "      <th>4</th>\n",
              "      <td>815719230</td>\n",
              "      <td>0</td>\n",
              "      <td>0</td>\n",
              "      <td>3</td>\n",
              "      <td>212</td>\n",
              "      <td>0</td>\n",
              "      <td>1.0000</td>\n",
              "      <td>0</td>\n",
              "      <td>1.0</td>\n",
              "      <td>6121</td>\n",
              "      <td>...</td>\n",
              "      <td>6046</td>\n",
              "      <td>2573</td>\n",
              "      <td>0</td>\n",
              "      <td>0</td>\n",
              "      <td>10944</td>\n",
              "      <td>31462</td>\n",
              "      <td>1</td>\n",
              "      <td>6.587300e+17</td>\n",
              "      <td>2552</td>\n",
              "      <td>53</td>\n",
              "    </tr>\n",
              "  </tbody>\n",
              "</table>\n",
              "<p>5 rows × 23 columns</p>\n",
              "</div>\n",
              "    <div class=\"colab-df-buttons\">\n",
              "\n",
              "  <div class=\"colab-df-container\">\n",
              "    <button class=\"colab-df-convert\" onclick=\"convertToInteractive('df-833d10dc-b228-432f-8afd-64812d4b6424')\"\n",
              "            title=\"Convert this dataframe to an interactive table.\"\n",
              "            style=\"display:none;\">\n",
              "\n",
              "  <svg xmlns=\"http://www.w3.org/2000/svg\" height=\"24px\" viewBox=\"0 -960 960 960\">\n",
              "    <path d=\"M120-120v-720h720v720H120Zm60-500h600v-160H180v160Zm220 220h160v-160H400v160Zm0 220h160v-160H400v160ZM180-400h160v-160H180v160Zm440 0h160v-160H620v160ZM180-180h160v-160H180v160Zm440 0h160v-160H620v160Z\"/>\n",
              "  </svg>\n",
              "    </button>\n",
              "\n",
              "  <style>\n",
              "    .colab-df-container {\n",
              "      display:flex;\n",
              "      gap: 12px;\n",
              "    }\n",
              "\n",
              "    .colab-df-convert {\n",
              "      background-color: #E8F0FE;\n",
              "      border: none;\n",
              "      border-radius: 50%;\n",
              "      cursor: pointer;\n",
              "      display: none;\n",
              "      fill: #1967D2;\n",
              "      height: 32px;\n",
              "      padding: 0 0 0 0;\n",
              "      width: 32px;\n",
              "    }\n",
              "\n",
              "    .colab-df-convert:hover {\n",
              "      background-color: #E2EBFA;\n",
              "      box-shadow: 0px 1px 2px rgba(60, 64, 67, 0.3), 0px 1px 3px 1px rgba(60, 64, 67, 0.15);\n",
              "      fill: #174EA6;\n",
              "    }\n",
              "\n",
              "    .colab-df-buttons div {\n",
              "      margin-bottom: 4px;\n",
              "    }\n",
              "\n",
              "    [theme=dark] .colab-df-convert {\n",
              "      background-color: #3B4455;\n",
              "      fill: #D2E3FC;\n",
              "    }\n",
              "\n",
              "    [theme=dark] .colab-df-convert:hover {\n",
              "      background-color: #434B5C;\n",
              "      box-shadow: 0px 1px 3px 1px rgba(0, 0, 0, 0.15);\n",
              "      filter: drop-shadow(0px 1px 2px rgba(0, 0, 0, 0.3));\n",
              "      fill: #FFFFFF;\n",
              "    }\n",
              "  </style>\n",
              "\n",
              "    <script>\n",
              "      const buttonEl =\n",
              "        document.querySelector('#df-833d10dc-b228-432f-8afd-64812d4b6424 button.colab-df-convert');\n",
              "      buttonEl.style.display =\n",
              "        google.colab.kernel.accessAllowed ? 'block' : 'none';\n",
              "\n",
              "      async function convertToInteractive(key) {\n",
              "        const element = document.querySelector('#df-833d10dc-b228-432f-8afd-64812d4b6424');\n",
              "        const dataTable =\n",
              "          await google.colab.kernel.invokeFunction('convertToInteractive',\n",
              "                                                    [key], {});\n",
              "        if (!dataTable) return;\n",
              "\n",
              "        const docLinkHtml = 'Like what you see? Visit the ' +\n",
              "          '<a target=\"_blank\" href=https://colab.research.google.com/notebooks/data_table.ipynb>data table notebook</a>'\n",
              "          + ' to learn more about interactive tables.';\n",
              "        element.innerHTML = '';\n",
              "        dataTable['output_type'] = 'display_data';\n",
              "        await google.colab.output.renderOutput(dataTable, element);\n",
              "        const docLink = document.createElement('div');\n",
              "        docLink.innerHTML = docLinkHtml;\n",
              "        element.appendChild(docLink);\n",
              "      }\n",
              "    </script>\n",
              "  </div>\n",
              "\n",
              "\n",
              "<div id=\"df-8b61be36-29a0-48eb-81be-55e117a79736\">\n",
              "  <button class=\"colab-df-quickchart\" onclick=\"quickchart('df-8b61be36-29a0-48eb-81be-55e117a79736')\"\n",
              "            title=\"Suggest charts\"\n",
              "            style=\"display:none;\">\n",
              "\n",
              "<svg xmlns=\"http://www.w3.org/2000/svg\" height=\"24px\"viewBox=\"0 0 24 24\"\n",
              "     width=\"24px\">\n",
              "    <g>\n",
              "        <path d=\"M19 3H5c-1.1 0-2 .9-2 2v14c0 1.1.9 2 2 2h14c1.1 0 2-.9 2-2V5c0-1.1-.9-2-2-2zM9 17H7v-7h2v7zm4 0h-2V7h2v10zm4 0h-2v-4h2v4z\"/>\n",
              "    </g>\n",
              "</svg>\n",
              "  </button>\n",
              "\n",
              "<style>\n",
              "  .colab-df-quickchart {\n",
              "      --bg-color: #E8F0FE;\n",
              "      --fill-color: #1967D2;\n",
              "      --hover-bg-color: #E2EBFA;\n",
              "      --hover-fill-color: #174EA6;\n",
              "      --disabled-fill-color: #AAA;\n",
              "      --disabled-bg-color: #DDD;\n",
              "  }\n",
              "\n",
              "  [theme=dark] .colab-df-quickchart {\n",
              "      --bg-color: #3B4455;\n",
              "      --fill-color: #D2E3FC;\n",
              "      --hover-bg-color: #434B5C;\n",
              "      --hover-fill-color: #FFFFFF;\n",
              "      --disabled-bg-color: #3B4455;\n",
              "      --disabled-fill-color: #666;\n",
              "  }\n",
              "\n",
              "  .colab-df-quickchart {\n",
              "    background-color: var(--bg-color);\n",
              "    border: none;\n",
              "    border-radius: 50%;\n",
              "    cursor: pointer;\n",
              "    display: none;\n",
              "    fill: var(--fill-color);\n",
              "    height: 32px;\n",
              "    padding: 0;\n",
              "    width: 32px;\n",
              "  }\n",
              "\n",
              "  .colab-df-quickchart:hover {\n",
              "    background-color: var(--hover-bg-color);\n",
              "    box-shadow: 0 1px 2px rgba(60, 64, 67, 0.3), 0 1px 3px 1px rgba(60, 64, 67, 0.15);\n",
              "    fill: var(--button-hover-fill-color);\n",
              "  }\n",
              "\n",
              "  .colab-df-quickchart-complete:disabled,\n",
              "  .colab-df-quickchart-complete:disabled:hover {\n",
              "    background-color: var(--disabled-bg-color);\n",
              "    fill: var(--disabled-fill-color);\n",
              "    box-shadow: none;\n",
              "  }\n",
              "\n",
              "  .colab-df-spinner {\n",
              "    border: 2px solid var(--fill-color);\n",
              "    border-color: transparent;\n",
              "    border-bottom-color: var(--fill-color);\n",
              "    animation:\n",
              "      spin 1s steps(1) infinite;\n",
              "  }\n",
              "\n",
              "  @keyframes spin {\n",
              "    0% {\n",
              "      border-color: transparent;\n",
              "      border-bottom-color: var(--fill-color);\n",
              "      border-left-color: var(--fill-color);\n",
              "    }\n",
              "    20% {\n",
              "      border-color: transparent;\n",
              "      border-left-color: var(--fill-color);\n",
              "      border-top-color: var(--fill-color);\n",
              "    }\n",
              "    30% {\n",
              "      border-color: transparent;\n",
              "      border-left-color: var(--fill-color);\n",
              "      border-top-color: var(--fill-color);\n",
              "      border-right-color: var(--fill-color);\n",
              "    }\n",
              "    40% {\n",
              "      border-color: transparent;\n",
              "      border-right-color: var(--fill-color);\n",
              "      border-top-color: var(--fill-color);\n",
              "    }\n",
              "    60% {\n",
              "      border-color: transparent;\n",
              "      border-right-color: var(--fill-color);\n",
              "    }\n",
              "    80% {\n",
              "      border-color: transparent;\n",
              "      border-right-color: var(--fill-color);\n",
              "      border-bottom-color: var(--fill-color);\n",
              "    }\n",
              "    90% {\n",
              "      border-color: transparent;\n",
              "      border-bottom-color: var(--fill-color);\n",
              "    }\n",
              "  }\n",
              "</style>\n",
              "\n",
              "  <script>\n",
              "    async function quickchart(key) {\n",
              "      const quickchartButtonEl =\n",
              "        document.querySelector('#' + key + ' button');\n",
              "      quickchartButtonEl.disabled = true;  // To prevent multiple clicks.\n",
              "      quickchartButtonEl.classList.add('colab-df-spinner');\n",
              "      try {\n",
              "        const charts = await google.colab.kernel.invokeFunction(\n",
              "            'suggestCharts', [key], {});\n",
              "      } catch (error) {\n",
              "        console.error('Error during call to suggestCharts:', error);\n",
              "      }\n",
              "      quickchartButtonEl.classList.remove('colab-df-spinner');\n",
              "      quickchartButtonEl.classList.add('colab-df-quickchart-complete');\n",
              "    }\n",
              "    (() => {\n",
              "      let quickchartButtonEl =\n",
              "        document.querySelector('#df-8b61be36-29a0-48eb-81be-55e117a79736 button');\n",
              "      quickchartButtonEl.style.display =\n",
              "        google.colab.kernel.accessAllowed ? 'block' : 'none';\n",
              "    })();\n",
              "  </script>\n",
              "</div>\n",
              "    </div>\n",
              "  </div>\n"
            ],
            "application/vnd.google.colaboratory.intrinsic+json": {
              "type": "dataframe",
              "variable_name": "df"
            }
          },
          "metadata": {},
          "execution_count": 67
        }
      ]
    },
    {
      "cell_type": "markdown",
      "source": [
        "тут я закодировал не численные значения"
      ],
      "metadata": {
        "id": "JzrxPU1K7_C5"
      }
    },
    {
      "cell_type": "code",
      "source": [
        "df['profile_yn'].value_counts()\n",
        "del df['profile_yn']"
      ],
      "metadata": {
        "id": "2yq0K_tM7Xw0"
      },
      "execution_count": 68,
      "outputs": []
    },
    {
      "cell_type": "markdown",
      "source": [
        "тут в общем я заменил пустые значения на среднее"
      ],
      "metadata": {
        "id": "6qUkPUS05GKY"
      }
    },
    {
      "cell_type": "code",
      "source": [
        "import seaborn as sns\n",
        "plt.figure(figsize=(26,30), dpi= 80)\n",
        "sns.heatmap(df.corr(), xticklabels=df.corr().columns, yticklabels=df.corr().columns, cmap='RdYlGn', center=0, annot=True)\n",
        "plt.title('Correlogram', fontsize=22)\n",
        "plt.xticks(fontsize=12)\n",
        "plt.yticks(fontsize=12)\n",
        "plt.show()\n",
        "#Цмфр очень много, тяжело, удалять ничего не буду, пусть будет"
      ],
      "metadata": {
        "colab": {
          "base_uri": "https://localhost:8080/",
          "height": 1000
        },
        "id": "NH80_bWQoyWz",
        "outputId": "25953f67-6426-49dc-c262-6194ef69d222"
      },
      "execution_count": 40,
      "outputs": [
        {
          "output_type": "display_data",
          "data": {
            "text/plain": [
              "<Figure size 2080x2400 with 2 Axes>"
            ],
            "image/png": "[encoded data removed]"
          },
          "metadata": {}
        }
      ]
    },
    {
      "cell_type": "code",
      "source": [
        "df.gender.plot.box(return_type='both', figsize=(10,10))\n",
        "#Стоило ожидать подобную картинку, потому что я закодировал лэйбл энкодером"
      ],
      "metadata": {
        "colab": {
          "base_uri": "https://localhost:8080/",
          "height": 899
        },
        "id": "WUmaA_6Q5Xt5",
        "outputId": "7c7fc24e-93e0-471f-c854-416211cbb4fa"
      },
      "execution_count": 41,
      "outputs": [
        {
          "output_type": "execute_result",
          "data": {
            "text/plain": [
              "BP(ax=<Axes: >, lines={'whiskers': [<matplotlib.lines.Line2D object at 0x7eb8fcf92c20>, <matplotlib.lines.Line2D object at 0x7eb8fcf93190>], 'caps': [<matplotlib.lines.Line2D object at 0x7eb9073fe590>, <matplotlib.lines.Line2D object at 0x7eb8fcac3730>], 'boxes': [<matplotlib.lines.Line2D object at 0x7eb8fcc0ae00>], 'medians': [<matplotlib.lines.Line2D object at 0x7eb8fcac3d90>], 'fliers': [<matplotlib.lines.Line2D object at 0x7eb8fcac3910>], 'means': []})"
            ]
          },
          "metadata": {},
          "execution_count": 41
        },
        {
          "output_type": "display_data",
          "data": {
            "text/plain": [
              "<Figure size 1000x1000 with 1 Axes>"
            ],
            "image/png": "[encoded data removed]"
          },
          "metadata": {}
        }
      ]
    },
    {
      "cell_type": "code",
      "source": [
        "df['gender'].value_counts()"
      ],
      "metadata": {
        "colab": {
          "base_uri": "https://localhost:8080/"
        },
        "id": "5wvZ9eFOKhVt",
        "outputId": "4e563350-743c-4e25-d04a-b67eb7f906c4"
      },
      "execution_count": 69,
      "outputs": [
        {
          "output_type": "execute_result",
          "data": {
            "text/plain": [
              "gender\n",
              "0    6700\n",
              "1    6194\n",
              "Name: count, dtype: int64"
            ]
          },
          "metadata": {},
          "execution_count": 69
        }
      ]
    },
    {
      "cell_type": "code",
      "source": [
        "df.dtypes"
      ],
      "metadata": {
        "colab": {
          "base_uri": "https://localhost:8080/"
        },
        "id": "KZE7oMq-P6qk",
        "outputId": "42a027f2-39ed-48b8-f39a-f77d1cb984a0"
      },
      "execution_count": 77,
      "outputs": [
        {
          "output_type": "execute_result",
          "data": {
            "text/plain": [
              "_unit_id                   int64\n",
              "_golden                    int64\n",
              "_unit_state                int64\n",
              "_trusted_judgments         int64\n",
              "_last_judgment_at          int64\n",
              "gender                     int64\n",
              "gender:confidence        float64\n",
              "profile_yn:confidence    float64\n",
              "created                    int64\n",
              "description                int64\n",
              "fav_number                 int64\n",
              "link_color                 int64\n",
              "name                       int64\n",
              "profileimage               int64\n",
              "retweet_count              int64\n",
              "sidebar_color              int64\n",
              "text                       int64\n",
              "tweet_count                int64\n",
              "tweet_created              int64\n",
              "tweet_id                 float64\n",
              "tweet_location             int64\n",
              "user_timezone              int64\n",
              "dtype: object"
            ]
          },
          "metadata": {},
          "execution_count": 77
        }
      ]
    },
    {
      "cell_type": "code",
      "source": [
        "from sklearn.model_selection import train_test_split\n",
        "from sklearn.linear_model import LogisticRegression\n",
        "# Выделим вектор признаков Х и вектор ответов y\n",
        "X = df.drop(['gender'], axis=1)\n",
        "y = df['gender']\n",
        "\n",
        "# train - на тренировочные и тестовые\n",
        "X_train, X_test, y_train, y_test = train_test_split(X, y, test_size=0.2)\n",
        "\n",
        "model = LogisticRegression()\n",
        "\n",
        "\n",
        "model.fit(X_train, y_train)\n",
        "\n",
        "# тестируем, для признаков у которых нет ответов, мы предсказывает ответ\n",
        "answers_pred = model.predict(X_test)"
      ],
      "metadata": {
        "id": "vip4E_--51Pw"
      },
      "execution_count": 78,
      "outputs": []
    },
    {
      "cell_type": "code",
      "source": [
        "model.coef_\n",
        "#Коэффиценты у признаков"
      ],
      "metadata": {
        "colab": {
          "base_uri": "https://localhost:8080/"
        },
        "id": "DtFgkOCOCdFZ",
        "outputId": "59614c65-8dc3-468e-964b-e212fee8ace3"
      },
      "execution_count": 71,
      "outputs": [
        {
          "output_type": "execute_result",
          "data": {
            "text/plain": [
              "array([[-1.46965579e-28,  3.73315596e-39,  3.73315596e-39,\n",
              "         3.89809188e-37, -3.92882967e-35, -3.27067270e-37,\n",
              "        -1.83543035e-37, -2.49222629e-33, -5.25829020e-33,\n",
              "        -9.03875892e-33, -1.60060807e-33, -5.04631330e-33,\n",
              "        -9.05951297e-33,  3.04137368e-37, -5.35172445e-35,\n",
              "        -6.62520668e-33,  2.29043904e-32, -1.62601483e-36,\n",
              "        -1.18681264e-19, -1.23590503e-33, -9.24386263e-36]])"
            ]
          },
          "metadata": {},
          "execution_count": 71
        }
      ]
    },
    {
      "cell_type": "code",
      "source": [
        "model.intercept_\n",
        "#Свободный член"
      ],
      "metadata": {
        "colab": {
          "base_uri": "https://localhost:8080/"
        },
        "id": "NlXmkOoxCgv3",
        "outputId": "93b03eac-706f-465f-abe2-dfbf6fb64438"
      },
      "execution_count": 72,
      "outputs": [
        {
          "output_type": "execute_result",
          "data": {
            "text/plain": [
              "array([-1.80157524e-37])"
            ]
          },
          "metadata": {},
          "execution_count": 72
        }
      ]
    },
    {
      "cell_type": "code",
      "source": [
        "from sklearn.metrics import accuracy_score\n",
        "\n",
        "# Как оценить насколько хорошо работает ваша модель?\n",
        "\n",
        "# answers_pred - ответы которые вернула модель для X_test\n",
        "# y_test - это правильные ответы для X_test\n",
        "print(accuracy_score(y_test, answers_pred))"
      ],
      "metadata": {
        "colab": {
          "base_uri": "https://localhost:8080/"
        },
        "id": "xIguSkwk51SY",
        "outputId": "c8fc776f-4a30-4a6a-a527-62ebc66320e3"
      },
      "execution_count": 79,
      "outputs": [
        {
          "output_type": "stream",
          "name": "stdout",
          "text": [
            "0.5203567274137263\n"
          ]
        }
      ]
    },
    {
      "cell_type": "code",
      "source": [
        "from sklearn.metrics import confusion_matrix, accuracy_score, precision_score, recall_score, f1_score\n",
        "\n",
        "confusion_matrix(y_test, answers_pred)"
      ],
      "metadata": {
        "colab": {
          "base_uri": "https://localhost:8080/"
        },
        "id": "XI0q07rBBjgJ",
        "outputId": "e7e4a68a-9f12-4388-e4df-cb54c8877c9c"
      },
      "execution_count": 74,
      "outputs": [
        {
          "output_type": "execute_result",
          "data": {
            "text/plain": [
              "array([[1341,    0],\n",
              "       [1238,    0]])"
            ]
          },
          "metadata": {},
          "execution_count": 74
        }
      ]
    },
    {
      "cell_type": "code",
      "source": [
        "df_y = pd.DataFrame(y_test)\n",
        "df_y.value_counts()"
      ],
      "metadata": {
        "colab": {
          "base_uri": "https://localhost:8080/"
        },
        "id": "gbbaiRbKDJIg",
        "outputId": "b486bd68-0d13-4f9b-eff3-f061c537270b"
      },
      "execution_count": 75,
      "outputs": [
        {
          "output_type": "execute_result",
          "data": {
            "text/plain": [
              "gender\n",
              "0         1341\n",
              "1         1238\n",
              "Name: count, dtype: int64"
            ]
          },
          "metadata": {},
          "execution_count": 75
        }
      ]
    },
    {
      "cell_type": "code",
      "source": [
        "tn, fp, fn, tp = confusion_matrix(y_test, answers_pred).ravel()\n",
        "print(\"TN:\", tn)\n",
        "print(\"FP:\", fp)\n",
        "print(\"FN:\", fn)\n",
        "print(\"TP:\", tp)\n",
        "#Прикольные значения\n",
        "\n",
        "TN: 1341\n",
        "FP: 0\n",
        "\n",
        "FN: 1238\n",
        "TP: 0"
      ],
      "metadata": {
        "colab": {
          "base_uri": "https://localhost:8080/"
        },
        "id": "NdeybkojDLsQ",
        "outputId": "62d1a5ae-e2ad-40c8-bc72-97c436cb8392"
      },
      "execution_count": 76,
      "outputs": [
        {
          "output_type": "stream",
          "name": "stdout",
          "text": [
            "TN: 1341\n",
            "FP: 0\n",
            "FN: 1238\n",
            "TP: 0\n"
          ]
        }
      ]
    },
    {
      "cell_type": "code",
      "source": [
        "#accuracy:\n",
        "acc=(tp+tn)/(tp+tn+fn+fp)\n",
        "acc"
      ],
      "metadata": {
        "id": "PlipBhlclHk1",
        "outputId": "e9b25079-2715-445f-c788-ee1fb00005b4",
        "colab": {
          "base_uri": "https://localhost:8080/"
        }
      },
      "execution_count": null,
      "outputs": [
        {
          "output_type": "execute_result",
          "data": {
            "text/plain": [
              "0.5269484296238852"
            ]
          },
          "metadata": {},
          "execution_count": 201
        }
      ]
    },
    {
      "cell_type": "code",
      "source": [
        "#recall\n",
        "rec=1359/(1359+1220)\n",
        "rec"
      ],
      "metadata": {
        "id": "mh4CHPDqlZid",
        "outputId": "4d13ee0a-49e7-4d9b-cb36-69bc93681737",
        "colab": {
          "base_uri": "https://localhost:8080/"
        }
      },
      "execution_count": null,
      "outputs": [
        {
          "output_type": "execute_result",
          "data": {
            "text/plain": [
              "0.5269484296238852"
            ]
          },
          "metadata": {},
          "execution_count": 206
        }
      ]
    },
    {
      "cell_type": "code",
      "source": [
        "#precision\n",
        "pre=1359/1359\n",
        "pre"
      ],
      "metadata": {
        "id": "rJ4os37kmfaN",
        "outputId": "dcf96531-ad4a-4191-85d2-38d81a1b5b4d",
        "colab": {
          "base_uri": "https://localhost:8080/"
        }
      },
      "execution_count": null,
      "outputs": [
        {
          "output_type": "execute_result",
          "data": {
            "text/plain": [
              "1.0"
            ]
          },
          "metadata": {},
          "execution_count": 207
        }
      ]
    },
    {
      "cell_type": "markdown",
      "source": [
        "Ну модель вышла странная, впринципе пойдет"
      ],
      "metadata": {
        "id": "JkX3XA70nNtU"
      }
    }
  ]
}