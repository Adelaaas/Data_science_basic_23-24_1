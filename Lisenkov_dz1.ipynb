{
 "cells": [
  {
   "cell_type": "markdown",
   "metadata": {},
   "source": [
    "6 задача"
   ]
  },
  {
   "cell_type": "code",
   "execution_count": 1,
   "metadata": {},
   "outputs": [
    {
     "name": "stdout",
     "output_type": "stream",
     "text": [
      "1.4142135623730951\n"
     ]
    }
   ],
   "source": [
    "def distance(x1, x2, y1, y2):\n",
    "    return ((y1 - y2)**2 + (x1 - x2)**2) ** 0.5"
   ]
  },
  {
   "cell_type": "markdown",
   "metadata": {},
   "source": [
    "7 задача"
   ]
  },
  {
   "cell_type": "code",
   "execution_count": 1,
   "metadata": {},
   "outputs": [
    {
     "data": {
      "text/plain": [
       "'Winter'"
      ]
     },
     "execution_count": 1,
     "metadata": {},
     "output_type": "execute_result"
    }
   ],
   "source": [
    "def season(month):\n",
    "    s = \"\"\n",
    "    if month <= 2 or month == 12:\n",
    "        s = \"Winter\"\n",
    "    elif month > 2 and month <= 5:\n",
    "        s =\"Spring\"\n",
    "    elif month > 5 and month <= 8:\n",
    "        s = \"Summer\"\n",
    "    else:\n",
    "        s = \"Autumn\"\n",
    "    return s"
   ]
  },
  {
   "cell_type": "markdown",
   "metadata": {},
   "source": [
    "8 задача"
   ]
  },
  {
   "cell_type": "code",
   "execution_count": 2,
   "metadata": {},
   "outputs": [
    {
     "data": {
      "text/plain": [
       "True"
      ]
     },
     "execution_count": 2,
     "metadata": {},
     "output_type": "execute_result"
    }
   ],
   "source": [
    "def is_prime(n): \n",
    "    for i in range(2, n//2):\n",
    "        if n % i == 0:\n",
    "            return False\n",
    "    return True"
   ]
  },
  {
   "cell_type": "markdown",
   "metadata": {},
   "source": [
    "9 задача"
   ]
  },
  {
   "cell_type": "code",
   "execution_count": 4,
   "metadata": {},
   "outputs": [
    {
     "data": {
      "text/plain": [
       "[3, 2, 1]"
      ]
     },
     "execution_count": 4,
     "metadata": {},
     "output_type": "execute_result"
    }
   ],
   "source": [
    "def reverse_list(lst):\n",
    "    arr = []\n",
    "    for i in range(len(lst)-1, -1, -1):\n",
    "        arr.append(lst[i])\n",
    "    return(arr)"
   ]
  },
  {
   "cell_type": "markdown",
   "metadata": {},
   "source": [
    "10 задача"
   ]
  },
  {
   "cell_type": "code",
   "execution_count": 12,
   "metadata": {},
   "outputs": [
    {
     "name": "stdout",
     "output_type": "stream",
     "text": [
      "[0, 9, 2, 7, 4, 5, 6, 3, 8, 1]\n"
     ]
    }
   ],
   "source": [
    "arr = [0, 1, 2, 3, 4, 5, 6, 7, 8, 9]\n",
    "arr1 = []\n",
    "for i in range(len(arr)):\n",
    "    arr1.append(0)\n",
    "for i in range(len(arr)):\n",
    "    if i%2 == 0:\n",
    "        arr1[i] = arr[i]\n",
    "    else:\n",
    "        arr1[len(arr)-i] = arr[i]\n",
    "print(arr1)"
   ]
  },
  {
   "cell_type": "markdown",
   "metadata": {},
   "source": [
    "11 задача"
   ]
  },
  {
   "cell_type": "code",
   "execution_count": 5,
   "metadata": {},
   "outputs": [
    {
     "name": "stdout",
     "output_type": "stream",
     "text": [
      "28\n",
      "84\n",
      "98\n",
      "168\n",
      "182\n",
      "189\n",
      "238\n",
      "280\n",
      "287\n",
      "308\n",
      "378\n",
      "385\n",
      "448\n",
      "483\n"
     ]
    }
   ],
   "source": [
    "for i in range(0, 501):\n",
    "    if i%7 == 0 and \"8\" in str(i):\n",
    "        print(i)"
   ]
  },
  {
   "cell_type": "markdown",
   "metadata": {},
   "source": [
    "12 задача"
   ]
  },
  {
   "cell_type": "code",
   "execution_count": 6,
   "metadata": {},
   "outputs": [
    {
     "name": "stdout",
     "output_type": "stream",
     "text": [
      "[-15, 11]\n"
     ]
    }
   ],
   "source": [
    "def more_than_ten(lst):\n",
    "    arr = []\n",
    "    for i in range(len(lst)):\n",
    "        if abs(lst[i]) > 10:\n",
    "            arr.append(lst[i])\n",
    "    return arr"
   ]
  },
  {
   "cell_type": "markdown",
   "metadata": {},
   "source": [
    "13 задача"
   ]
  },
  {
   "cell_type": "code",
   "execution_count": 7,
   "metadata": {},
   "outputs": [
    {
     "name": "stdout",
     "output_type": "stream",
     "text": [
      "2 4 52561 105122\n",
      "2 4 52567 105134\n",
      "2 4 52571 105142\n"
     ]
    }
   ],
   "source": [
    "a = 210235\n",
    "b = 210300\n",
    "for i in range(a, b + 1):\n",
    "    c = []\n",
    "    for j in range(2, (i // 2) + 1):\n",
    "        if i % j == 0:\n",
    "            c.append(j)\n",
    "    if len(c) == 4:\n",
    "        print(c[0],c[1],c[2],c[3])"
   ]
  }
 ],
 "metadata": {
  "kernelspec": {
   "display_name": "Python 3",
   "language": "python",
   "name": "python3"
  },
  "language_info": {
   "codemirror_mode": {
    "name": "ipython",
    "version": 3
   },
   "file_extension": ".py",
   "mimetype": "text/x-python",
   "name": "python",
   "nbconvert_exporter": "python",
   "pygments_lexer": "ipython3",
   "version": "3.11.0"
  }
 },
 "nbformat": 4,
 "nbformat_minor": 2
}
