{
 "cells":[
  {
   "cell_type":"code",
   "source":[
    "import numpy as np\n",
    "import pandas as pd\n",
    "from datetime import date"
   ],
   "execution_count":43,
   "outputs":[
    
   ],
   "metadata":{
    "datalore":{
     "node_id":"SuySe5dAcrwkkMntrMF6ZZ",
     "type":"CODE",
     "hide_input_from_viewers":true,
     "hide_output_from_viewers":true
    }
   }
  },
  {
   "cell_type":"markdown",
   "source":[
    "****ЗАДАЧА 1****"
   ],
   "attachments":{
    
   },
   "metadata":{
    "datalore":{
     "node_id":"9zTeYm1KnHLEe20kxgi1al",
     "type":"MD",
     "hide_input_from_viewers":true,
     "hide_output_from_viewers":true
    }
   }
  },
  {
   "cell_type":"code",
   "source":[
    "df = pd.read_csv('weatherHistory.csv')\n",
    "print(max(df['Temperature (C)']))"
   ],
   "execution_count":3,
   "outputs":[
    {
     "name":"stdout",
     "text":[
      "39.90555555555555\n"
     ],
     "output_type":"stream"
    }
   ],
   "metadata":{
    "datalore":{
     "node_id":"na8TpWSKiyzQYWH3i5tzdt",
     "type":"CODE",
     "hide_input_from_viewers":true,
     "hide_output_from_viewers":true
    }
   }
  },
  {
   "cell_type":"code",
   "source":[
    "df['Precip Type'].value_counts()"
   ],
   "execution_count":39,
   "outputs":[
    {
     "data":{
      "text\/html":[
       "<pre>rain    85224\n",
       "snow    10712\n",
       "Name: Precip Type, dtype: int64<\/pre>"
      ]
     },
     "metadata":{
      
     },
     "output_type":"display_data"
    }
   ],
   "metadata":{
    "datalore":{
     "node_id":"7VM3rf4A7DrHjoh7cReOTG",
     "type":"CODE",
     "hide_input_from_viewers":true,
     "hide_output_from_viewers":true
    }
   }
  },
  {
   "cell_type":"code",
   "source":[
    "print(df['Temperature (C)'].groupby(df['Precip Type']).mean())"
   ],
   "execution_count":37,
   "outputs":[
    {
     "name":"stdout",
     "text":[
      "Precip Type\n",
      "rain    13.852989\n",
      "snow    -3.270885\n",
      "Name: Temperature (C), dtype: float64\n"
     ],
     "output_type":"stream"
    }
   ],
   "metadata":{
    "datalore":{
     "node_id":"JwJXjEhAUq1VoDFstAvt6s",
     "type":"CODE",
     "hide_input_from_viewers":true,
     "hide_output_from_viewers":true
    }
   }
  },
  {
   "cell_type":"code",
   "source":[
    "df[df['Temperature (C)'] > 0].shape[0]"
   ],
   "execution_count":38,
   "outputs":[
    {
     "data":{
      "text\/plain":[
       "85741"
      ]
     },
     "metadata":{
      
     },
     "output_type":"display_data"
    }
   ],
   "metadata":{
    "datalore":{
     "node_id":"ZV6w3TkbZ4TxNYLGgKp92L",
     "type":"CODE",
     "hide_input_from_viewers":true,
     "hide_output_from_viewers":true
    }
   }
  },
  {
   "cell_type":"markdown",
   "source":[
    "**ЗАДАЧА 2**"
   ],
   "attachments":{
    
   },
   "metadata":{
    "datalore":{
     "node_id":"scl69Jhbbnd0xIq19zwY41",
     "type":"MD",
     "hide_input_from_viewers":true,
     "hide_output_from_viewers":true
    }
   }
  },
  {
   "cell_type":"code",
   "source":[
    "df[\"Formatted Date\"] = pd.to_datetime(df[\"Formatted Date\"], utc=True)\n",
    "df1 = df['Temperature (C)'].groupby(df['Formatted Date'].dt.date).mean()\n",
    "df1 = df1.reset_index()\n",
    "df1.loc[df1['Formatted Date'] == date(2016, 9, 9)]"
   ],
   "execution_count":44,
   "outputs":[
    {
     "data":{
      "text\/html":[
       "<div>\n",
       "<style scoped>\n",
       "    .dataframe tbody tr th:only-of-type {\n",
       "        vertical-align: middle;\n",
       "    }\n",
       "\n",
       "    .dataframe tbody tr th {\n",
       "        vertical-align: top;\n",
       "    }\n",
       "\n",
       "    .dataframe thead th {\n",
       "        text-align: right;\n",
       "    }\n",
       "<\/style>\n",
       "<table border=\"1\" class=\"dataframe\">\n",
       "  <thead>\n",
       "    <tr style=\"text-align: right;\">\n",
       "      <th><\/th>\n",
       "      <th>Formatted Date<\/th>\n",
       "      <th>Temperature (C)<\/th>\n",
       "    <\/tr>\n",
       "  <\/thead>\n",
       "  <tbody>\n",
       "    <tr>\n",
       "      <th>3905<\/th>\n",
       "      <td>2016-09-09<\/td>\n",
       "      <td>22.730093<\/td>\n",
       "    <\/tr>\n",
       "  <\/tbody>\n",
       "<\/table>\n",
       "<\/div>"
      ]
     },
     "metadata":{
      
     },
     "output_type":"display_data"
    }
   ],
   "metadata":{
    "datalore":{
     "node_id":"mzTEJD2Y7RRbqVzGJ8pyKB",
     "type":"CODE",
     "hide_input_from_viewers":true,
     "hide_output_from_viewers":true
    }
   }
  },
  {
   "cell_type":"markdown",
   "source":[
    "**ЗАДАЧА 3**"
   ],
   "attachments":{
    
   },
   "metadata":{
    "datalore":{
     "node_id":"tHd6ZD75q6kKsHOelG1i3m",
     "type":"MD",
     "hide_input_from_viewers":true,
     "hide_output_from_viewers":true
    }
   }
  },
  {
   "cell_type":"code",
   "source":[
    "df[\"Month\"] = df[\"Formatted Date\"].dt.month\n",
    "df2 = df.groupby(['Month']).agg({'Temperature (C)': 'mean', 'Wind Speed (km\/h)': 'mean'})\n",
    "df2 = df2.reset_index()\n",
    "\n",
    "\n"
   ],
   "execution_count":61,
   "outputs":[
    {
     "data":{
      "text\/html":[
       "<div>\n",
       "<style scoped>\n",
       "    .dataframe tbody tr th:only-of-type {\n",
       "        vertical-align: middle;\n",
       "    }\n",
       "\n",
       "    .dataframe tbody tr th {\n",
       "        vertical-align: top;\n",
       "    }\n",
       "\n",
       "    .dataframe thead th {\n",
       "        text-align: right;\n",
       "    }\n",
       "<\/style>\n",
       "<table border=\"1\" class=\"dataframe\">\n",
       "  <thead>\n",
       "    <tr style=\"text-align: right;\">\n",
       "      <th><\/th>\n",
       "      <th>Month<\/th>\n",
       "      <th>Temperature (C)<\/th>\n",
       "      <th>Wind Speed (km\/h)<\/th>\n",
       "    <\/tr>\n",
       "  <\/thead>\n",
       "  <tbody>\n",
       "    <tr>\n",
       "      <th>0<\/th>\n",
       "      <td>1<\/td>\n",
       "      <td>0.815678<\/td>\n",
       "      <td>11.515865<\/td>\n",
       "    <\/tr>\n",
       "    <tr>\n",
       "      <th>1<\/th>\n",
       "      <td>2<\/td>\n",
       "      <td>2.166880<\/td>\n",
       "      <td>12.180815<\/td>\n",
       "    <\/tr>\n",
       "    <tr>\n",
       "      <th>2<\/th>\n",
       "      <td>3<\/td>\n",
       "      <td>6.914976<\/td>\n",
       "      <td>13.415825<\/td>\n",
       "    <\/tr>\n",
       "    <tr>\n",
       "      <th>3<\/th>\n",
       "      <td>4<\/td>\n",
       "      <td>12.769200<\/td>\n",
       "      <td>11.876139<\/td>\n",
       "    <\/tr>\n",
       "    <tr>\n",
       "      <th>4<\/th>\n",
       "      <td>5<\/td>\n",
       "      <td>16.874455<\/td>\n",
       "      <td>10.953186<\/td>\n",
       "    <\/tr>\n",
       "    <tr>\n",
       "      <th>5<\/th>\n",
       "      <td>6<\/td>\n",
       "      <td>20.728510<\/td>\n",
       "      <td>9.632453<\/td>\n",
       "    <\/tr>\n",
       "    <tr>\n",
       "      <th>6<\/th>\n",
       "      <td>7<\/td>\n",
       "      <td>22.965462<\/td>\n",
       "      <td>9.637124<\/td>\n",
       "    <\/tr>\n",
       "    <tr>\n",
       "      <th>7<\/th>\n",
       "      <td>8<\/td>\n",
       "      <td>22.339134<\/td>\n",
       "      <td>8.942707<\/td>\n",
       "    <\/tr>\n",
       "    <tr>\n",
       "      <th>8<\/th>\n",
       "      <td>9<\/td>\n",
       "      <td>17.503458<\/td>\n",
       "      <td>9.610204<\/td>\n",
       "    <\/tr>\n",
       "    <tr>\n",
       "      <th>9<\/th>\n",
       "      <td>10<\/td>\n",
       "      <td>11.334119<\/td>\n",
       "      <td>10.008495<\/td>\n",
       "    <\/tr>\n",
       "    <tr>\n",
       "      <th>10<\/th>\n",
       "      <td>11<\/td>\n",
       "      <td>6.587549<\/td>\n",
       "      <td>10.947953<\/td>\n",
       "    <\/tr>\n",
       "    <tr>\n",
       "      <th>11<\/th>\n",
       "      <td>12<\/td>\n",
       "      <td>1.625086<\/td>\n",
       "      <td>11.094578<\/td>\n",
       "    <\/tr>\n",
       "  <\/tbody>\n",
       "<\/table>\n",
       "<\/div>"
      ]
     },
     "metadata":{
      
     },
     "output_type":"display_data"
    }
   ],
   "metadata":{
    "datalore":{
     "node_id":"pBCzavsRTazC2Thwx2DH9d",
     "type":"CODE",
     "hide_input_from_viewers":true,
     "hide_output_from_viewers":true
    }
   }
  },
  {
   "cell_type":"code",
   "source":[
    "df"
   ],
   "execution_count":46,
   "outputs":[
    {
     "data":{
      "text\/html":[
       "<div>\n",
       "<style scoped>\n",
       "    .dataframe tbody tr th:only-of-type {\n",
       "        vertical-align: middle;\n",
       "    }\n",
       "\n",
       "    .dataframe tbody tr th {\n",
       "        vertical-align: top;\n",
       "    }\n",
       "\n",
       "    .dataframe thead th {\n",
       "        text-align: right;\n",
       "    }\n",
       "<\/style>\n",
       "<table border=\"1\" class=\"dataframe\">\n",
       "  <thead>\n",
       "    <tr style=\"text-align: right;\">\n",
       "      <th><\/th>\n",
       "      <th>Formatted Date<\/th>\n",
       "      <th>Summary<\/th>\n",
       "      <th>Precip Type<\/th>\n",
       "      <th>Temperature (C)<\/th>\n",
       "      <th>Apparent Temperature (C)<\/th>\n",
       "      <th>Humidity<\/th>\n",
       "      <th>Wind Speed (km\/h)<\/th>\n",
       "      <th>Wind Bearing (degrees)<\/th>\n",
       "      <th>Visibility (km)<\/th>\n",
       "      <th>Loud Cover<\/th>\n",
       "      <th>Pressure (millibars)<\/th>\n",
       "      <th>Daily Summary<\/th>\n",
       "    <\/tr>\n",
       "  <\/thead>\n",
       "  <tbody>\n",
       "    <tr>\n",
       "      <th>0<\/th>\n",
       "      <td>2006-03-31 22:00:00+00:00<\/td>\n",
       "      <td>Partly Cloudy<\/td>\n",
       "      <td>rain<\/td>\n",
       "      <td>9.472222<\/td>\n",
       "      <td>7.388889<\/td>\n",
       "      <td>0.89<\/td>\n",
       "      <td>14.1197<\/td>\n",
       "      <td>251.0<\/td>\n",
       "      <td>15.8263<\/td>\n",
       "      <td>0.0<\/td>\n",
       "      <td>1015.13<\/td>\n",
       "      <td>Partly cloudy throughout the day.<\/td>\n",
       "    <\/tr>\n",
       "    <tr>\n",
       "      <th>1<\/th>\n",
       "      <td>2006-03-31 23:00:00+00:00<\/td>\n",
       "      <td>Partly Cloudy<\/td>\n",
       "      <td>rain<\/td>\n",
       "      <td>9.355556<\/td>\n",
       "      <td>7.227778<\/td>\n",
       "      <td>0.86<\/td>\n",
       "      <td>14.2646<\/td>\n",
       "      <td>259.0<\/td>\n",
       "      <td>15.8263<\/td>\n",
       "      <td>0.0<\/td>\n",
       "      <td>1015.63<\/td>\n",
       "      <td>Partly cloudy throughout the day.<\/td>\n",
       "    <\/tr>\n",
       "    <tr>\n",
       "      <th>2<\/th>\n",
       "      <td>2006-04-01 00:00:00+00:00<\/td>\n",
       "      <td>Mostly Cloudy<\/td>\n",
       "      <td>rain<\/td>\n",
       "      <td>9.377778<\/td>\n",
       "      <td>9.377778<\/td>\n",
       "      <td>0.89<\/td>\n",
       "      <td>3.9284<\/td>\n",
       "      <td>204.0<\/td>\n",
       "      <td>14.9569<\/td>\n",
       "      <td>0.0<\/td>\n",
       "      <td>1015.94<\/td>\n",
       "      <td>Partly cloudy throughout the day.<\/td>\n",
       "    <\/tr>\n",
       "    <tr>\n",
       "      <th>3<\/th>\n",
       "      <td>2006-04-01 01:00:00+00:00<\/td>\n",
       "      <td>Partly Cloudy<\/td>\n",
       "      <td>rain<\/td>\n",
       "      <td>8.288889<\/td>\n",
       "      <td>5.944444<\/td>\n",
       "      <td>0.83<\/td>\n",
       "      <td>14.1036<\/td>\n",
       "      <td>269.0<\/td>\n",
       "      <td>15.8263<\/td>\n",
       "      <td>0.0<\/td>\n",
       "      <td>1016.41<\/td>\n",
       "      <td>Partly cloudy throughout the day.<\/td>\n",
       "    <\/tr>\n",
       "    <tr>\n",
       "      <th>4<\/th>\n",
       "      <td>2006-04-01 02:00:00+00:00<\/td>\n",
       "      <td>Mostly Cloudy<\/td>\n",
       "      <td>rain<\/td>\n",
       "      <td>8.755556<\/td>\n",
       "      <td>6.977778<\/td>\n",
       "      <td>0.83<\/td>\n",
       "      <td>11.0446<\/td>\n",
       "      <td>259.0<\/td>\n",
       "      <td>15.8263<\/td>\n",
       "      <td>0.0<\/td>\n",
       "      <td>1016.51<\/td>\n",
       "      <td>Partly cloudy throughout the day.<\/td>\n",
       "    <\/tr>\n",
       "    <tr>\n",
       "      <th>...<\/th>\n",
       "      <td>...<\/td>\n",
       "      <td>...<\/td>\n",
       "      <td>...<\/td>\n",
       "      <td>...<\/td>\n",
       "      <td>...<\/td>\n",
       "      <td>...<\/td>\n",
       "      <td>...<\/td>\n",
       "      <td>...<\/td>\n",
       "      <td>...<\/td>\n",
       "      <td>...<\/td>\n",
       "      <td>...<\/td>\n",
       "      <td>...<\/td>\n",
       "    <\/tr>\n",
       "    <tr>\n",
       "      <th>96448<\/th>\n",
       "      <td>2016-09-09 17:00:00+00:00<\/td>\n",
       "      <td>Partly Cloudy<\/td>\n",
       "      <td>rain<\/td>\n",
       "      <td>26.016667<\/td>\n",
       "      <td>26.016667<\/td>\n",
       "      <td>0.43<\/td>\n",
       "      <td>10.9963<\/td>\n",
       "      <td>31.0<\/td>\n",
       "      <td>16.1000<\/td>\n",
       "      <td>0.0<\/td>\n",
       "      <td>1014.36<\/td>\n",
       "      <td>Partly cloudy starting in the morning.<\/td>\n",
       "    <\/tr>\n",
       "    <tr>\n",
       "      <th>96449<\/th>\n",
       "      <td>2016-09-09 18:00:00+00:00<\/td>\n",
       "      <td>Partly Cloudy<\/td>\n",
       "      <td>rain<\/td>\n",
       "      <td>24.583333<\/td>\n",
       "      <td>24.583333<\/td>\n",
       "      <td>0.48<\/td>\n",
       "      <td>10.0947<\/td>\n",
       "      <td>20.0<\/td>\n",
       "      <td>15.5526<\/td>\n",
       "      <td>0.0<\/td>\n",
       "      <td>1015.16<\/td>\n",
       "      <td>Partly cloudy starting in the morning.<\/td>\n",
       "    <\/tr>\n",
       "    <tr>\n",
       "      <th>96450<\/th>\n",
       "      <td>2016-09-09 19:00:00+00:00<\/td>\n",
       "      <td>Partly Cloudy<\/td>\n",
       "      <td>rain<\/td>\n",
       "      <td>22.038889<\/td>\n",
       "      <td>22.038889<\/td>\n",
       "      <td>0.56<\/td>\n",
       "      <td>8.9838<\/td>\n",
       "      <td>30.0<\/td>\n",
       "      <td>16.1000<\/td>\n",
       "      <td>0.0<\/td>\n",
       "      <td>1015.66<\/td>\n",
       "      <td>Partly cloudy starting in the morning.<\/td>\n",
       "    <\/tr>\n",
       "    <tr>\n",
       "      <th>96451<\/th>\n",
       "      <td>2016-09-09 20:00:00+00:00<\/td>\n",
       "      <td>Partly Cloudy<\/td>\n",
       "      <td>rain<\/td>\n",
       "      <td>21.522222<\/td>\n",
       "      <td>21.522222<\/td>\n",
       "      <td>0.60<\/td>\n",
       "      <td>10.5294<\/td>\n",
       "      <td>20.0<\/td>\n",
       "      <td>16.1000<\/td>\n",
       "      <td>0.0<\/td>\n",
       "      <td>1015.95<\/td>\n",
       "      <td>Partly cloudy starting in the morning.<\/td>\n",
       "    <\/tr>\n",
       "    <tr>\n",
       "      <th>96452<\/th>\n",
       "      <td>2016-09-09 21:00:00+00:00<\/td>\n",
       "      <td>Partly Cloudy<\/td>\n",
       "      <td>rain<\/td>\n",
       "      <td>20.438889<\/td>\n",
       "      <td>20.438889<\/td>\n",
       "      <td>0.61<\/td>\n",
       "      <td>5.8765<\/td>\n",
       "      <td>39.0<\/td>\n",
       "      <td>15.5204<\/td>\n",
       "      <td>0.0<\/td>\n",
       "      <td>1016.16<\/td>\n",
       "      <td>Partly cloudy starting in the morning.<\/td>\n",
       "    <\/tr>\n",
       "  <\/tbody>\n",
       "<\/table>\n",
       "<p>96453 rows × 12 columns<\/p>\n",
       "<\/div>"
      ]
     },
     "metadata":{
      
     },
     "output_type":"display_data"
    }
   ],
   "metadata":{
    "datalore":{
     "node_id":"OZWSDp0awbCfCPLLawWqeJ",
     "type":"CODE",
     "hide_input_from_viewers":true,
     "hide_output_from_viewers":true
    }
   }
  }
 ],
 "metadata":{
  "kernelspec":{
   "display_name":"Python",
   "language":"python",
   "name":"python"
  },
  "datalore":{
   "computation_mode":"JUPYTER",
   "package_manager":"pip",
   "base_environment":"default",
   "packages":[
    
   ],
   "report_row_ids":[
    
   ],
   "version":3
  }
 },
 "nbformat":4,
 "nbformat_minor":4
}