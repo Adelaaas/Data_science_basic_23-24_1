{
  "nbformat": 4,
  "nbformat_minor": 0,
  "metadata": {
    "colab": {
      "provenance": []
    },
    "kernelspec": {
      "name": "python3",
      "display_name": "Python 3"
    },
    "language_info": {
      "name": "python"
    }
  },
  "cells": [
    {
      "cell_type": "code",
      "execution_count": 29,
      "metadata": {
        "colab": {
          "base_uri": "https://localhost:8080/"
        },
        "id": "APIeLGIWBzAK",
        "outputId": "7e8cd81a-8370-4fef-9f6c-5177184ea12f"
      },
      "outputs": [
        {
          "output_type": "stream",
          "name": "stdout",
          "text": [
            "39.90555555555555\n",
            "rain    85224\n",
            "snow    10712\n",
            "Name: Precip Type, dtype: int64\n",
            "85741\n"
          ]
        }
      ],
      "source": [
        "import numpy as np\n",
        "import pandas as pd\n",
        "a = pd.read_csv(\"weatherHistory.csv\")\n",
        "print(a[\"Temperature (C)\"].max())\n",
        "print(a[\"Precip Type\"].value_counts())\n",
        "print(a[a[\"Temperature (C)\"] > 0].shape[0])\n",
        "\n",
        "\n"
      ]
    },
    {
      "cell_type": "code",
      "source": [
        "import numpy as np\n",
        "import pandas as pd\n",
        "from datetime import date\n",
        "a = pd.read_csv(\"weatherHistory.csv\")\n",
        "a[\"Formatted Date\"] = pd.to_datetime(a[\"Formatted Date\"], utc=True)\n",
        "a[\"Date\"] = a[\"Formatted Date\"].dt.date\n",
        "a = a[a[\"Date\"] == date(2016,9,9)]\n",
        "print(a[\"Temperature (C)\"].mean())\n"
      ],
      "metadata": {
        "colab": {
          "base_uri": "https://localhost:8080/"
        },
        "id": "tA-BNvxZZu0A",
        "outputId": "d9f9217f-0455-4f1b-bb53-f6632c071cb0"
      },
      "execution_count": 50,
      "outputs": [
        {
          "output_type": "stream",
          "name": "stdout",
          "text": [
            "22.730092592592587\n"
          ]
        }
      ]
    },
    {
      "cell_type": "code",
      "source": [
        "import numpy as np\n",
        "import pandas as pd\n",
        "a = pd.read_csv(\"weatherHistory.csv\")"
      ],
      "metadata": {
        "id": "GLZPrYNMMF9_"
      },
      "execution_count": null,
      "outputs": []
    },
    {
      "cell_type": "code",
      "source": [
        "import numpy as np\n",
        "import pandas as pd\n",
        "a = pd.read_csv(\"weatherHistory.csv\")\n",
        "a[\"Formatted Date\"] = pd.to_datetime(a[\"Formatted Date\"], utc=True)\n",
        "a[\"Month\"] = a[\"Formatted Date\"].dt.month\n",
        "a = a[(a[\"Month\"] == 12) | (a[\"Month\"] == 1) | (a[\"Month\"] == 2) & (a[\"Precip Type\"] == \"rain\")]\n",
        "print(a[\"Humidity\"].mean())"
      ],
      "metadata": {
        "colab": {
          "base_uri": "https://localhost:8080/"
        },
        "id": "oHbL8jK-MOcw",
        "outputId": "0198f6f7-6a5d-4252-ffa7-95293c0e3fd2"
      },
      "execution_count": 10,
      "outputs": [
        {
          "output_type": "stream",
          "name": "stdout",
          "text": [
            "0.846871568673455\n"
          ]
        }
      ]
    }
  ]
}