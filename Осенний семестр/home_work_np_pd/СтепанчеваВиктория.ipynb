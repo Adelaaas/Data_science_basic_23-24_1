{
  "nbformat": 4,
  "nbformat_minor": 0,
  "metadata": {
    "colab": {
      "provenance": []
    },
    "kernelspec": {
      "name": "python3",
      "display_name": "Python 3"
    },
    "language_info": {
      "name": "python"
    }
  },
  "cells": [
    {
      "cell_type": "markdown",
      "source": [],
      "metadata": {
        "id": "niNv1uwOeRzM"
      }
    },
    {
      "cell_type": "markdown",
      "source": [
        "A. Найди ближайщего\n"
      ],
      "metadata": {
        "id": "BBBsEALReUex"
      }
    },
    {
      "cell_type": "code",
      "source": [
        "import numpy as np\n",
        "\n",
        "vv = input()\n",
        "ret = vv.split()\n",
        "dec = [int(k) for k in ret]\n",
        "\n",
        "def get_nearest(m):\n",
        "    ar = np.array(m)\n",
        "    ab = np.abs(ar).argmin()\n",
        "    return ar[ab]\n",
        "\n",
        "rez = get_nearest(dec)\n",
        "print(rez)\n"
      ],
      "metadata": {
        "id": "liwcR37keXnt"
      },
      "execution_count": null,
      "outputs": []
    },
    {
      "cell_type": "markdown",
      "source": [
        "B. Шахматная доска"
      ],
      "metadata": {
        "id": "qCVAEsZueg0N"
      }
    },
    {
      "cell_type": "code",
      "source": [
        "import numpy as np\n",
        "\n",
        "def make_chess_matrix(N):\n",
        "  x = np.zeros((N,N),dtype=int)\n",
        "  x[1::2,::2] = 1\n",
        "  x[::2,1::2] = 1\n",
        "  return x\n",
        "\n",
        "N = int(input())\n",
        "s = make_chess_matrix(N)\n",
        "print ('\\n'.join(' '.join(str(cell) for cell in row) for row in s))\n"
      ],
      "metadata": {
        "id": "iMEnBQD0el1M"
      },
      "execution_count": null,
      "outputs": []
    },
    {
      "cell_type": "markdown",
      "source": [
        "C. Нулевая колонка"
      ],
      "metadata": {
        "id": "cPIOfeQ8ex5c"
      }
    },
    {
      "cell_type": "code",
      "source": [
        "import numpy as np\n",
        "x = np.array([[0, 2, 0],\n",
        "              [0, 0, 5],\n",
        "              [0, 0, 0]])\n",
        "result = np.all((x == 0), axis=0)\n",
        "def has_zero_column(result):\n",
        "    for i in range(len(result)):\n",
        "      if result[i]:\n",
        "        return True\n",
        "      else:\n",
        "          return False\n",
        "print(has_zero_column(result))"
      ],
      "metadata": {
        "id": "uUIYnw1CeyvF"
      },
      "execution_count": null,
      "outputs": []
    },
    {
      "cell_type": "markdown",
      "source": [
        "D. Симметричная матрица"
      ],
      "metadata": {
        "id": "XJ3p4rZle28J"
      }
    },
    {
      "cell_type": "code",
      "source": [
        "import numpy as np\n",
        "with open('input.txt') as file:\n",
        "    ar = np.array([[int(digit) for digit in line.split()] for line in file])\n",
        "\n",
        "    def symetric(ar):\n",
        "          if (np.array_equal(ar, ar.T)):\n",
        "                 return True\n",
        "          else:\n",
        "                  return False\n",
        "\n",
        "a = symetric(ar)\n",
        "print(a)"
      ],
      "metadata": {
        "id": "vs4xWV2_e7EN"
      },
      "execution_count": null,
      "outputs": []
    },
    {
      "cell_type": "markdown",
      "source": [
        "E. Максимальная сумма в строке\n"
      ],
      "metadata": {
        "id": "qdvVm3ONe_7D"
      }
    },
    {
      "cell_type": "code",
      "source": [
        "import numpy as np\n",
        "with open('input.txt') as file:\n",
        "    array = np.array([[int(digit) for digit in line.split()] for line in file])\n",
        "    maxs = np.sum(array, axis=1)\n",
        "    a = np.where(maxs == np.max(maxs))[0]\n",
        "    print(*a)"
      ],
      "metadata": {
        "id": "HVi0TD8RfD65"
      },
      "execution_count": null,
      "outputs": []
    },
    {
      "cell_type": "markdown",
      "source": [
        "G. Средний балл за экзамены"
      ],
      "metadata": {
        "id": "tvbIDh2qZOTz"
      }
    },
    {
      "cell_type": "code",
      "source": [
        "import pandas as pd\n",
        "v_info = pd.read_csv(\"input.csv\")\n",
        "v1 = v_info.loc[(v_info['STD_ID']==99125) & (v_info['АТТЕСТАЦИЯ']=='Экзамен'),'АТТЕСТАЦИЯ'].count()\n",
        "v2 = v_info.loc[(v_info['STD_ID']==99125) & (v_info['АТТЕСТАЦИЯ']=='Экзамен'),'mark'].mean()\n",
        "print(v1)\n",
        "print(round(v2, 2))"
      ],
      "metadata": {
        "id": "IMJBWlgBZPcw"
      },
      "execution_count": null,
      "outputs": []
    },
    {
      "cell_type": "markdown",
      "source": [
        "F. Что мы знаем о студентах?"
      ],
      "metadata": {
        "id": "ZdIwpaLPrVhU"
      }
    },
    {
      "cell_type": "code",
      "source": [
        "# задание выполнено не до конца\n",
        "import pandas as pd\n",
        "v_info = pd.read_csv(\"input.csv\")\n",
        "v1 = len(v_info[v_info['Статус']=='СТ'])\n",
        "v2 = len(v_info[v_info['Статус']=='ВЫП'])\n",
        "print(v1)\n",
        "print(v2)\n",
        "v71 = len(v_info[v_info['Пол']=='Ж'])\n",
        "v72 = len(v_info[v_info['Пол']=='M'])\n",
        "if (v71>v72):\n",
        "  print(v71)\n",
        "else:\n",
        "  print(v72)"
      ],
      "metadata": {
        "id": "qr2jT1W6tFdz"
      },
      "execution_count": null,
      "outputs": []
    }
  ]
}