{
  "cells": [
    {
      "cell_type": "code",
      "execution_count": null,
      "metadata": {
        "colab": {
          "base_uri": "https://localhost:8080/"
        },
        "id": "bf3JRUFAWpHb",
        "outputId": "aad8893c-009f-4984-d58c-5dfce60cc891"
      },
      "outputs": [
        {
          "name": "stdout",
          "output_type": "stream",
          "text": [
            "0 6 9 -4678\n"
          ]
        },
        {
          "data": {
            "text/plain": [
              "0"
            ]
          },
          "execution_count": 1,
          "metadata": {},
          "output_type": "execute_result"
        }
      ],
      "source": [
        "#1\n",
        "import numpy as np\n",
        "def get_nearest(arr):\n",
        "  index = np.abs(arr).argmin()\n",
        "  a = arr[index]\n",
        "  return a\n",
        "arr = np.array(input().split(),int)\n",
        "get_nearest(arr)"
      ]
    },
    {
      "cell_type": "code",
      "execution_count": null,
      "metadata": {
        "colab": {
          "base_uri": "https://localhost:8080/"
        },
        "id": "8lqk_nvDW0p_",
        "outputId": "661274b6-f00a-430c-adc5-55fe62002c3a"
      },
      "outputs": [
        {
          "name": "stdout",
          "output_type": "stream",
          "text": [
            "5\n",
            "0 1 0 1 0\n",
            "1 0 1 0 1\n",
            "0 1 0 1 0\n",
            "1 0 1 0 1\n",
            "0 1 0 1 0\n"
          ]
        }
      ],
      "source": [
        "#2\n",
        "import numpy as np\n",
        "def make_chess_matrix(N):\n",
        "  a = np.zeros((N,N),int)\n",
        "  a[1::2,0::2] = 1\n",
        "  a[0::2,1::2] = 1\n",
        "  return a\n",
        "N = int(input())\n",
        "make_chess_matrix(N)\n",
        "print ('\\n'.join(' '.join(str(cell) for cell in row) for row in make_chess_matrix(N)))#я эту штуку нашел на stackoverflow, чтобы она скобки убирала"
      ]
    },
    {
      "cell_type": "code",
      "execution_count": null,
      "metadata": {
        "id": "anHhI9V6fWGZ"
      },
      "outputs": [],
      "source": [
        "#3\n",
        "import numpy as np\n",
        "def has_zero_column(a):\n",
        "    return np.any(np.all(np.array(a) == 0, axis=0))\n",
        "with open('input.txt') as file:\n",
        "    x = np.array([[int(digit) for digit in line.split()] for line in file])\n",
        "print(has_zero_column(x))"
      ]
    },
    {
      "cell_type": "code",
      "execution_count": null,
      "metadata": {
        "id": "JZbY5lLMj0Qy"
      },
      "outputs": [],
      "source": [
        "#4\n",
        "import numpy as np\n",
        "def symmetric(a):\n",
        "    return np.all(a == np.transpose(a))\n",
        "with open('input.txt') as file:\n",
        "  a = np.array([[int(digit) for digit in line.split()] for line in file])\n",
        "print(symmetric(a))"
      ]
    },
    {
      "cell_type": "code",
      "execution_count": null,
      "metadata": {
        "id": "ayJt1lfvsUu1"
      },
      "outputs": [],
      "source": [
        "#5\n",
        "import numpy as np\n",
        "def findMaxRowIndices(arr):\n",
        "    max_row_sum = np.max(arr.sum(axis=1))\n",
        "    row_indices = np.argwhere(arr.sum(axis=1) == max_row_sum)\n",
        "    return row_indices\n",
        "with open('input.txt') as file:\n",
        "    x = np.array([[int(digit) for digit in line.split()] for line in file])\n",
        "ans=np.array(findMaxRowIndices(x),int)\n",
        "print ('\\n'.join(' '.join(str(cell) for cell in row) for row in ans[0:]))"
      ]
    },
    {
      "cell_type": "code",
      "execution_count": null,
      "metadata": {},
      "outputs": [],
      "source": [
        "#6\n",
        "#Я пытался, оно не работает\n",
        "import pandas as pd\n",
        "df = pd.read_csv('input.csv')\n",
        "o=df.shape[0] \n",
        "a=df[df['Статус'] == 'Выпущен'].shape[0]\n",
        "b = df[(df['Пол'] == 'М') & (df['Статус'] != 'ВЫП')].groupby('направление (специальность)')['направление (специальность)'].count().idxmax()\n",
        "c=df[(df['Пол'] == 'Ж') & (df['Статус'] != 'ВЫП')].groupby('направление (специальность)')['направление (специальность)'].count().nlargest(1).iloc[-1]\n",
        "d=df.loc[df.isnull().any(axis=1)].index.values.tolist()[0]\n",
        "e=len(df['направление (специальность'].unique())\n",
        "if df[(df['Статус'] == 'ВЫП') and (df['Пол'].isin(['М', 'Ж']))]['Пол'].value_counts().idxmax() == 'М':\n",
        "  g = 'М'\n",
        "else:\n",
        "  g='Ж'\n",
        "print(o)\n",
        "print(a)\n",
        "print(b)\n",
        "print(c)\n",
        "print(d)\n",
        "print(e)\n",
        "print(g)"
      ]
    },
    {
      "cell_type": "code",
      "execution_count": null,
      "metadata": {},
      "outputs": [],
      "source": [
        "#7\n",
        "import pandas as pd\n",
        "df= pd.read_csv('input.csv')\n",
        "id = df[df['STD_ID'] == 99125]\n",
        "b = len(id[id['АТТЕСТАЦИЯ'] == 'Экзамен']['АТТЕСТАЦИЯ'])\n",
        "a = id[id['АТТЕСТАЦИЯ'] == 'Экзамен']['mark'].mean()\n",
        "a=round(a,2)\n",
        "print(b)\n",
        "print(a)"
      ]
    }
  ],
  "metadata": {
    "colab": {
      "provenance": []
    },
    "kernelspec": {
      "display_name": "Python 3",
      "name": "python3"
    },
    "language_info": {
      "name": "python"
    }
  },
  "nbformat": 4,
  "nbformat_minor": 0
}
