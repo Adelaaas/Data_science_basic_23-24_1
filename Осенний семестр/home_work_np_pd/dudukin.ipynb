{
 "cells": [
  {
   "cell_type": "code",
   "execution_count": null,
   "id": "initial_id",
   "metadata": {
    "collapsed": true
   },
   "outputs": [],
   "source": [
    "import numpy as np\n",
    "\n",
    "a = np.array(list(map(int, input().split())))\n",
    "\n",
    "print(a[np.abs(a).argmin()])\n",
    "# A\n"
   ]
  },
  {
   "cell_type": "code",
   "execution_count": null,
   "outputs": [],
   "source": [
    "import numpy as np\n",
    "with open('input.txt') as file:\n",
    "    x = np.array([[int(digit) for digit in line.split()] for line in file])\n",
    "    print(np.any(np.all(x == 0, axis=0)))\n",
    "# B"
   ],
   "metadata": {
    "collapsed": false
   },
   "id": "79e9dc43392b8c42"
  },
  {
   "cell_type": "code",
   "execution_count": null,
   "outputs": [],
   "source": [
    "import numpy as np\n",
    "with open('input.txt') as file:\n",
    "    x = np.array([[int(digit) for digit in line.split()] for line in file])\n",
    "    print(np.any(np.all(x == 0, axis=0)))\n",
    "# C"
   ],
   "metadata": {
    "collapsed": false
   },
   "id": "a8eec9055b6f0e"
  },
  {
   "cell_type": "code",
   "execution_count": null,
   "outputs": [],
   "source": [
    "import numpy as np\n",
    "with open('input.txt') as file:\n",
    "    x = np.array([[int(digit) for digit in line.split()] for line in file])\n",
    "    print(np.array_equal(x, x.T))\n",
    "# D"
   ],
   "metadata": {
    "collapsed": false
   },
   "id": "82941ad6045740b7"
  },
  {
   "cell_type": "code",
   "execution_count": null,
   "outputs": [],
   "source": [
    "import numpy as np\n",
    "with open('input.txt') as file:\n",
    "    x = np.array([[int(digit) for digit in line.split()] for line in file])\n",
    "    sm = np.sum(x, axis=1)\n",
    "    result = np.where(sm == np.max(sm))[0]\n",
    "    print(*result)\n",
    "# E"
   ],
   "metadata": {
    "collapsed": false
   },
   "id": "99d15bbb5b05d9c2"
  },
  {
   "cell_type": "code",
   "execution_count": null,
   "outputs": [],
   "source": [
    "import pandas as pd\n",
    "\n",
    "df = pd.read_csv('input.csv')\n",
    "\n",
    "std = df[df['STD_ID'] == 99125]\n",
    "\n",
    "ec = len(std[std['АТТЕСТАЦИЯ'] == 'Экзамен'])\n",
    "am = std[std['АТТЕСТАЦИЯ'] == 'Экзамен']['mark'].mean()\n",
    "print(ec)\n",
    "print(f\"{am:.2f}\")\n",
    "\n",
    "# G"
   ],
   "metadata": {
    "collapsed": false
   },
   "id": "63ad4ce81cb1e887"
  },
  {
   "cell_type": "code",
   "execution_count": null,
   "outputs": [],
   "source": [
    "import pandas as pd\n",
    "\n",
    "df = pd.read_csv('input.csv')\n",
    "\n",
    "ctd_data = df[df['ДИСЦИПЛИНА'] == 'Компьютерные технологии в дизайне']\n",
    "\n",
    "result_df = ctd_data.groupby(['ГОД', 'ДИСЦИПЛИНА'], as_index=False)['mark'].mean()\n",
    "result_df.to_csv('output.csv', index=False)\n",
    "\n",
    "# H"
   ],
   "metadata": {
    "collapsed": false
   },
   "id": "f74467196c806dc4"
  }
 ],
 "metadata": {
  "kernelspec": {
   "display_name": "Python 3",
   "language": "python",
   "name": "python3"
  },
  "language_info": {
   "codemirror_mode": {
    "name": "ipython",
    "version": 2
   },
   "file_extension": ".py",
   "mimetype": "text/x-python",
   "name": "python",
   "nbconvert_exporter": "python",
   "pygments_lexer": "ipython2",
   "version": "2.7.6"
  }
 },
 "nbformat": 4,
 "nbformat_minor": 5
}
