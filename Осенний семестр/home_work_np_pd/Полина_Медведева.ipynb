{
  "nbformat": 4,
  "nbformat_minor": 0,
  "metadata": {
    "colab": {
      "provenance": []
    },
    "kernelspec": {
      "name": "python3",
      "display_name": "Python 3"
    },
    "language_info": {
      "name": "python"
    }
  },
  "cells": [
    {
      "cell_type": "code",
      "execution_count": null,
      "metadata": {
        "id": "EDYh2APH0Osq"
      },
      "outputs": [],
      "source": [
        "#Задача A\n",
        "import numpy as np\n",
        "a = np.array(input().split(),int)\n",
        "\n",
        "def get_nearest(a):\n",
        "  i = np.abs(a).argmin()\n",
        "  x = a[i]\n",
        "  return x\n",
        "\n",
        "print(get_nearest(a))"
      ]
    },
    {
      "cell_type": "code",
      "source": [
        "#Задача B\n",
        "import numpy as np\n",
        "n = int(input())\n",
        "\n",
        "def make_chess_matrix(n):\n",
        "  x = np.zeros((n,n),dtype=int)\n",
        "  x[1::2,::2] = 1\n",
        "  x[::2,1::2] = 1\n",
        "  return x\n",
        "\n",
        "b = make_chess_matrix(n)\n",
        "print ('\\n'.join(' '.join(str(cell) for cell in row) for row in b))"
      ],
      "metadata": {
        "id": "U7E-a2NA0Td9"
      },
      "execution_count": null,
      "outputs": []
    },
    {
      "cell_type": "code",
      "source": [
        "#Задача C\n",
        "import numpy as np\n",
        "x = np.array([[0, 2, 0],\n",
        "              [0, 0, 5],\n",
        "              [0, 0, 0]])\n",
        "result = np.all((x == 0), axis=0)\n",
        "\n",
        "def has_zero_column(result):\n",
        "    for i in range(len(result)):\n",
        "      if result[i]:\n",
        "        return True\n",
        "      else:\n",
        "          return False\n",
        "\n",
        "print(has_zero_column(result))"
      ],
      "metadata": {
        "id": "i2T23kKr0T-r"
      },
      "execution_count": null,
      "outputs": []
    },
    {
      "cell_type": "code",
      "source": [
        "#Задача D\n",
        "import numpy as np\n",
        "with open('input.txt') as file:\n",
        "    x = np.array([[int(digit) for digit in line.split()] for line in file])\n",
        "\n",
        "    def symetric(x):\n",
        "      if (np.array_equal(x, x.T)):\n",
        "         return True\n",
        "      else:\n",
        "          return False\n",
        "\n",
        "a = symetric(x)\n",
        "print(a)\n"
      ],
      "metadata": {
        "id": "VTT1sWtA0Ubf"
      },
      "execution_count": null,
      "outputs": []
    },
    {
      "cell_type": "code",
      "source": [
        "#Задача E\n",
        "import numpy as np\n",
        "with open('input.txt') as file:\n",
        "    x = np.array([[int(digit) for digit in line.split()] for line in file])\n",
        "    a = np.sum(x, axis=1)\n",
        "    ans = np.where(a == np.max(a))[0]\n",
        "    print(*ans)"
      ],
      "metadata": {
        "id": "IdFFQvxM0Ux2"
      },
      "execution_count": null,
      "outputs": []
    },
    {
      "cell_type": "code",
      "source": [
        "#Задача G\n",
        "import pandas as pd\n",
        "a = pd.read_csv('input.csv')\n",
        "\n",
        "n = a[a['STD_ID'] == 99125]\n",
        "\n",
        "print(len(n[n['АТТЕСТАЦИЯ'] == 'Экзамен']))\n",
        "print(f\"{n[n['АТТЕСТАЦИЯ'] == 'Экзамен']['mark'].mean():.2f}\")"
      ],
      "metadata": {
        "id": "zVnn4was0VHw"
      },
      "execution_count": null,
      "outputs": []
    }
  ]
}