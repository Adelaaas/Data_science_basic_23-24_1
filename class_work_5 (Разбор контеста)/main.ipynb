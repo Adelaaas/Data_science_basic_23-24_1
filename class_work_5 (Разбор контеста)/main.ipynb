{
 "cells": [
  {
   "cell_type": "code",
   "execution_count": 43,
   "id": "initial_id",
   "metadata": {
    "collapsed": true,
    "ExecuteTime": {
     "end_time": "2023-11-27T15:45:36.404662021Z",
     "start_time": "2023-11-27T15:45:36.362138972Z"
    }
   },
   "outputs": [],
   "source": [
    "import pandas as pd"
   ]
  },
  {
   "cell_type": "code",
   "execution_count": 44,
   "outputs": [
    {
     "name": "stdout",
     "output_type": "stream",
     "text": [
      "39.90555555555555\n"
     ]
    }
   ],
   "source": [
    "df = pd.read_csv('weatherHistory.csv')\n",
    "print(df['Temperature (C)'].max())"
   ],
   "metadata": {
    "collapsed": false,
    "ExecuteTime": {
     "end_time": "2023-11-27T15:45:36.559593389Z",
     "start_time": "2023-11-27T15:45:36.404480854Z"
    }
   },
   "id": "37d495ee069b279b"
  },
  {
   "cell_type": "code",
   "execution_count": 45,
   "outputs": [
    {
     "name": "stdout",
     "output_type": "stream",
     "text": [
      "Precip Type\n",
      "rain    85224\n",
      "snow    10712\n",
      "Name: count, dtype: int64\n"
     ]
    }
   ],
   "source": [
    "df = pd.read_csv('weatherHistory.csv')\n",
    "print(df['Precip Type'].value_counts())"
   ],
   "metadata": {
    "collapsed": false,
    "ExecuteTime": {
     "end_time": "2023-11-27T15:45:36.714109484Z",
     "start_time": "2023-11-27T15:45:36.558534044Z"
    }
   },
   "id": "7a799894e2bf59ea"
  },
  {
   "cell_type": "code",
   "execution_count": 46,
   "outputs": [
    {
     "name": "stdout",
     "output_type": "stream",
     "text": [
      "rain Precip Type\n",
      "rain    13.852989\n",
      "snow    -3.270885\n",
      "Name: Temperature (C), dtype: float64\n"
     ]
    }
   ],
   "source": [
    "df = pd.read_csv('weatherHistory.csv')\n",
    "print('rain', df.groupby('Precip Type')['Temperature (C)'].mean())"
   ],
   "metadata": {
    "collapsed": false,
    "ExecuteTime": {
     "end_time": "2023-11-27T15:45:36.870675336Z",
     "start_time": "2023-11-27T15:45:36.752180253Z"
    }
   },
   "id": "6297190b7e47c00e"
  },
  {
   "cell_type": "code",
   "execution_count": 47,
   "outputs": [
    {
     "name": "stdout",
     "output_type": "stream",
     "text": [
      "85741\n"
     ]
    }
   ],
   "source": [
    "df = pd.read_csv('weatherHistory.csv')\n",
    "print(len(df[df['Temperature (C)'] > 0]))"
   ],
   "metadata": {
    "collapsed": false,
    "ExecuteTime": {
     "end_time": "2023-11-27T15:45:37.026061996Z",
     "start_time": "2023-11-27T15:45:36.867563021Z"
    }
   },
   "id": "3797180ee42e5e3"
  },
  {
   "cell_type": "code",
   "execution_count": 48,
   "outputs": [
    {
     "name": "stdout",
     "output_type": "stream",
     "text": [
      "22.730092592592587\n"
     ]
    }
   ],
   "source": [
    "df = pd.read_csv('weatherHistory.csv')\n",
    "df[\"Formatted Date\"] = pd.to_datetime(df[\"Formatted Date\"], utc=True)\n",
    "df[\"Formatted Date\"] = df['Formatted Date'].dt.date\n",
    "print(df[df[\"Formatted Date\"] == pd.to_datetime('2016-09-09', utc=True).date()]['Temperature (C)'].mean())"
   ],
   "metadata": {
    "collapsed": false,
    "ExecuteTime": {
     "end_time": "2023-11-27T15:45:37.774861405Z",
     "start_time": "2023-11-27T15:45:37.019131067Z"
    }
   },
   "id": "c22528905bb663b0"
  },
  {
   "cell_type": "code",
   "execution_count": 49,
   "outputs": [
    {
     "name": "stdout",
     "output_type": "stream",
     "text": [
      "leto Wind Speed (km/h)     9.281421\n",
      "Temperature (C)      21.548203\n",
      "dtype: float64\n",
      "\n",
      "osen Wind Speed (km/h)    10.186902\n",
      "Temperature (C)      11.803164\n",
      "dtype: float64\n",
      "\n",
      "zima Wind Speed (km/h)    11.579451\n",
      "Temperature (C)       1.516818\n",
      "dtype: float64\n",
      "\n",
      "vesna Wind Speed (km/h)    12.083951\n",
      "Temperature (C)      12.179874\n",
      "dtype: float64\n"
     ]
    }
   ],
   "source": [
    "df = pd.read_csv('weatherHistory.csv')\n",
    "df[\"Formatted Date\"] = pd.to_datetime(df[\"Formatted Date\"], utc=True)\n",
    "print('leto',\n",
    "      df[df[\"Formatted Date\"].dt.month.isin([6, 6, 8])].agg({'Wind Speed (km/h)': 'mean', \"Temperature (C)\": \"mean\"}))\n",
    "print()\n",
    "print('osen',\n",
    "      df[df[\"Formatted Date\"].dt.month.isin([9, 10, 11])].agg({'Wind Speed (km/h)': 'mean', \"Temperature (C)\": \"mean\"}))\n",
    "print()\n",
    "print('zima',\n",
    "      df[df[\"Formatted Date\"].dt.month.isin([1, 2, 12])].agg({'Wind Speed (km/h)': 'mean', \"Temperature (C)\": \"mean\"}))\n",
    "print()\n",
    "print('vesna',\n",
    "      df[df[\"Formatted Date\"].dt.month.isin([3, 4, 5])].agg({'Wind Speed (km/h)': 'mean', \"Temperature (C)\": \"mean\"}))"
   ],
   "metadata": {
    "collapsed": false,
    "ExecuteTime": {
     "end_time": "2023-11-27T15:45:38.498184433Z",
     "start_time": "2023-11-27T15:45:37.769937001Z"
    }
   },
   "id": "ab4f2a3b4d6b797f"
  },
  {
   "cell_type": "code",
   "execution_count": 50,
   "outputs": [
    {
     "name": "stdout",
     "output_type": "stream",
     "text": [
      "Humidity    0.845784\n",
      "dtype: float64\n"
     ]
    }
   ],
   "source": [
    "df = pd.read_csv('weatherHistory.csv')\n",
    "df[\"Formatted Date\"] = pd.to_datetime(df[\"Formatted Date\"], utc=True)\n",
    "print(df[df[\"Formatted Date\"].dt.month.isin([1, 2, 12])].agg({\"Humidity\": \"mean\"}))"
   ],
   "metadata": {
    "collapsed": false,
    "ExecuteTime": {
     "end_time": "2023-11-27T15:45:39.216702136Z",
     "start_time": "2023-11-27T15:45:38.501447604Z"
    }
   },
   "id": "b42f54c648d33de1"
  }
 ],
 "metadata": {
  "kernelspec": {
   "display_name": "Python 3",
   "language": "python",
   "name": "python3"
  },
  "language_info": {
   "codemirror_mode": {
    "name": "ipython",
    "version": 2
   },
   "file_extension": ".py",
   "mimetype": "text/x-python",
   "name": "python",
   "nbconvert_exporter": "python",
   "pygments_lexer": "ipython2",
   "version": "2.7.6"
  }
 },
 "nbformat": 4,
 "nbformat_minor": 5
}
