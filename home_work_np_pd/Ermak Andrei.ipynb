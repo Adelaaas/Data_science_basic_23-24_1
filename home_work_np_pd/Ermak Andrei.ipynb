{
  "nbformat": 4,
  "nbformat_minor": 0,
  "metadata": {
    "colab": {
      "provenance": []
    },
    "kernelspec": {
      "name": "python3",
      "display_name": "Python 3"
    },
    "language_info": {
      "name": "python"
    }
  },
  "cells": [
    {
      "cell_type": "markdown",
      "source": [
        "Контест: Numpy и Pandas\n",
        "\n",
        "№1 Найди ближайшего"
      ],
      "metadata": {
        "id": "9PBo84ipgeDm"
      }
    },
    {
      "cell_type": "code",
      "source": [
        "from numpy import *\n",
        "def get_nearest(a):\n",
        "    a = array(a, int)\n",
        "    b = where(a<0, a*-1, a)\n",
        "    print(a[b.argmin()])\n",
        "\n",
        "a = input()\n",
        "a = a.split()\n",
        "get_nearest(a)"
      ],
      "metadata": {
        "id": "8q6ZgUmngstV"
      },
      "execution_count": null,
      "outputs": []
    },
    {
      "cell_type": "markdown",
      "source": [
        "№2 Шахматная доска"
      ],
      "metadata": {
        "id": "Vrk06bh3gvnK"
      }
    },
    {
      "cell_type": "code",
      "source": [
        "from numpy import *\n",
        "def make_chess_matrix(n):\n",
        "    a = zeros((n, n), int)\n",
        "    a[1::2,::2] = 1\n",
        "    a[::2,1::2] = 1\n",
        "    print('\\n'.join(' '.join(str(cell) for cell in row) for row in a))\n",
        "n = int(input())\n",
        "make_chess_matrix(n)"
      ],
      "metadata": {
        "id": "LxIhUW7fgyqC"
      },
      "execution_count": null,
      "outputs": []
    },
    {
      "cell_type": "markdown",
      "source": [
        "№3 Нулевая колонка"
      ],
      "metadata": {
        "id": "qqhS9AKSg521"
      }
    },
    {
      "cell_type": "code",
      "source": [
        "from numpy import *\n",
        "def has_zero_column(a):\n",
        "    b = a.T\n",
        "    c = where(b==0, True, False)\n",
        "    f = 0\n",
        "    for x in c:\n",
        "        if bool(x.prod()) == True:\n",
        "            f = 1\n",
        "            break\n",
        "    if f == 1:\n",
        "        print(\"True\")\n",
        "    else:\n",
        "        print(\"False\")\n",
        "with open('input.txt') as file:\n",
        "        a = array([[int(digit) for digit in line.split()] for line in file])\n",
        "has_zero_column(a)"
      ],
      "metadata": {
        "id": "PcTFDlitg9UA"
      },
      "execution_count": null,
      "outputs": []
    },
    {
      "cell_type": "markdown",
      "source": [
        "№4 Симметричная матрица"
      ],
      "metadata": {
        "id": "ZVmeOye0hCfo"
      }
    },
    {
      "cell_type": "code",
      "source": [
        "from numpy import *\n",
        "def symetric(a):\n",
        "\tb = a.T\n",
        "\ta = a.flatten()\n",
        "\tb = b.flatten()\n",
        "\tc = where(a == b, 0, -1)\n",
        "\tif c.sum() == 0:\n",
        "\t    print(\"True\")\n",
        "\telse:\n",
        "\t    print(\"False\")\n",
        "with open('input.txt') as file:\n",
        "\ta = array([[int(digit) for digit in line.split()] for line in file])\n",
        "symetric(a)\n"
      ],
      "metadata": {
        "id": "-v2xnIY2hFzA"
      },
      "execution_count": null,
      "outputs": []
    },
    {
      "cell_type": "markdown",
      "source": [
        "№5 Максимальная сумма в строке"
      ],
      "metadata": {
        "id": "JAbCx2MvhJOU"
      }
    },
    {
      "cell_type": "code",
      "source": [
        "from numpy import *\n",
        "with open('input.txt') as file:\n",
        "        a = array([[int(digit) for digit in line.split()] for line in file])\n",
        "b = array([], int)\n",
        "for x in a:\n",
        "    c = array([x.sum()])\n",
        "    b = concatenate((b, c))\n",
        "i = arange(a.shape[0])\n",
        "m = b.max()\n",
        "d = where(b == m, i, -1)\n",
        "e = array([], int)\n",
        "for x in d:\n",
        "    if x >= 0:\n",
        "        z = array([x])\n",
        "        e = concatenate((e, z))\n",
        "print(' '.join(map(str, e)))"
      ],
      "metadata": {
        "id": "rIQTlB9shLKi"
      },
      "execution_count": null,
      "outputs": []
    },
    {
      "cell_type": "markdown",
      "source": [
        "№6 Что мы знаем о студентах? (не работает)"
      ],
      "metadata": {
        "id": "kdKOaYD-hQmx"
      }
    },
    {
      "cell_type": "code",
      "source": [
        "from numpy import *\n",
        "from pandas import *\n",
        "a = read_csv(\"input.csv\")\n",
        "b = a[a[\"Статус\"]==\"СТ\"]\n",
        "b = b.shape\n",
        "b = b[0]\n",
        "print(b)\n",
        "c = a[a[\"Статус\"] == \"ВЫП\"]\n",
        "c = c.shape\n",
        "c = c[0]\n",
        "print(c)\n",
        "d = a[a[\"Статус\"] == \"СТ\"]\n",
        "d = d[d[\"Пол\"] == \"М\"]\n",
        "d = d[\"направление (специальность)\"]\n",
        "d = d.value_counts()\n",
        "i = d.index\n",
        "print(i[d.argmax()])\n",
        "e = a[a[\"Статус\"] == \"СТ\"]\n",
        "e = e[e[\"Пол\"] == \"Ж\"]\n",
        "e = e[\"направление (специальность)\"]\n",
        "e = e.value_counts()\n",
        "i = e.index\n",
        "print(i[e.argmin()])\n",
        "f = a.isnull()\n",
        "f = f[(f[\"Пол\"] == True) & (f[\"Образование\"] == True)]\n",
        "f = f.index[0]\n",
        "print(a.iloc[f][\"STD_ID\"])\n",
        "g = a[\"направление (специальность)\"]\n",
        "g = len(g.unique())\n",
        "print(g-1) #так как одно из \"направлений\" - это NaN\n",
        "h = a[a[\"Статус\"] == \"ВЫП\"]\n",
        "h = h[\"Пол\"]\n",
        "h = h.value_counts()\n",
        "if h[\"М\"] > h[\"Ж\"]:\n",
        "    print(\"М\")\n",
        "else:\n",
        "    print(\"Ж\")"
      ],
      "metadata": {
        "id": "pT-C_2wHhTi1"
      },
      "execution_count": null,
      "outputs": []
    },
    {
      "cell_type": "markdown",
      "source": [
        "№7 Средний балл за экзамены"
      ],
      "metadata": {
        "id": "_egfxh0bhcmd"
      }
    },
    {
      "cell_type": "code",
      "source": [
        "from numpy import *\n",
        "from pandas import *\n",
        "a = read_csv(\"input.csv\")\n",
        "a = a[(a[\"STD_ID\"]==99125) & (a[\"АТТЕСТАЦИЯ\"] == \"Экзамен\")]\n",
        "b = a.shape\n",
        "b = b[0]\n",
        "print(b)\n",
        "c = a[\"mark\"]\n",
        "print(round(c.mean(), 2))\n"
      ],
      "metadata": {
        "id": "yEclalURhe3D"
      },
      "execution_count": null,
      "outputs": []
    }
  ]
}