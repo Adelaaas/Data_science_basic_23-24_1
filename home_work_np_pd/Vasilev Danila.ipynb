{
  "nbformat": 4,
  "nbformat_minor": 0,
  "metadata": {
    "colab": {
      "provenance": []
    },
    "kernelspec": {
      "name": "python3",
      "display_name": "Python 3"
    },
    "language_info": {
      "name": "python"
    }
  },
  "cells": [
    {
      "cell_type": "code",
      "execution_count": null,
      "metadata": {
        "colab": {
          "base_uri": "https://localhost:8080/"
        },
        "id": "bf3JRUFAWpHb",
        "outputId": "aad8893c-009f-4984-d58c-5dfce60cc891"
      },
      "outputs": [
        {
          "name": "stdout",
          "output_type": "stream",
          "text": [
            "0 6 9 -4678\n"
          ]
        },
        {
          "output_type": "execute_result",
          "data": {
            "text/plain": [
              "0"
            ]
          },
          "metadata": {},
          "execution_count": 1
        }
      ],
      "source": [
        "#1\n",
        "import numpy as np\n",
        "def get_nearest(arr):\n",
        "  index = np.abs(arr).argmin()\n",
        "  a = arr[index]\n",
        "  return a\n",
        "arr = np.array(input().split(),int)\n",
        "get_nearest(arr)"
      ]
    },
    {
      "cell_type": "code",
      "source": [
        "#2\n",
        "import numpy as np\n",
        "def make_chess_matrix(N):\n",
        "  a = np.zeros((N,N),int)\n",
        "  a[1::2,0::2] = 1\n",
        "  a[0::2,1::2] = 1\n",
        "  return a\n",
        "N = int(input())\n",
        "make_chess_matrix(N)\n",
        "print ('\\n'.join(' '.join(str(cell) for cell in row) for row in make_chess_matrix(N)))#я эту штуку нашел на stackoverflow, чтобы она скобки убирала"
      ],
      "metadata": {
        "colab": {
          "base_uri": "https://localhost:8080/"
        },
        "id": "8lqk_nvDW0p_",
        "outputId": "661274b6-f00a-430c-adc5-55fe62002c3a"
      },
      "execution_count": null,
      "outputs": [
        {
          "output_type": "stream",
          "name": "stdout",
          "text": [
            "5\n",
            "0 1 0 1 0\n",
            "1 0 1 0 1\n",
            "0 1 0 1 0\n",
            "1 0 1 0 1\n",
            "0 1 0 1 0\n"
          ]
        }
      ]
    },
    {
      "cell_type": "code",
      "source": [
        "#3\n",
        "import numpy as np\n",
        "def has_zero_column(a):\n",
        "    return np.any(np.all(np.array(a) == 0, axis=0))\n",
        "with open('input.txt') as file:\n",
        "    x = np.array([[int(digit) for digit in line.split()] for line in file])\n",
        "print(has_zero_column(x))"
      ],
      "metadata": {
        "id": "anHhI9V6fWGZ"
      },
      "execution_count": null,
      "outputs": []
    },
    {
      "cell_type": "code",
      "source": [
        "#4\n",
        "import numpy as np\n",
        "def symmetric(a):\n",
        "    return np.all(a == np.transpose(a))\n",
        "with open('input.txt') as file:\n",
        "  a = np.array([[int(digit) for digit in line.split()] for line in file])\n",
        "print(symmetric(a))"
      ],
      "metadata": {
        "id": "JZbY5lLMj0Qy"
      },
      "execution_count": null,
      "outputs": []
    },
    {
      "cell_type": "code",
      "source": [
        "#5\n",
        "import numpy as np\n",
        "def findMaxRowIndices(arr):\n",
        "    max_row_sum = np.max(arr.sum(axis=1))\n",
        "    row_indices = np.argwhere(arr.sum(axis=1) == max_row_sum)\n",
        "    return row_indices\n",
        "with open('input.txt') as file:\n",
        "    x = np.array([[int(digit) for digit in line.split()] for line in file])\n",
        "ans=np.array(findMaxRowIndices(x),int)\n",
        "print ('\\n'.join(' '.join(str(cell) for cell in row) for row in ans[0:]))"
      ],
      "metadata": {
        "id": "ayJt1lfvsUu1"
      },
      "execution_count": null,
      "outputs": []
    }
  ]
}