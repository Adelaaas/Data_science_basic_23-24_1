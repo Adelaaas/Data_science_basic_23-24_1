{
  "nbformat": 4,
  "nbformat_minor": 0,
  "metadata": {
    "colab": {
      "provenance": []
    },
    "kernelspec": {
      "name": "python3",
      "display_name": "Python 3"
    },
    "language_info": {
      "name": "python"
    }
  },
  "cells": [
    {
      "cell_type": "markdown",
      "source": [
        "A"
      ],
      "metadata": {
        "id": "I9DL015W1jNE"
      }
    },
    {
      "cell_type": "code",
      "source": [
        "import numpy as np\n",
        "\n",
        "inp1 = input()\n",
        "n_str = inp1.split()\n",
        "array = [int(n) for n in n_str]\n",
        "\n",
        "def get_nearest(arr):\n",
        "    np_arr = np.array(arr)\n",
        "    sam_bl = np.abs(np_arr).argmin()\n",
        "    return np_arr[sam_bl]\n",
        "\n",
        "ans = get_nearest(array)\n",
        "print(ans)"
      ],
      "metadata": {
        "id": "rfLpKB8f1odT"
      },
      "execution_count": null,
      "outputs": []
    },
    {
      "cell_type": "markdown",
      "source": [
        "B"
      ],
      "metadata": {
        "id": "Ps_czESB1t5O"
      }
    },
    {
      "cell_type": "markdown",
      "source": [
        "import numpy as np\n",
        "\n",
        "def make_chess_matrix(n):\n",
        "    chess_matrix = np.ones((n, n), dtype=int)\n",
        "    chess_matrix[::2, ::2] = 0\n",
        "    chess_matrix[1::2, 1::2] = 0\n",
        "    return chess_matrix\n",
        "\n",
        "n = int(input())\n",
        "ans = make_chess_matrix(n)\n",
        "ans1 = \"\"\n",
        "for i in ans:\n",
        "    print(*i)"
      ],
      "metadata": {
        "id": "HVzgMokG1ux7"
      }
    },
    {
      "cell_type": "markdown",
      "source": [
        "C"
      ],
      "metadata": {
        "id": "EWtfzubY1zHt"
      }
    },
    {
      "cell_type": "code",
      "source": [
        "import numpy as np\n",
        "\n",
        "def has_zero_column(array):\n",
        "    np_array = np.array(array)\n",
        "    r = np.any(np.all(np_array == 0, axis=0))\n",
        "    return r\n",
        "\n",
        "with open('input.txt') as file:\n",
        "    inp = np.array([[int(digit) for digit in line.split()] for line in file])\n",
        "\n",
        "ans = has_zero_column(inp)\n",
        "print(ans)"
      ],
      "metadata": {
        "id": "grfgS4Wd10RQ"
      },
      "execution_count": null,
      "outputs": []
    },
    {
      "cell_type": "markdown",
      "source": [
        "D"
      ],
      "metadata": {
        "id": "AnkBEncC15iT"
      }
    },
    {
      "cell_type": "code",
      "source": [
        "import numpy as np\n",
        "\n",
        "def symmetric(array):\n",
        "    np_array = np.array(array)\n",
        "    result = np.array_equal(np_array, np_array.T)\n",
        "\n",
        "    return result\n",
        "\n",
        "with open('input.txt') as file:\n",
        "    inp_array = np.array([[int(digit) for digit in line.split()] for line in file])\n",
        "\n",
        "ans = symmetric(inp_array)\n",
        "print(ans)"
      ],
      "metadata": {
        "id": "jTqs7fYO17Ke"
      },
      "execution_count": null,
      "outputs": []
    },
    {
      "cell_type": "markdown",
      "source": [
        "E"
      ],
      "metadata": {
        "id": "E7sHuNTy2BG_"
      }
    },
    {
      "cell_type": "code",
      "source": [
        "import numpy as np\n",
        "\n",
        "def max_sum(array):\n",
        "    np_array = np.array(array)\n",
        "    max_sum1 = np.argmax(np.sum(np_array, axis=1))\n",
        "    max_sum_ans = np.where(np.sum(np_array, axis=1) == np.max(np.sum(np_array, axis=1)))[0]\n",
        "    return max_sum_ans\n",
        "\n",
        "with open('input.txt') as file:\n",
        "    input_array = np.array([[int(digit) for digit in line.split()] for line in file])\n",
        "\n",
        "# input_array = [[1, 2, 3, 4, 5], [2, 4346, 121, 5, 1], [27, 992, 176, 0, -8], [726712, 9, 0, -1, -1]]\n",
        "\n",
        "ans = max_sum(input_array)\n",
        "print(*ans)"
      ],
      "metadata": {
        "id": "STO_LfWz2CZr"
      },
      "execution_count": null,
      "outputs": []
    },
    {
      "cell_type": "markdown",
      "source": [
        "F (я пытался)"
      ],
      "metadata": {
        "id": "U-Q6K_C42G8N"
      }
    },
    {
      "cell_type": "code",
      "source": [
        "import pandas as pd\n",
        "import numpy as np\n",
        "\n",
        "inp = pd.read_csv('input.csv')\n",
        "\n",
        "l1 = len(np.where(inp == NaN)[0])\n",
        "print(l1)\n",
        "\n",
        "l2 = len(np.where(inp != NaN)[0])\n",
        "print(l2)"
      ],
      "metadata": {
        "id": "u-rML-6-2gqE"
      },
      "execution_count": null,
      "outputs": []
    },
    {
      "cell_type": "markdown",
      "source": [
        "G"
      ],
      "metadata": {
        "id": "Vtar8Jad2dmL"
      }
    },
    {
      "cell_type": "code",
      "source": [
        "import pandas as pd\n",
        "\n",
        "fiel = pd.read_csv('input.csv')\n",
        "\n",
        "ID99125 = fiel[fiel['STD_ID'] == 99125]\n",
        "ekz = len(ID99125[ID99125['АТТЕСТАЦИЯ'] == 'Экзамен']['АТТЕСТАЦИЯ'])\n",
        "sr = ID99125[ID99125['АТТЕСТАЦИЯ'] == 'Экзамен']['mark'].mean()\n",
        "\n",
        "print(ekz)\n",
        "print(round(sr, 2))"
      ],
      "metadata": {
        "id": "iu5gF6CE2n8N"
      },
      "execution_count": null,
      "outputs": []
    }
  ]
}