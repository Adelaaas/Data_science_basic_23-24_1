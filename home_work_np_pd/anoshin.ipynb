{
 "cells": [
  {
   "cell_type": "code",
   "execution_count": 1,
   "id": "initial_id",
   "metadata": {
    "collapsed": true,
    "ExecuteTime": {
     "end_time": "2023-11-17T09:37:47.152521501Z",
     "start_time": "2023-11-17T09:37:46.923397167Z"
    }
   },
   "outputs": [],
   "source": [
    "import numpy as np\n",
    "import pandas as pd"
   ]
  },
  {
   "cell_type": "code",
   "execution_count": 4,
   "outputs": [
    {
     "ename": "ValueError",
     "evalue": "attempt to get argmin of an empty sequence",
     "output_type": "error",
     "traceback": [
      "\u001B[0;31m---------------------------------------------------------------------------\u001B[0m",
      "\u001B[0;31mValueError\u001B[0m                                Traceback (most recent call last)",
      "Cell \u001B[0;32mIn[4], line 7\u001B[0m\n\u001B[1;32m      5\u001B[0m s \u001B[38;5;241m=\u001B[39m \u001B[38;5;28minput\u001B[39m()\n\u001B[1;32m      6\u001B[0m a \u001B[38;5;241m=\u001B[39m np\u001B[38;5;241m.\u001B[39marray(\u001B[38;5;28mlist\u001B[39m(\u001B[38;5;28mmap\u001B[39m(\u001B[38;5;28mint\u001B[39m, s\u001B[38;5;241m.\u001B[39msplit())))\n\u001B[0;32m----> 7\u001B[0m \u001B[38;5;28mprint\u001B[39m(\u001B[43mget_nearest\u001B[49m\u001B[43m(\u001B[49m\u001B[43ma\u001B[49m\u001B[43m)\u001B[49m)\n",
      "Cell \u001B[0;32mIn[4], line 2\u001B[0m, in \u001B[0;36mget_nearest\u001B[0;34m(arr)\u001B[0m\n\u001B[1;32m      1\u001B[0m \u001B[38;5;28;01mdef\u001B[39;00m \u001B[38;5;21mget_nearest\u001B[39m(arr):\n\u001B[0;32m----> 2\u001B[0m     \u001B[38;5;28;01mreturn\u001B[39;00m arr[\u001B[43mnp\u001B[49m\u001B[38;5;241;43m.\u001B[39;49m\u001B[43mabs\u001B[49m\u001B[43m(\u001B[49m\u001B[43marr\u001B[49m\u001B[43m)\u001B[49m\u001B[38;5;241;43m.\u001B[39;49m\u001B[43margmin\u001B[49m\u001B[43m(\u001B[49m\u001B[43m)\u001B[49m]\n",
      "\u001B[0;31mValueError\u001B[0m: attempt to get argmin of an empty sequence"
     ]
    }
   ],
   "source": [
    "#1\n",
    "def get_nearest(arr):\n",
    "    return arr[np.abs(arr).argmin()]\n",
    "\n",
    "\n",
    "s = input()\n",
    "a = np.array(list(map(int, s.split())))\n",
    "print(get_nearest(a))"
   ],
   "metadata": {
    "collapsed": false,
    "ExecuteTime": {
     "end_time": "2023-11-17T09:39:50.065747917Z",
     "start_time": "2023-11-17T09:39:48.934910909Z"
    }
   },
   "id": "6acdb03e06ab8e1"
  },
  {
   "cell_type": "code",
   "execution_count": null,
   "outputs": [],
   "source": [
    "#2\n",
    "def make_chess_matrix(p):\n",
    "    a = np.zeros((p, p), int)\n",
    "    a[1::2, ::2] = 1\n",
    "    a[::2, 1::2] = 1\n",
    "    return a\n",
    "\n",
    "\n",
    "n = int(input())\n",
    "m = make_chess_matrix(n)\n",
    "for i in m:\n",
    "    print(*i)"
   ],
   "metadata": {
    "collapsed": false
   },
   "id": "55a01b80674a427"
  },
  {
   "cell_type": "code",
   "execution_count": null,
   "outputs": [],
   "source": [
    "# 3\n",
    "def has_zero_column(arr):\n",
    "    pass\n",
    "\n",
    "\n",
    "m = []\n",
    "\n",
    "for i in range(5):\n",
    "    m.append(list(map(int, input().split())))\n",
    "\n",
    "arr = np.transpose(np.array(m))\n",
    "b = np.any(np.all(arr == 0, axis=1))\n",
    "print(b)"
   ],
   "metadata": {
    "collapsed": false
   },
   "id": "17ef2f7aff472ef2"
  },
  {
   "cell_type": "code",
   "execution_count": 3,
   "outputs": [],
   "source": [
    "#4\n",
    "def symetric(arr):\n",
    "    return np.array_equal(arr, arr.T)\n",
    "\n",
    "\n",
    "m = []\n",
    "\n",
    "for i in open('input.txt', 'r'):\n",
    "    m.append(list(map(int, i.split())))\n",
    "\n",
    "\n",
    "print(symetric(np.array(m)))"
   ],
   "metadata": {
    "collapsed": false,
    "ExecuteTime": {
     "end_time": "2023-11-17T09:38:48.306111790Z",
     "start_time": "2023-11-17T09:38:48.249111409Z"
    }
   },
   "id": "25c1c4778934d7f"
  },
  {
   "cell_type": "code",
   "execution_count": null,
   "outputs": [],
   "source": [
    "#5\n",
    "m = []\n",
    "\n",
    "for i in open('input.txt', 'r'):\n",
    "    m.append(list(map(int, input().split())))\n",
    "\n",
    "arr = np.array(m)\n",
    "print(*np.where(np.sum(arr, axis=1) == np.max(np.sum(arr, axis=1)))[0])"
   ],
   "metadata": {
    "collapsed": false
   },
   "id": "6e0b3848e49d8ec9"
  },
  {
   "cell_type": "code",
   "execution_count": null,
   "outputs": [],
   "source": [
    "#7\n",
    "d = pd.read_csv('input.csv')\n",
    "\n",
    "id = d[d['STD_ID'] == 99125]\n",
    "\n",
    "print(len(id[id['АТТЕСТАЦИЯ'] == 'Экзамен']))\n",
    "print(f\"{id[id['АТТЕСТАЦИЯ'] == 'Экзамен']['mark'].mean():.2f}\")"
   ],
   "metadata": {
    "collapsed": false
   },
   "id": "f5d0b3da7e85f291"
  },
  {
   "cell_type": "code",
   "execution_count": null,
   "outputs": [],
   "source": [
    "#8\n",
    "d = pd.read_csv('input.csv')\n",
    "a = d[d['ДИСЦИПЛИНА'] == 'Компьютерные технологии в дизайне']\n",
    "a.groupby(['ГОД', 'ДИСЦИПЛИНА'], as_index=False)['mark'].mean().to_csv('output.csv', index=False)"
   ],
   "metadata": {
    "collapsed": false
   },
   "id": "a0850d09432c53f7"
  }
 ],
 "metadata": {
  "kernelspec": {
   "display_name": "Python 3",
   "language": "python",
   "name": "python3"
  },
  "language_info": {
   "codemirror_mode": {
    "name": "ipython",
    "version": 2
   },
   "file_extension": ".py",
   "mimetype": "text/x-python",
   "name": "python",
   "nbconvert_exporter": "python",
   "pygments_lexer": "ipython2",
   "version": "2.7.6"
  }
 },
 "nbformat": 4,
 "nbformat_minor": 5
}
