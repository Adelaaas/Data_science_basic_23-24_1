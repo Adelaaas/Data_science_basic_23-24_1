{
  "nbformat": 4,
  "nbformat_minor": 0,
  "metadata": {
    "colab": {
      "provenance": []
    },
    "kernelspec": {
      "name": "python3",
      "display_name": "Python 3"
    },
    "language_info": {
      "name": "python"
    }
  },
  "cells": [
    {
      "cell_type": "code",
      "execution_count": 2,
      "metadata": {
        "colab": {
          "base_uri": "https://localhost:8080/"
        },
        "id": "EDYh2APH0Osq",
        "outputId": "43839522-a2fc-46a2-85fd-43024c838daa"
      },
      "outputs": [
        {
          "output_type": "stream",
          "name": "stdout",
          "text": [
            "2 7 6 5  3\n",
            "2\n"
          ]
        }
      ],
      "source": [
        "#Задача A\n",
        "import numpy as np\n",
        "def get_nearest(arr):\n",
        "  n = np.abs(arr).argmin()\n",
        "  x = arr[n]\n",
        "  return x\n",
        "arr = np.array(input().split(),int)\n",
        "ans = get_nearest(arr)\n",
        "print(ans)"
      ]
    },
    {
      "cell_type": "code",
      "source": [
        "#Задача B\n",
        "import numpy as np\n",
        "def make_chess_matrix(a):\n",
        "  b = np.zeros((a,a),dtype=int)\n",
        "  b[1::2,::2] = 1\n",
        "  b[::2,1::2] = 1\n",
        "  return b\n",
        "a = int(input())\n",
        "x = make_chess_matrix(n)\n",
        "print ('\\n'.join(' '.join(str(cell) for cell in row) for row in x))"
      ],
      "metadata": {
        "id": "U7E-a2NA0Td9"
      },
      "execution_count": null,
      "outputs": []
    },
    {
      "cell_type": "code",
      "source": [
        "#Задача D\n",
        "import numpy as np\n",
        "def symetric(arr):\n",
        "    if (np.array_equal(arr, arr.T)):\n",
        "        return True\n",
        "    else:\n",
        "        return False\n",
        "with open('input.txt') as file:\n",
        "    arr = np.array([[int(digit) for digit in line.split()] for line in file])\n",
        "x = symetric(arr)\n",
        "print(x)\n"
      ],
      "metadata": {
        "id": "VTT1sWtA0Ubf"
      },
      "execution_count": null,
      "outputs": []
    },
    {
      "cell_type": "code",
      "source": [
        "#Задача E\n",
        "import numpy as np\n",
        "with open('input.txt') as file:\n",
        "    arr = np.array([[int(digit) for digit in line.split()] for line in file])\n",
        "    a = np.sum(arr, axis=1)\n",
        "    b = np.where(a == np.max(a))[0]\n",
        "    print(*b)"
      ],
      "metadata": {
        "id": "IdFFQvxM0Ux2"
      },
      "execution_count": null,
      "outputs": []
    },
    {
      "cell_type": "code",
      "source": [
        "#Задача G\n",
        "import pandas as pd\n",
        "x = pd.read_csv('input.csv')\n",
        "\n",
        "a = x[x['STD_ID'] == 99125]\n",
        "\n",
        "print(len(a[a['АТТЕСТАЦИЯ'] == 'Экзамен']))\n",
        "print(f\"{a[a['АТТЕСТАЦИЯ'] == 'Экзамен']['mark'].mean():.2f}\")"
      ],
      "metadata": {
        "id": "zVnn4was0VHw"
      },
      "execution_count": null,
      "outputs": []
    }
  ]
}